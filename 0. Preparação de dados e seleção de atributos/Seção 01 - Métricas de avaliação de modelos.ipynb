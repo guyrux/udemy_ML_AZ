{
 "cells": [
  {
   "cell_type": "markdown",
   "metadata": {},
   "source": [
    "# Seção 01 - Métricas de avaliação de modelos\n",
    "\n",
    "\n",
    "\n",
    "Exemplos:\n",
    "1. Regressão: RMSE, MAE, R²\n",
    "2. Classificação: AUC, F1, Recall, Precision\n",
    "3. Agrupamento: KS, Gini "
   ]
  },
  {
   "cell_type": "markdown",
   "metadata": {},
   "source": [
    "<img src=\"./imagens/diagramaDeDecisao.jpg\" alt=\"Diagrama de decisão bem simpifcado\" width=\"600\"/>"
   ]
  },
  {
   "cell_type": "markdown",
   "metadata": {},
   "source": [
    "Esse pequeno notebook será organizado da seguinte maneira:\n",
    "\n",
    "1. [Métricas de avaliação para problemas de **Regressão**](#Métricas-de-avaliação-de-Regressão)\n",
    "2. [Métricas de avaliação para problemas de **Classificação**](#Métricas-de-avaliação-de-Classificação)\n",
    "3. [Métricas de avaliação para problemas de **Agrupamento**](#Métricas-de-avaliação-de-Agrupamento)"
   ]
  },
  {
   "cell_type": "markdown",
   "metadata": {},
   "source": [
    "## 1. Métricas de avaliação de Regressão\n",
    "#Métricas-de-avaliação-de-Regressão\n",
    "\n",
    "As métricas de avaliação em problemas de **regressão** mais comuns são (estão em ordem da minha preferência de uso):\n",
    "1. RMSE (Root Mean Square Error); \n",
    "2. MAE (Mean Absolute Error);\n",
    "3. MAPE (Mean Absolute Percentage Error);\n",
    "4. R²;\n",
    "5. R² Ajustado; e\n",
    "6. MSE (Mean Square Error)"
   ]
  },
  {
   "cell_type": "markdown",
   "metadata": {},
   "source": [
    "### 1. RMSE (Root Mean Square Error)\n",
    "\n",
    "Essa é a métrica que eu tenho visto mais por aí. Um ponto muito importante sobre essa métrica é que a unidade é a mesma da característica, o que facilita a interpretação.\n",
    "\n",
    "#### Método de cálculo:\n",
    "$$\n",
    "RMSE = \t\\sqrt{\\frac{1}{n}\\sum_{i=1}^{n}(y_{real_i}-\\hat{y}_{predito_i})^2}\n",
    "$$"
   ]
  },
  {
   "cell_type": "markdown",
   "metadata": {},
   "source": [
    "### 2. MAE (Mean Absolute Error)\n",
    "\n",
    "A unidade dessa métrica é a mesma da característica, o que facilita a interpretação. No Pocket Curso do Itaú na Poli, foi sugerido que o MAE deve ser usado no treinamento do modelo e o RMSE ou MSE na validação, a aplicação dessas métricas nessa ordem deve-se ao fato de que o **MAE é menos sensível aos outliers que o RMSE**.  \n",
    "\n",
    "#### Método de cálculo:\n",
    "$$\n",
    "MAE = \\frac{1}{n}\\sum_{i=1}^{n}|(y_{real_i}-\\hat{y}_{predito_i})|\n",
    "$$"
   ]
  },
  {
   "cell_type": "markdown",
   "metadata": {},
   "source": [
    "### 3. MAPE (Mean Absolute Percentage Error)\n",
    "\n",
    "Similar ao MAE, porém, em porcentagem."
   ]
  },
  {
   "cell_type": "markdown",
   "metadata": {},
   "source": [
    "### 4. R²\n",
    "\n",
    "#### Método de cálculo:\n",
    "$$\n",
    "R² = 1-\\sum_{i=1}^{i}\\frac{(y_{real_i}-\\hat{y}_{predito_i})^2}{(y_{real_i}-\\bar{y})^2}\n",
    "$$"
   ]
  },
  {
   "cell_type": "markdown",
   "metadata": {},
   "source": [
    "### 5. R² Ajustado\n",
    "#### Método de cálculo:\n",
    "$$\n",
    "R²_{Ajustado} = 1-\\frac{n-1}{n-(k+1)}(1-R²)\n",
    "$$\n",
    "Sendo:\n",
    "\n",
    "n: quantidade de obsevações ou tamanho da amostra}\n",
    "\n",
    "k: número de regressores\n",
    "\n",
    "\n",
    "Lembrando que R² é\n",
    "$$\n",
    "R² = 1-\\sum_{i=1}^{i}\\frac{(y_{real_i}-y_{predito_i})^2}{(y_{real_i}-\\bar{y})^2}\n",
    "$$"
   ]
  },
  {
   "cell_type": "markdown",
   "metadata": {},
   "source": [
    "### 6. MSE (Mean Square Error)\n",
    "\n",
    "Similar ao RMSE, porém sem a raiz quadrada."
   ]
  },
  {
   "cell_type": "markdown",
   "metadata": {},
   "source": [
    "## Exemplo de aplicação:\n",
    "\n",
    "Para testar as métricas acima, usaremos o dataset do Kaggle \"Heights and weights - Simple linear regression\" (https://www.kaggle.com/tmcketterick/heights-and-weights/download)."
   ]
  },
  {
   "cell_type": "code",
   "execution_count": 2,
   "metadata": {},
   "outputs": [],
   "source": [
    "# Instruções basiconas de sempre.\n",
    "# Lidar com dataframes.\n",
    "import numpy as np\n",
    "import pandas as pd\n",
    "# Lidar com gráficos.\n",
    "import matplotlib.pyplot as plt\n",
    "import seaborn as sns\n",
    "# Lidar com preparação de dados.\n",
    "from sklearn.model_selection import train_test_split\n",
    "from sklearn.model_selection import cross_val_score\n",
    "# Lidar com validação de modelos.\n",
    "from sklearn.metrics import confusion_matrix, accuracy_score, classification_report\n",
    "pd.set_option('display.max_columns', None)\n",
    "pd.set_option('display.max_colwidth', -1)\n",
    "pd.set_option('display.max_rows', 500)"
   ]
  },
  {
   "cell_type": "code",
   "execution_count": 3,
   "metadata": {},
   "outputs": [],
   "source": [
    "df = pd.read_csv(\"../bases/heights-and-weights.csv\")"
   ]
  },
  {
   "cell_type": "code",
   "execution_count": 4,
   "metadata": {},
   "outputs": [],
   "source": [
    "x = df.iloc[:, 0].values.reshape(-1,1)\n",
    "y = df.iloc[:, 1].values.reshape(-1,1)\n",
    "\n",
    "x_train, x_test, y_train, y_test = train_test_split(x, y, test_size=0.2, random_state=42)\n",
    "\n",
    "from sklearn.linear_model import LinearRegression\n",
    "regressor = LinearRegression()\n",
    "\n",
    "regressor.fit(x_train, y_train)\n",
    "y_pred = regressor.predict(x_test)"
   ]
  },
  {
   "cell_type": "code",
   "execution_count": 5,
   "metadata": {},
   "outputs": [],
   "source": [
    "reta_x = np.linspace(min(x)-5, max(x)+5,1000).reshape(-1,1)\n",
    "reta_y = regressor.predict(reta_x)\n",
    "reta_df = np.concatenate((reta_x, reta_y), axis=1)\n",
    "reta_df = pd.DataFrame(reta_df, columns=(\"Height\", \"Weight\"))"
   ]
  },
  {
   "cell_type": "code",
   "execution_count": 6,
   "metadata": {},
   "outputs": [
    {
     "data": {
      "image/png": "[encoded data removed]",
      "text/plain": [
       "<Figure size 288x144 with 1 Axes>"
      ]
     },
     "metadata": {
      "needs_background": "light"
     },
     "output_type": "display_data"
    }
   ],
   "source": [
    "dimensoes = (4,2)\n",
    "fig, ax = plt.subplots(figsize=dimensoes)\n",
    "ax.set(xlim = (min(x)-0.05, max(x)+0.05),ylim=(min(y)-1, max(y)+1))\n",
    "ax = sns.scatterplot(x=\"Height\", y=\"Weight\", data=df, alpha=0.75);\n",
    "ax = sns.lineplot(x=\"Height\", y=\"Weight\", data=reta_df, alpha=0.5, palette=\"husl\");"
   ]
  },
  {
   "cell_type": "code",
   "execution_count": 7,
   "metadata": {},
   "outputs": [
    {
     "data": {
      "text/plain": [
       "3"
      ]
     },
     "execution_count": 7,
     "metadata": {},
     "output_type": "execute_result"
    }
   ],
   "source": [
    "len(x_test)"
   ]
  },
  {
   "cell_type": "code",
   "execution_count": 8,
   "metadata": {},
   "outputs": [
    {
     "name": "stdout",
     "output_type": "stream",
     "text": [
      "RMSE: 1.0015\n",
      "MAE: 0.82073\n",
      "R2: 0.9783\n",
      "R2 Ajustado: 0.97613\n",
      "MSE: 1.003\n"
     ]
    }
   ],
   "source": [
    "from sklearn.metrics import mean_absolute_error, mean_squared_error, r2_score\n",
    "\n",
    "print(\"RMSE: {:.5}\".format(np.sqrt(mean_squared_error(y_test, y_pred))))\n",
    "print(\"MAE: {:.5}\".format(mean_absolute_error(y_test, y_pred)))\n",
    "# print(\"MAPE:, \", mean_absolute_percentage_error(y_test, y_pred))\n",
    "print(\"R2: {:.5}\".format(r2_score(y_test, y_pred)))\n",
    "\n",
    "################################################################################\n",
    "# Cálculo do R2 ajustado:\n",
    "def r2_ajustado(x_train, y_test, y_pred):\n",
    "    \"\"\"\n",
    "    r2_ajustado retorna o R² Ajustado e recebe como argumento as séries com o\n",
    "    valor alvo teste e o predito.\n",
    "    \"\"\"\n",
    "    n = x_train.shape[0]\n",
    "    k = x_train.shape[1]\n",
    "    return (1-((n-1)/(n-(k+1)))*(1-r2_score(y_test, y_pred)))\n",
    "################################################################################\n",
    "\n",
    "print(\"R2 Ajustado: {:.5}\".format(r2_ajustado(x_train, y_test, y_pred)))\n",
    "print(\"MSE: {:.5}\".format(mean_squared_error(y_test, y_pred)))"
   ]
  },
  {
   "cell_type": "markdown",
   "metadata": {},
   "source": [
    "<h4 style=\"text-align:center\">--------------------------------------------------------------------------------------------------------- </h4>\n"
   ]
  },
  {
   "cell_type": "markdown",
   "metadata": {},
   "source": [
    "## 2. Métricas de avaliação para problemas de **Classificação**\n",
    "\n",
    "#Métricas-de-avaliação-de-Classificação\n",
    "\n",
    "A base das métricas de classificação que serão apresentadas é a matriz de confusão, Figura 02 e Figura 03 (Fonte: [Documentação Scikit Learn](https://scikit-learn.org/stable/auto_examples/model_selection/plot_confusion_matrix.html))."
   ]
  },
  {
   "cell_type": "markdown",
   "metadata": {},
   "source": [
    "<tr>\n",
    "    <td>\n",
    "        <img src=\"./imagens/sphx_glr_plot_confusion_matrix_001.png\" alt=\"Matriz de confusão\" width=\"400\"/>\n",
    "        <p style=\"text-align:center\">Figura 02 - Matriz de confusão.</p>\n",
    "    </td>\n",
    "    <td>\n",
    "        <img src=\"./imagens/sphx_glr_plot_confusion_matrix_002.png\" alt=\"Matriz de confusão\" width=\"400\"/>\n",
    "        <p style=\"text-align:center\">Figura 03 - Matriz de confusão normalizada.</p>\n",
    "    </td>\n",
    "  </tr>"
   ]
  },
  {
   "cell_type": "markdown",
   "metadata": {},
   "source": [
    "A matriz de confusão é simplesmente a contagem das ocorrências de cada evento. Observando a Figura 02, temos os seguintes eventos e quantidade de ocorrências:\n",
    "1. **Setosa** classificada como **Setosa**: 13 ocorrências.\n",
    "2. **Setosa** classificada como **Versicolor**: 0 ocorrências.\n",
    "3. **Setosa** classificada como **Virginica**: 0 ocorrências.\n",
    "\n",
    "\n",
    "4. **Versicolor** classificada como **Setosa**: 0 ocorrências.\n",
    "5. **Versicolor** classificada como **Versicolor**: 10 ocorrências.\n",
    "6. **Versicolor** classificada como **Virginica**: 6 ocorrências.\n",
    "\n",
    "\n",
    "7. **Virginica** classificada como **Setosa**: 0 ocorrências.\n",
    "8. **Virginica** classificada como **Versicolor**: 0 ocorrências.\n",
    "9. **Virginica** classificada como **Virginica**: 9 ocorrências.\n",
    "\n",
    "\n",
    "Já na Figura 03, temos a matriz de confusão **normalizada**."
   ]
  },
  {
   "cell_type": "markdown",
   "metadata": {},
   "source": [
    "Da matriz de confusão derivam os seguintes termos:\n",
    "\n",
    "| Abreviação | Termo | Definição |\n",
    "|---|---|---|\n",
    "| **VP ou TP** | Verdadeiro Positivo | Valor real e Valor predito são **POSITIVOS** |\n",
    "| **FN** | Falso Negativo | Valor real é **POSITIVO** e Valor predito é **NEGATIVO** |\n",
    "| **FP** | Falso Positivo | Valor real é **NEGATIVO** e Valor predito é **POSITIVO** |\n",
    "| **VN ou TN** | Verdadeiro Negativo | Valor real e Valor predito são **NEGATIVOS** |\n",
    "\n",
    "<p style=\"text-align:center\">Tabela 01 - Abreviação, termo e definição dos itens dentro de uma matriz de confusão.</p>\n",
    "\n",
    "Substituindo-se os termos em um matriz de confusão com duas classes, teremos:\n",
    "\n",
    "<img src=\"./imagens/confusion_matrix.PNG\" alt=\"Matriz de confusão\" width=\"250\"/>\n",
    "        <p style=\"text-align:center\">Figura 04 - Matriz de confusão e seus termos. Fonte: <a href=\"https://en.wikipedia.org/wiki/Confusion_matrix\">Wikipedia</a></p>"
   ]
  },
  {
   "cell_type": "markdown",
   "metadata": {},
   "source": [
    "Da matriz de confusão, podemos tirar as seguintes métricas:\n",
    "\n",
    "**1. Precisão (Precision):**\n",
    "$$\n",
    "Pr = \\frac{VP}{FP + VP}\n",
    "$$\n",
    "\n",
    "**2. Revocação (Recall):**\n",
    "$$\n",
    "Re = \\frac{VP}{FN + VP}\n",
    "$$\n",
    "\n",
    "**3. Acurácia:**\n",
    "$$\n",
    "Acc = \\frac{VP + VN}{VP + FP + VN + FN}\n",
    "$$\n",
    "\n",
    "**4. Erro:**\n",
    "$$\n",
    "E = {1 - Acc}\n",
    "$$\n",
    "\n",
    "**5. F1-Score:**\n",
    "$$\n",
    "F1 = \\frac{2 * Pr + Re}{Pr + Re}\n",
    "$$"
   ]
  },
  {
   "cell_type": "markdown",
   "metadata": {},
   "source": [
    "## K-fold cross validation\n",
    "\n",
    "Um problema que pode ocorrer quando dividimos as bases em treinamento e teste é que dados importantes para determinação do modelo podem ficar no conjunto de teste. Para reduzir esse risco usa-se o **k-fold cross validation**, ilustrado aaixo:\n",
    "\n",
    "<img src=\"./imagens/grid_search_cross_validation.png\" alt=\"k-fold cross validation\" width=\"500\"/>\n",
    "        <p style=\"text-align:center\">Figura 05 - Esquema do k-fold cross validation. Fonte: <a href=\"https://scikit-learn.org/stable/modules/cross_validation.html#cross-validation\">Documentação do Scikit learn</a></p>"
   ]
  },
  {
   "cell_type": "code",
   "execution_count": 9,
   "metadata": {},
   "outputs": [
    {
     "name": "stdout",
     "output_type": "stream",
     "text": [
      "Métrica 1 (Acurácia): 0.938.\n",
      "Métrica 2 (Relatório de classificação):\n",
      "              precision    recall  f1-score   support\n",
      "\n",
      "           0       0.95      0.98      0.97       436\n",
      "           1       0.84      0.64      0.73        64\n",
      "\n",
      "   micro avg       0.94      0.94      0.94       500\n",
      "   macro avg       0.89      0.81      0.85       500\n",
      "weighted avg       0.93      0.94      0.93       500\n",
      ".\n",
      "Métrica 3 (Relatório de classificação):\n",
      "[[428   8]\n",
      " [ 23  41]].\n"
     ]
    }
   ],
   "source": [
    "import pandas as pd\n",
    "import numpy as np\n",
    "\n",
    "base = pd.read_csv('../bases/credit-data.csv')\n",
    "base.loc[base.age < 0, 'age'] = 40.92\n",
    "               \n",
    "previsores = base.iloc[:, 1:4].values\n",
    "classe = base.iloc[:, 4].values\n",
    "\n",
    "from sklearn.impute import SimpleImputer\n",
    "imputer = SimpleImputer(missing_values = np.nan, strategy = 'mean')\n",
    "imputer = imputer.fit(previsores[:, 1:4])\n",
    "previsores[:, 1:4] = imputer.transform(previsores[:, 1:4])\n",
    "\n",
    "from sklearn.preprocessing import StandardScaler\n",
    "scaler = StandardScaler()\n",
    "previsores = scaler.fit_transform(previsores)\n",
    "\n",
    "from sklearn.model_selection import train_test_split\n",
    "previsores_treinamento, previsores_teste, classe_treinamento, classe_teste = train_test_split(previsores,\n",
    "                                                                                              classe,\n",
    "                                                                                              test_size=0.25,\n",
    "                                                                                              random_state=0)\n",
    "\n",
    "from sklearn.model_selection import cross_val_score\n",
    "from sklearn.naive_bayes import GaussianNB\n",
    "\n",
    "classificador = GaussianNB()\n",
    "classificador.fit(previsores_treinamento, classe_treinamento)\n",
    "previsoes = classificador.predict(previsores_teste)\n",
    "\n",
    "from sklearn.metrics import confusion_matrix, accuracy_score, classification_report, roc_curve, roc_auc_score\n",
    "\n",
    "print(\"Métrica 1 (Acurácia): {:.6}.\".format(\n",
    "    accuracy_score(classe_teste, previsoes, normalize=True, sample_weight=None)))\n",
    "print(\"Métrica 2 (Relatório de classificação):\\n{}.\".format(\n",
    "    classification_report(classe_teste, previsoes)))"
   ]
  },
  {
   "cell_type": "code",
   "execution_count": 10,
   "metadata": {},
   "outputs": [
    {
     "name": "stdout",
     "output_type": "stream",
     "text": [
      "Métrica 1 (Acurácia): 0.924 ± 0.019\n"
     ]
    }
   ],
   "source": [
    "# Agora com cross_validation:\n",
    "\n",
    "classificador = GaussianNB()\n",
    "\n",
    "resultados = cross_val_score(classificador, previsores, classe, cv=10)\n",
    "\n",
    "classificador.fit(previsores_treinamento, classe_treinamento)\n",
    "previsoes = classificador.predict(previsores_teste)\n",
    "\n",
    "print(\"Métrica 1 (Acurácia): {:.3} ± {:.2}\".format(resultados.mean(), resultados.std()))"
   ]
  },
  {
   "cell_type": "code",
   "execution_count": 18,
   "metadata": {},
   "outputs": [
    {
     "name": "stdout",
     "output_type": "stream",
     "text": [
      "Métrica 1 (Acurácia): 0.925 ± 0.014\n"
     ]
    }
   ],
   "source": [
    "# Agora com cross_validation stratified k-fold:\n",
    "\n",
    "a = np.zeros(5)\n",
    "b = np.zeros(shape = (previsores.shape[0], 1))\n",
    "\n",
    "from sklearn.model_selection import StratifiedKFold\n",
    "\n",
    "kfold = StratifiedKFold(n_splits=10, shuffle=True, random_state=0)\n",
    "\n",
    "resultados = []\n",
    "\n",
    "for indice_treinamento, indice_teste in kfold.split(previsores, b):\n",
    "#     print(indice_treinamento.shape, indice_teste.shape)\n",
    "    classificador = GaussianNB()\n",
    "    classificador.fit(previsores[indice_treinamento], classe[indice_treinamento])\n",
    "    previsoes = classificador.predict(previsores[indice_teste])\n",
    "    resultados.append(accuracy_score(classe[indice_teste], previsoes))\n",
    "\n",
    "resultados = np.asarray(resultados)\n",
    "print(\"Métrica 1 (Acurácia): {:.3} ± {:.2}\".format(resultados.mean(), resultados.std()))"
   ]
  },
  {
   "cell_type": "markdown",
   "metadata": {},
   "source": [
    "# 3. Métricas de avaliação para problemas de Agrupamento\n",
    "#Métricas-de-avaliação-de-Agrupamento"
   ]
  },
  {
   "cell_type": "markdown",
   "metadata": {},
   "source": [
    "Existem três classificações:\n",
    "1. Internos;\n",
    "2. Externos; e\n",
    "3. Relativos."
   ]
  },
  {
   "cell_type": "code",
   "execution_count": null,
   "metadata": {},
   "outputs": [],
   "source": [
    " "
   ]
  }
 ],
 "metadata": {
  "kernelspec": {
   "display_name": "Python 3",
   "language": "python",
   "name": "python3"
  },
  "language_info": {
   "codemirror_mode": {
    "name": "ipython",
    "version": 3
   },
   "file_extension": ".py",
   "mimetype": "text/x-python",
   "name": "python",
   "nbconvert_exporter": "python",
   "pygments_lexer": "ipython3",
   "version": "3.7.0"
  }
 },
 "nbformat": 4,
 "nbformat_minor": 2
}
