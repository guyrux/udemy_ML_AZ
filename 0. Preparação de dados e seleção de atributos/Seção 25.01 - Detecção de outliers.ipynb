{
 "cells": [
  {
   "cell_type": "markdown",
   "metadata": {},
   "source": [
    "# Seção 25 - Detecção de outliers (base census)\n",
    "Para esta seção, usarei a base de dados \"census.csv\" disponibilizada no curso do Professor Jones na UDEMY."
   ]
  },
  {
   "cell_type": "code",
   "execution_count": 2,
   "metadata": {},
   "outputs": [
    {
     "name": "stderr",
     "output_type": "stream",
     "text": [
      "Enabling notebook extension jupyter-js-widgets/extension...\n",
      "      - Validating: ok\n"
     ]
    }
   ],
   "source": [
    "# Instruções basiconas de sempre.\n",
    "\n",
    "# Lidar com dataframes.\n",
    "import numpy as np\n",
    "import pandas as pd\n",
    "\n",
    "# Lidar com gráficos.\n",
    "import matplotlib.pyplot as plt\n",
    "import seaborn as sns\n",
    "import plotly\n",
    "from bokeh.plotting import figure\n",
    "from bokeh.io import show, output_notebook\n",
    "from plotting import (multiple_histograms_plot,\n",
    "                      bar_plot_with_categorical,\n",
    "                      plot_confusion_matrix,\n",
    "                      plot_confusion_matrix_2,\n",
    "                      plot_roc)\n",
    "\n",
    "# Lidar com preparação de dados.\n",
    "from data_prep import data_prep as dp # Eu que fiz esse modulinho (\"uuuuuuuuuma bosts!\").\n",
    "from sklearn.impute import SimpleImputer\n",
    "from sklearn.preprocessing import StandardScaler\n",
    "from sklearn.model_selection import train_test_split\n",
    "from sklearn.model_selection import cross_val_score\n",
    "\n",
    "# Lidar com validação de modelos.\n",
    "from sklearn.metrics import confusion_matrix, accuracy_score, classification_report\n",
    "from sklearn.model_selection import cross_val_score\n",
    "from sklearn.model_selection import StratifiedKFold\n",
    "\n",
    "pd.set_option('display.max_columns', None)  \n",
    "pd.set_option('display.max_colwidth', -1)\n",
    "pd.set_option('display.max_rows', 500)\n",
    "\n",
    "!jupyter nbextension enable --py widgetsnbextension"
   ]
  },
  {
   "cell_type": "code",
   "execution_count": 3,
   "metadata": {},
   "outputs": [],
   "source": [
    "nomeDaBase = \"../bases/census.csv\"\n",
    "df = pd.read_csv(nomeDaBase, sep=\",\", encoding=\"utf-8\")"
   ]
  },
  {
   "cell_type": "code",
   "execution_count": 4,
   "metadata": {},
   "outputs": [
    {
     "data": {
      "text/html": [
       "<div>\n",
       "<style scoped>\n",
       "    .dataframe tbody tr th:only-of-type {\n",
       "        vertical-align: middle;\n",
       "    }\n",
       "\n",
       "    .dataframe tbody tr th {\n",
       "        vertical-align: top;\n",
       "    }\n",
       "\n",
       "    .dataframe thead th {\n",
       "        text-align: right;\n",
       "    }\n",
       "</style>\n",
       "<table border=\"1\" class=\"dataframe\">\n",
       "  <thead>\n",
       "    <tr style=\"text-align: right;\">\n",
       "      <th></th>\n",
       "      <th>0</th>\n",
       "      <th>1</th>\n",
       "      <th>2</th>\n",
       "      <th>3</th>\n",
       "      <th>4</th>\n",
       "    </tr>\n",
       "  </thead>\n",
       "  <tbody>\n",
       "    <tr>\n",
       "      <th>age</th>\n",
       "      <td>39</td>\n",
       "      <td>50</td>\n",
       "      <td>38</td>\n",
       "      <td>53</td>\n",
       "      <td>28</td>\n",
       "    </tr>\n",
       "    <tr>\n",
       "      <th>workclass</th>\n",
       "      <td>State-gov</td>\n",
       "      <td>Self-emp-not-inc</td>\n",
       "      <td>Private</td>\n",
       "      <td>Private</td>\n",
       "      <td>Private</td>\n",
       "    </tr>\n",
       "    <tr>\n",
       "      <th>final-weight</th>\n",
       "      <td>77516</td>\n",
       "      <td>83311</td>\n",
       "      <td>215646</td>\n",
       "      <td>234721</td>\n",
       "      <td>338409</td>\n",
       "    </tr>\n",
       "    <tr>\n",
       "      <th>education</th>\n",
       "      <td>Bachelors</td>\n",
       "      <td>Bachelors</td>\n",
       "      <td>HS-grad</td>\n",
       "      <td>11th</td>\n",
       "      <td>Bachelors</td>\n",
       "    </tr>\n",
       "    <tr>\n",
       "      <th>education-num</th>\n",
       "      <td>13</td>\n",
       "      <td>13</td>\n",
       "      <td>9</td>\n",
       "      <td>7</td>\n",
       "      <td>13</td>\n",
       "    </tr>\n",
       "    <tr>\n",
       "      <th>marital-status</th>\n",
       "      <td>Never-married</td>\n",
       "      <td>Married-civ-spouse</td>\n",
       "      <td>Divorced</td>\n",
       "      <td>Married-civ-spouse</td>\n",
       "      <td>Married-civ-spouse</td>\n",
       "    </tr>\n",
       "    <tr>\n",
       "      <th>occupation</th>\n",
       "      <td>Adm-clerical</td>\n",
       "      <td>Exec-managerial</td>\n",
       "      <td>Handlers-cleaners</td>\n",
       "      <td>Handlers-cleaners</td>\n",
       "      <td>Prof-specialty</td>\n",
       "    </tr>\n",
       "    <tr>\n",
       "      <th>relationship</th>\n",
       "      <td>Not-in-family</td>\n",
       "      <td>Husband</td>\n",
       "      <td>Not-in-family</td>\n",
       "      <td>Husband</td>\n",
       "      <td>Wife</td>\n",
       "    </tr>\n",
       "    <tr>\n",
       "      <th>race</th>\n",
       "      <td>White</td>\n",
       "      <td>White</td>\n",
       "      <td>White</td>\n",
       "      <td>Black</td>\n",
       "      <td>Black</td>\n",
       "    </tr>\n",
       "    <tr>\n",
       "      <th>sex</th>\n",
       "      <td>Male</td>\n",
       "      <td>Male</td>\n",
       "      <td>Male</td>\n",
       "      <td>Male</td>\n",
       "      <td>Female</td>\n",
       "    </tr>\n",
       "    <tr>\n",
       "      <th>capital-gain</th>\n",
       "      <td>2174</td>\n",
       "      <td>0</td>\n",
       "      <td>0</td>\n",
       "      <td>0</td>\n",
       "      <td>0</td>\n",
       "    </tr>\n",
       "    <tr>\n",
       "      <th>capital-loos</th>\n",
       "      <td>0</td>\n",
       "      <td>0</td>\n",
       "      <td>0</td>\n",
       "      <td>0</td>\n",
       "      <td>0</td>\n",
       "    </tr>\n",
       "    <tr>\n",
       "      <th>hour-per-week</th>\n",
       "      <td>40</td>\n",
       "      <td>13</td>\n",
       "      <td>40</td>\n",
       "      <td>40</td>\n",
       "      <td>40</td>\n",
       "    </tr>\n",
       "    <tr>\n",
       "      <th>native-country</th>\n",
       "      <td>United-States</td>\n",
       "      <td>United-States</td>\n",
       "      <td>United-States</td>\n",
       "      <td>United-States</td>\n",
       "      <td>Cuba</td>\n",
       "    </tr>\n",
       "    <tr>\n",
       "      <th>income</th>\n",
       "      <td>&lt;=50K</td>\n",
       "      <td>&lt;=50K</td>\n",
       "      <td>&lt;=50K</td>\n",
       "      <td>&lt;=50K</td>\n",
       "      <td>&lt;=50K</td>\n",
       "    </tr>\n",
       "  </tbody>\n",
       "</table>\n",
       "</div>"
      ],
      "text/plain": [
       "                             0                    1                   2  \\\n",
       "age             39              50                   38                   \n",
       "workclass        State-gov       Self-emp-not-inc     Private             \n",
       "final-weight    77516           83311                215646               \n",
       "education        Bachelors       Bachelors            HS-grad             \n",
       "education-num   13              13                   9                    \n",
       "marital-status   Never-married   Married-civ-spouse   Divorced            \n",
       "occupation       Adm-clerical    Exec-managerial      Handlers-cleaners   \n",
       "relationship     Not-in-family   Husband              Not-in-family       \n",
       "race             White           White                White               \n",
       "sex              Male            Male                 Male                \n",
       "capital-gain    2174            0                    0                    \n",
       "capital-loos    0               0                    0                    \n",
       "hour-per-week   40              13                   40                   \n",
       "native-country   United-States   United-States        United-States       \n",
       "income           <=50K           <=50K                <=50K               \n",
       "\n",
       "                                  3                    4  \n",
       "age             53                   28                   \n",
       "workclass        Private              Private             \n",
       "final-weight    234721               338409               \n",
       "education        11th                 Bachelors           \n",
       "education-num   7                    13                   \n",
       "marital-status   Married-civ-spouse   Married-civ-spouse  \n",
       "occupation       Handlers-cleaners    Prof-specialty      \n",
       "relationship     Husband              Wife                \n",
       "race             Black                Black               \n",
       "sex              Male                 Female              \n",
       "capital-gain    0                    0                    \n",
       "capital-loos    0                    0                    \n",
       "hour-per-week   40                   40                   \n",
       "native-country   United-States        Cuba                \n",
       "income           <=50K                <=50K               "
      ]
     },
     "execution_count": 4,
     "metadata": {},
     "output_type": "execute_result"
    }
   ],
   "source": [
    "df.head().T"
   ]
  },
  {
   "cell_type": "code",
   "execution_count": 6,
   "metadata": {},
   "outputs": [
    {
     "name": "stdout",
     "output_type": "stream",
     "text": [
      "<class 'pandas.core.frame.DataFrame'>\n",
      "RangeIndex: 32561 entries, 0 to 32560\n",
      "Data columns (total 15 columns):\n",
      "age               32561 non-null int64\n",
      "workclass         32561 non-null object\n",
      "final-weight      32561 non-null int64\n",
      "education         32561 non-null object\n",
      "education-num     32561 non-null int64\n",
      "marital-status    32561 non-null object\n",
      "occupation        32561 non-null object\n",
      "relationship      32561 non-null object\n",
      "race              32561 non-null object\n",
      "sex               32561 non-null object\n",
      "capital-gain      32561 non-null int64\n",
      "capital-loos      32561 non-null int64\n",
      "hour-per-week     32561 non-null int64\n",
      "native-country    32561 non-null object\n",
      "income            32561 non-null object\n",
      "dtypes: int64(6), object(9)\n",
      "memory usage: 3.7+ MB\n"
     ]
    }
   ],
   "source": [
    "df.info()"
   ]
  },
  {
   "cell_type": "code",
   "execution_count": 7,
   "metadata": {},
   "outputs": [],
   "source": [
    "listaAtributosNumericos = list(df.describe().columns)"
   ]
  },
  {
   "cell_type": "markdown",
   "metadata": {},
   "source": [
    "### Problemas encontrados na base:\n",
    "\n",
    "Não foram encontrados problemas na base. Não há valores nulos e nenhum valor incoerente.\n",
    "**Um ponto de atenção é o valor \"?\" nos atributos \"workclass\", \"occupation\" e \"native-country\".**\n",
    "\n",
    "#### OBSERVAÇÃO:\n",
    "\n",
    "No mundo real, os problemas com as bases são muito piores. Deve-se ter muita atenção pois os dados podem não representar a realidade do processo."
   ]
  },
  {
   "cell_type": "markdown",
   "metadata": {},
   "source": [
    "## 1) Usando a biblioteca PyOD\n",
    "\n",
    "(https://pyod.readthedocs.io/en/latest/)"
   ]
  },
  {
   "cell_type": "code",
   "execution_count": 8,
   "metadata": {},
   "outputs": [
    {
     "data": {
      "text/plain": [
       "KNN(algorithm='auto', contamination=0.1, leaf_size=30, method='largest',\n",
       "  metric='minkowski', metric_params=None, n_jobs=1, n_neighbors=5, p=2,\n",
       "  radius=1.0)"
      ]
     },
     "execution_count": 8,
     "metadata": {},
     "output_type": "execute_result"
    }
   ],
   "source": [
    "from pyod.models.knn import KNN\n",
    "import collections\n",
    "# na lib collections, temos o modulo Counter que retorna um dict com o elemento e\n",
    "# sua frequencia de ocorrência dentro de um np.array.\n",
    "\n",
    "detector = KNN()\n",
    "detector.fit(df.loc[:,listaAtributosNumericos])"
   ]
  },
  {
   "cell_type": "code",
   "execution_count": 9,
   "metadata": {},
   "outputs": [],
   "source": [
    "previsoes = detector.labels_"
   ]
  },
  {
   "cell_type": "code",
   "execution_count": 10,
   "metadata": {},
   "outputs": [
    {
     "data": {
      "text/plain": [
       "Counter({1: 3256, 0: 29305})"
      ]
     },
     "execution_count": 10,
     "metadata": {},
     "output_type": "execute_result"
    }
   ],
   "source": [
    "collections.Counter(previsoes)"
   ]
  },
  {
   "cell_type": "code",
   "execution_count": 11,
   "metadata": {},
   "outputs": [],
   "source": [
    "outliers = []\n",
    "\n",
    "for i in range(len(previsoes)):\n",
    "    if previsoes[i] == 1:\n",
    "        outliers.append(i)\n",
    "        \n",
    "# df.iloc[outliers,:]"
   ]
  },
  {
   "cell_type": "code",
   "execution_count": null,
   "metadata": {},
   "outputs": [],
   "source": [
    "sns.set()\n",
    "\n",
    "ax = "
   ]
  }
 ],
 "metadata": {
  "kernelspec": {
   "display_name": "Python 3",
   "language": "python",
   "name": "python3"
  },
  "language_info": {
   "codemirror_mode": {
    "name": "ipython",
    "version": 3
   },
   "file_extension": ".py",
   "mimetype": "text/x-python",
   "name": "python",
   "nbconvert_exporter": "python",
   "pygments_lexer": "ipython3",
   "version": "3.7.0"
  }
 },
 "nbformat": 4,
 "nbformat_minor": 2
}
