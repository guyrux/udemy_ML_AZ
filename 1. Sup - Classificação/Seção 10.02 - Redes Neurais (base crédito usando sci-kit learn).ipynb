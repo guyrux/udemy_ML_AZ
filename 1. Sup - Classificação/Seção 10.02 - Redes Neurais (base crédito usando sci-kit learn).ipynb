{
 "cells": [
  {
   "cell_type": "markdown",
   "metadata": {},
   "source": [
    "# Seção 10.02 - Redes Neurais Artificiais (base crédito)\n",
    "Para esta seção, usarei a base de dados \"credit-data.csv\" disponibilizada no curso do Professor Jones na UDEMY.\n",
    "\n",
    "Motivação: Otimização da classificação usando redes neurais."
   ]
  },
  {
   "cell_type": "code",
   "execution_count": 19,
   "metadata": {},
   "outputs": [
    {
     "name": "stderr",
     "output_type": "stream",
     "text": [
      "Enabling notebook extension jupyter-js-widgets/extension...\n",
      "      - Validating: ok\n"
     ]
    }
   ],
   "source": [
    "# Instruções basiconas de sempre.\n",
    "\n",
    "# Lidar com dataframes.\n",
    "import numpy as np\n",
    "import pandas as pd\n",
    "\n",
    "# Lidar com gráficos.\n",
    "import matplotlib.pyplot as plt\n",
    "import seaborn as sns\n",
    "import plotly\n",
    "from bokeh.plotting import figure\n",
    "from bokeh.io import show, output_notebook\n",
    "from plotting import (multiple_histograms_plot,\n",
    "                      bar_plot_with_categorical,\n",
    "                      plot_confusion_matrix,\n",
    "                      plot_confusion_matrix_2,\n",
    "                      plot_roc)\n",
    "\n",
    "# Lidar com preparação de dados.\n",
    "from data_prep import data_prep as dp # Eu que fiz esse modulinho (\"uuuuuuuuuma bosts!\").\n",
    "from sklearn.impute import SimpleImputer\n",
    "from sklearn.preprocessing import StandardScaler\n",
    "from sklearn.model_selection import (train_test_split\n",
    "                                     , cross_val_score\n",
    "                                     , StratifiedKFold)\n",
    "\n",
    "# Lidar com validação de modelos.\n",
    "from sklearn.metrics import confusion_matrix, accuracy_score, classification_report\n",
    "\n",
    "pd.set_option('display.max_columns', None)  \n",
    "pd.set_option('display.max_colwidth', -1)\n",
    "pd.set_option('display.max_rows', 500)\n",
    "\n",
    "!jupyter nbextension enable --py widgetsnbextension"
   ]
  },
  {
   "cell_type": "code",
   "execution_count": 10,
   "metadata": {},
   "outputs": [],
   "source": [
    "nomeDaBase = \"../bases/credit-data.csv\"\n",
    "df = pd.read_csv(nomeDaBase, sep=\",\", encoding=\"utf-8\", index_col=\"clientid\")"
   ]
  },
  {
   "cell_type": "code",
   "execution_count": 11,
   "metadata": {},
   "outputs": [
    {
     "data": {
      "text/html": [
       "<div>\n",
       "<style scoped>\n",
       "    .dataframe tbody tr th:only-of-type {\n",
       "        vertical-align: middle;\n",
       "    }\n",
       "\n",
       "    .dataframe tbody tr th {\n",
       "        vertical-align: top;\n",
       "    }\n",
       "\n",
       "    .dataframe thead th {\n",
       "        text-align: right;\n",
       "    }\n",
       "</style>\n",
       "<table border=\"1\" class=\"dataframe\">\n",
       "  <thead>\n",
       "    <tr style=\"text-align: right;\">\n",
       "      <th>clientid</th>\n",
       "      <th>1</th>\n",
       "      <th>2</th>\n",
       "      <th>3</th>\n",
       "      <th>4</th>\n",
       "      <th>5</th>\n",
       "    </tr>\n",
       "  </thead>\n",
       "  <tbody>\n",
       "    <tr>\n",
       "      <th>income</th>\n",
       "      <td>66155.925095</td>\n",
       "      <td>34415.153966</td>\n",
       "      <td>57317.170063</td>\n",
       "      <td>42709.534201</td>\n",
       "      <td>66952.688845</td>\n",
       "    </tr>\n",
       "    <tr>\n",
       "      <th>age</th>\n",
       "      <td>59.017015</td>\n",
       "      <td>48.117153</td>\n",
       "      <td>63.108049</td>\n",
       "      <td>45.751972</td>\n",
       "      <td>18.584336</td>\n",
       "    </tr>\n",
       "    <tr>\n",
       "      <th>loan</th>\n",
       "      <td>8106.532131</td>\n",
       "      <td>6564.745018</td>\n",
       "      <td>8020.953296</td>\n",
       "      <td>6103.642260</td>\n",
       "      <td>8770.099235</td>\n",
       "    </tr>\n",
       "    <tr>\n",
       "      <th>default</th>\n",
       "      <td>0.000000</td>\n",
       "      <td>0.000000</td>\n",
       "      <td>0.000000</td>\n",
       "      <td>0.000000</td>\n",
       "      <td>1.000000</td>\n",
       "    </tr>\n",
       "  </tbody>\n",
       "</table>\n",
       "</div>"
      ],
      "text/plain": [
       "clientid             1             2             3             4             5\n",
       "income    66155.925095  34415.153966  57317.170063  42709.534201  66952.688845\n",
       "age       59.017015     48.117153     63.108049     45.751972     18.584336   \n",
       "loan      8106.532131   6564.745018   8020.953296   6103.642260   8770.099235 \n",
       "default   0.000000      0.000000      0.000000      0.000000      1.000000    "
      ]
     },
     "execution_count": 11,
     "metadata": {},
     "output_type": "execute_result"
    }
   ],
   "source": [
    "df.head().T"
   ]
  },
  {
   "cell_type": "code",
   "execution_count": 12,
   "metadata": {},
   "outputs": [
    {
     "name": "stdout",
     "output_type": "stream",
     "text": [
      "<class 'pandas.core.frame.DataFrame'>\n",
      "Int64Index: 2000 entries, 1 to 2000\n",
      "Data columns (total 4 columns):\n",
      "income     2000 non-null float64\n",
      "age        1997 non-null float64\n",
      "loan       2000 non-null float64\n",
      "default    2000 non-null int64\n",
      "dtypes: float64(3), int64(1)\n",
      "memory usage: 78.1 KB\n"
     ]
    }
   ],
   "source": [
    "df.info()"
   ]
  },
  {
   "cell_type": "code",
   "execution_count": 13,
   "metadata": {},
   "outputs": [
    {
     "data": {
      "text/html": [
       "<div>\n",
       "<style scoped>\n",
       "    .dataframe tbody tr th:only-of-type {\n",
       "        vertical-align: middle;\n",
       "    }\n",
       "\n",
       "    .dataframe tbody tr th {\n",
       "        vertical-align: top;\n",
       "    }\n",
       "\n",
       "    .dataframe thead th {\n",
       "        text-align: right;\n",
       "    }\n",
       "</style>\n",
       "<table border=\"1\" class=\"dataframe\">\n",
       "  <thead>\n",
       "    <tr style=\"text-align: right;\">\n",
       "      <th></th>\n",
       "      <th>count</th>\n",
       "      <th>mean</th>\n",
       "      <th>std</th>\n",
       "      <th>min</th>\n",
       "      <th>25%</th>\n",
       "      <th>50%</th>\n",
       "      <th>75%</th>\n",
       "      <th>max</th>\n",
       "    </tr>\n",
       "  </thead>\n",
       "  <tbody>\n",
       "    <tr>\n",
       "      <th>income</th>\n",
       "      <td>2000.0</td>\n",
       "      <td>45331.600018</td>\n",
       "      <td>14326.327119</td>\n",
       "      <td>20014.48947</td>\n",
       "      <td>32796.459717</td>\n",
       "      <td>45789.117313</td>\n",
       "      <td>57791.281668</td>\n",
       "      <td>69995.685578</td>\n",
       "    </tr>\n",
       "    <tr>\n",
       "      <th>age</th>\n",
       "      <td>1997.0</td>\n",
       "      <td>40.807559</td>\n",
       "      <td>13.624469</td>\n",
       "      <td>-52.42328</td>\n",
       "      <td>28.990415</td>\n",
       "      <td>41.317159</td>\n",
       "      <td>52.587040</td>\n",
       "      <td>63.971796</td>\n",
       "    </tr>\n",
       "    <tr>\n",
       "      <th>loan</th>\n",
       "      <td>2000.0</td>\n",
       "      <td>4444.369695</td>\n",
       "      <td>3045.410024</td>\n",
       "      <td>1.37763</td>\n",
       "      <td>1939.708847</td>\n",
       "      <td>3974.719419</td>\n",
       "      <td>6432.410625</td>\n",
       "      <td>13766.051239</td>\n",
       "    </tr>\n",
       "    <tr>\n",
       "      <th>default</th>\n",
       "      <td>2000.0</td>\n",
       "      <td>0.141500</td>\n",
       "      <td>0.348624</td>\n",
       "      <td>0.00000</td>\n",
       "      <td>0.000000</td>\n",
       "      <td>0.000000</td>\n",
       "      <td>0.000000</td>\n",
       "      <td>1.000000</td>\n",
       "    </tr>\n",
       "  </tbody>\n",
       "</table>\n",
       "</div>"
      ],
      "text/plain": [
       "          count          mean           std          min           25%  \\\n",
       "income   2000.0  45331.600018  14326.327119  20014.48947  32796.459717   \n",
       "age      1997.0  40.807559     13.624469    -52.42328     28.990415      \n",
       "loan     2000.0  4444.369695   3045.410024   1.37763      1939.708847    \n",
       "default  2000.0  0.141500      0.348624      0.00000      0.000000       \n",
       "\n",
       "                  50%           75%           max  \n",
       "income   45789.117313  57791.281668  69995.685578  \n",
       "age      41.317159     52.587040     63.971796     \n",
       "loan     3974.719419   6432.410625   13766.051239  \n",
       "default  0.000000      0.000000      1.000000      "
      ]
     },
     "execution_count": 13,
     "metadata": {},
     "output_type": "execute_result"
    }
   ],
   "source": [
    "df.describe().T"
   ]
  },
  {
   "cell_type": "markdown",
   "metadata": {},
   "source": [
    "### Problemas encontrados na base:\n",
    "1. Em \"age\", há 3 valores nulos e há a presença de valores negativos.\n",
    "\n",
    "#### OBSERVAÇÃO:\n",
    "\n",
    "No mundo real, os problemas com as bases são muito piores. Deve-se ter muita atenção pois os dados podem não representar a realidade do processo."
   ]
  },
  {
   "cell_type": "code",
   "execution_count": 14,
   "metadata": {},
   "outputs": [],
   "source": [
    "df.loc[df.age < 0, \"age\"] = df.age.mean()"
   ]
  },
  {
   "cell_type": "code",
   "execution_count": 16,
   "metadata": {},
   "outputs": [],
   "source": [
    "imputer = SimpleImputer(missing_values=np.nan, strategy=\"mean\")\n",
    "imputer.fit(df)\n",
    "df_tratado = pd.DataFrame(data=imputer.transform(df), columns=df.columns)"
   ]
  },
  {
   "cell_type": "markdown",
   "metadata": {},
   "source": [
    "## 1) Aplicação da Aprendizagem por random forests\n",
    "\n",
    "### 1.1) Usando *train_test_split*  "
   ]
  },
  {
   "cell_type": "code",
   "execution_count": 17,
   "metadata": {},
   "outputs": [],
   "source": [
    "# Separando os fatores/previsores da resposta/target:\n",
    "    \n",
    "x = df_tratado.iloc[:, 0:-1]\n",
    "y = df_tratado.iloc[:, -1]\n",
    "\n",
    "x_train, x_test, y_train, y_test = train_test_split(x, y, test_size=0.2, random_state=0)"
   ]
  },
  {
   "cell_type": "markdown",
   "metadata": {},
   "source": [
    "## Escalonamento\n",
    "Nesse algoritmo é importante executar o escalonamento."
   ]
  },
  {
   "cell_type": "code",
   "execution_count": 18,
   "metadata": {},
   "outputs": [],
   "source": [
    "from sklearn.preprocessing import StandardScaler, MinMaxScaler\n",
    "scaler = StandardScaler()\n",
    "\n",
    "x_train = scaler.fit_transform(x_train)\n",
    "\n",
    "x_test = scaler.transform(x_test)"
   ]
  },
  {
   "cell_type": "markdown",
   "metadata": {},
   "source": [
    "# Aplicando o modelo"
   ]
  },
  {
   "cell_type": "code",
   "execution_count": 33,
   "metadata": {},
   "outputs": [],
   "source": [
    "from sklearn.neural_network import MLPClassifier\n",
    "\n",
    "classificador = MLPClassifier(verbose=True\n",
    "                             , max_iter=1000\n",
    "                             , solver=\"lbfgs\")\n",
    "classificador.fit(x_train, y_train)\n",
    "y_pred = classificador.predict(x_test)"
   ]
  },
  {
   "cell_type": "markdown",
   "metadata": {},
   "source": [
    "### Verificando o como o modelo se saiu"
   ]
  },
  {
   "cell_type": "code",
   "execution_count": 31,
   "metadata": {},
   "outputs": [
    {
     "name": "stdout",
     "output_type": "stream",
     "text": [
      "Métrica 1 (Acurácia): 0.9875.\n",
      "Métrica 2 (Relatório de classificação):\n",
      "              precision    recall  f1-score   support\n",
      "\n",
      "         0.0       0.99      1.00      0.99       348\n",
      "         1.0       0.98      0.92      0.95        52\n",
      "\n",
      "   micro avg       0.99      0.99      0.99       400\n",
      "   macro avg       0.98      0.96      0.97       400\n",
      "weighted avg       0.99      0.99      0.99       400\n",
      ".\n",
      "Normalized confusion matrix\n",
      "[[0.99712644 0.00287356]\n",
      " [0.07692308 0.92307692]]\n"
     ]
    },
    {
     "data": {
      "image/png": "[encoded data removed]",
      "text/plain": [
       "<Figure size 432x288 with 2 Axes>"
      ]
     },
     "metadata": {
      "needs_background": "light"
     },
     "output_type": "display_data"
    }
   ],
   "source": [
    "from sklearn.metrics import (accuracy_score\n",
    "                             , classification_report\n",
    "                             , confusion_matrix)\n",
    "\n",
    "print(\"Métrica 1 (Acurácia): {:.6}.\".format(\n",
    "    accuracy_score(y_test, y_pred, normalize=True, sample_weight=None)))\n",
    "print(\"Métrica 2 (Relatório de classificação):\\n{}.\".format(\n",
    "    classification_report(y_test, y_pred)))\n",
    "\n",
    "plot_confusion_matrix_2(y_test, y_pred, normalize=True);"
   ]
  },
  {
   "cell_type": "markdown",
   "metadata": {},
   "source": [
    "### Agora, usando validação cruzada."
   ]
  },
  {
   "cell_type": "code",
   "execution_count": 32,
   "metadata": {},
   "outputs": [
    {
     "name": "stdout",
     "output_type": "stream",
     "text": [
      "Acurácia média: 0.859 ± 0.000946.\n"
     ]
    }
   ],
   "source": [
    "classificador.fit(x, y)\n",
    "\n",
    "resultados = cross_val_score(classificador, x, y, cv = 5)\n",
    "\n",
    "print(\"Acurácia média: {:.3} ± {:.3}.\".format(resultados.mean(), resultados.std()))"
   ]
  }
 ],
 "metadata": {
  "kernelspec": {
   "display_name": "Python 3",
   "language": "python",
   "name": "python3"
  },
  "language_info": {
   "codemirror_mode": {
    "name": "ipython",
    "version": 3
   },
   "file_extension": ".py",
   "mimetype": "text/x-python",
   "name": "python",
   "nbconvert_exporter": "python",
   "pygments_lexer": "ipython3",
   "version": "3.7.0"
  }
 },
 "nbformat": 4,
 "nbformat_minor": 2
}
