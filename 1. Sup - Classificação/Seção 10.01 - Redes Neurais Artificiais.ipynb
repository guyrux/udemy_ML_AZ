{
 "cells": [
  {
   "cell_type": "markdown",
   "metadata": {},
   "source": [
    "# Seção 10.01 - Redes Neurais Artificiais\n",
    "\n",
    "Teoria."
   ]
  },
  {
   "cell_type": "markdown",
   "metadata": {},
   "source": [
    "**Fundamentos**\n",
    "1. Perceptron\n",
    "2. Treinamento/Ajuste dos pesos\n",
    "3. Gradient descent\n",
    "4. Cálculo do delta\n",
    "5. Learning rate\n",
    "6. Momentum\n",
    "7. Backpropagation\n",
    "8. Conceitos de Deep Learning\n",
    "\n",
    "## 1. Perceptron\n",
    "\n",
    "- 1943 - McCulloch e Pitts\n",
    "- 1958 - Frank Rosenblatt (Perceptron)"
   ]
  },
  {
   "cell_type": "markdown",
   "metadata": {},
   "source": [
    "<img src=\"./imagens/ann_perceptron.png\" alt=\"Perceptron\" width=\"450\"/>\n",
    "<p style=\"text-align:center\">Figura 01 - Esquema do perceptron.</p>\n"
   ]
  },
  {
   "cell_type": "markdown",
   "metadata": {},
   "source": [
    "<img src=\"./imagens/ann_activationFunctions2.png\" alt=\"Funções de Ativação\" width=\"550\"/>\n",
    "<p style=\"text-align:center\">Figura 02 - Exemplos de funções de ativação.</p>\n",
    "<p style=\"text-align:center\">Fonte:<a href=\"https://towardsdatascience.com/complete-guide-of-activation-functions-34076e95d044\">Clique aqui</a></p>"
   ]
  },
  {
   "cell_type": "markdown",
   "metadata": {},
   "source": [
    "### Tangente hiperbólica\n",
    "\n",
    "$$\n",
    "tanh(x) = \\frac{e^x - e^{-x}}{e^x + e^{-x}}\n",
    "$$"
   ]
  },
  {
   "cell_type": "markdown",
   "metadata": {},
   "source": [
    "\n",
    "**IMPORTANTE:** O \"conhecimento\" em uma rede neural artificial dá-se pelo valores dos pesos."
   ]
  },
  {
   "cell_type": "markdown",
   "metadata": {},
   "source": [
    "-----------------------"
   ]
  },
  {
   "cell_type": "markdown",
   "metadata": {},
   "source": [
    "## 2. Redes multicamada (Multilayer perceptron - MLP)\n",
    "\n",
    "- Usado, por exemplo, em problemas de classificação que não são linearmente separáveis;\n",
    "- É um Perceptron com pelo menos uma camada intermediária *(2016, Castro, L. N. e Ferrari, D. G.)*."
   ]
  },
  {
   "cell_type": "markdown",
   "metadata": {},
   "source": [
    "<img src=\"./imagens/ann_MLP.png\" alt=\"Perceptron\" width=\"450\"/>\n",
    "<p style=\"text-align:center\">Figura 03 - Esquema de MLP com apenas uma camada oculta.</p>"
   ]
  },
  {
   "cell_type": "markdown",
   "metadata": {},
   "source": [
    "Algoritmo simplificado para MLP:\n",
    "1. Inicializa os pesos com valores aleatórios (existem métodos melhores);\n",
    "2. Realiza os cálculos:\n",
    "\n",
    "> a. Entrada x Pesos\n",
    "\n",
    "> b. Somatório\n",
    "\n",
    "> c. Função de ativação\n",
    "\n",
    "> d. Cálculo do erro\n",
    "\n",
    "3. Calcula as udanças nos pesos e atualiza (*Backpropagation*)\n",
    "4. Refaz os passos até o erro ser menor que o critério de parada."
   ]
  },
  {
   "cell_type": "markdown",
   "metadata": {},
   "source": [
    "# Camadas ocultas\n",
    "\n",
    "Pontos importante:\n",
    "1. alguns autores consideram que redes com mais de 2 camadas ocultas são consideradas **Deep Learning**;\n",
    "2. problemas linearmente separáveis **NÃO** necessitam de camadas ocultas;"
   ]
  },
  {
   "cell_type": "markdown",
   "metadata": {},
   "source": [
    "# Dicas do Prof. Granatyr:\n",
    "1. Cálculo da quantidade de neurônios das camadas ocultas:\n",
    "$$\n",
    "Neurônios = \\frac{Entradas + Saídas}{2}\n",
    "$$\n",
    "\n",
    "2. Usar função de ativação RELU nas camadas ocultas;\n",
    "3. Se na camada de saída houver apenas um neurônio (classificação binária), use a função sigmóide como função de ativação do neurônio de saída. Se ouverem mais neurônios, use a função SoftMAX."
   ]
  },
  {
   "cell_type": "code",
   "execution_count": null,
   "metadata": {},
   "outputs": [],
   "source": []
  }
 ],
 "metadata": {
  "kernelspec": {
   "display_name": "Python 3",
   "language": "python",
   "name": "python3"
  },
  "language_info": {
   "codemirror_mode": {
    "name": "ipython",
    "version": 3
   },
   "file_extension": ".py",
   "mimetype": "text/x-python",
   "name": "python",
   "nbconvert_exporter": "python",
   "pygments_lexer": "ipython3",
   "version": "3.7.0"
  }
 },
 "nbformat": 4,
 "nbformat_minor": 2
}
