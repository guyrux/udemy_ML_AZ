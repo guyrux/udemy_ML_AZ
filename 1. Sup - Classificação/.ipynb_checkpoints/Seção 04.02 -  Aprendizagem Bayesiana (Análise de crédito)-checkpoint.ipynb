{
 "cells": [
  {
   "cell_type": "markdown",
   "metadata": {},
   "source": [
    "# Seção 04 -  Aprendizagem Bayesiana\n",
    "Para esta seção, usarei a base de dados \"Acute Inflammations Data Set\" disponível no UCI Machine Learning datasets (http://archive.ics.uci.edu/ml/datasets/Acute+Inflammations)."
   ]
  },
  {
   "cell_type": "code",
   "execution_count": 17,
   "metadata": {},
   "outputs": [],
   "source": [
    "# Instruções basiconas de sempre.\n",
    "\n",
    "import numpy as np\n",
    "import pandas as pd\n",
    "import matplotlib.pyplot as plt\n",
    "import seaborn as sns\n",
    "import plotly\n",
    "from bokeh.plotting import figure\n",
    "from bokeh.io import show, output_notebook\n",
    "from sklearn.preprocessing import Imputer\n",
    "from sklearn.preprocessing import StandardScaler\n",
    "from sklearn.model_selection import train_test_split\n",
    "from sklearn.metrics import confusion_matrix, accuracy_score\n",
    "\n",
    "from plotting import (multiple_histograms_plot,\n",
    "                      bar_plot_with_categorical,\n",
    "                      plot_confusion_matrix,\n",
    "                      plot_confusion_matrix_2,\n",
    "                      plot_roc)\n",
    "from data_prep import data_prep as dp\n",
    "\n",
    "pd.set_option('display.max_columns', None)  \n",
    "pd.set_option('display.max_colwidth', -1)\n",
    "pd.set_option('display.max_rows', 500)"
   ]
  },
  {
   "cell_type": "code",
   "execution_count": 2,
   "metadata": {},
   "outputs": [],
   "source": [
    "nomeDaBase = \"../bases/diagnosis.csv\"\n",
    "df = pd.read_csv(nomeDaBase, sep=\";\", encoding=\"utf-8\")"
   ]
  },
  {
   "cell_type": "code",
   "execution_count": 3,
   "metadata": {},
   "outputs": [
    {
     "name": "stdout",
     "output_type": "stream",
     "text": [
      "<class 'pandas.core.frame.DataFrame'>\n",
      "RangeIndex: 120 entries, 0 to 119\n",
      "Data columns (total 8 columns):\n",
      "a1 Temperature of patient                                  120 non-null float64\n",
      "a2 Occurrence of nausea                                    120 non-null object\n",
      "a3 Lumbar pain                                             120 non-null object\n",
      "a4 Urine pushing (continuous need for urination)           120 non-null object\n",
      "a5 Micturition pains                                       120 non-null object\n",
      "a6 Burning of urethra. itch. swelling of urethra outlet    120 non-null object\n",
      "d1 Inflammation of urinary bladder                         120 non-null object\n",
      "d2 Nephritis of renal pelvis origin                        120 non-null object\n",
      "dtypes: float64(1), object(7)\n",
      "memory usage: 7.6+ KB\n"
     ]
    }
   ],
   "source": [
    "df.info()"
   ]
  },
  {
   "cell_type": "markdown",
   "metadata": {},
   "source": [
    "## 1) Análise preliminar dos dados:\n",
    "Como é possível observar, as colunas classificamse conforme indicado abaixo:\n",
    "a1 Temperature of patient - dados numéricos e contínuo\n",
    "a2 Occurrence of nausea - dados binários\n",
    "a3 Lumbar pain - dados binários\n",
    "a4 Urine pushing (continuous need for urination) - dados binários\n",
    "a5 Micturition pains - dados binários\n",
    "a6 Burning of urethra. itch. swelling of urethra outlet - dados binários\n",
    "d1 Inflammation of urinary bladder - dados binários\n",
    "d2 Nephritis of renal pelvis origin - dados binários\n",
    "\n",
    "As colunas designadas como d1 e d2 são as respostas ou alvos, enquanto as colunas designadas como a1 a a6 são os fatores ou previsores. "
   ]
  },
  {
   "cell_type": "code",
   "execution_count": 4,
   "metadata": {},
   "outputs": [
    {
     "data": {
      "text/html": [
       "<div>\n",
       "<style scoped>\n",
       "    .dataframe tbody tr th:only-of-type {\n",
       "        vertical-align: middle;\n",
       "    }\n",
       "\n",
       "    .dataframe tbody tr th {\n",
       "        vertical-align: top;\n",
       "    }\n",
       "\n",
       "    .dataframe thead th {\n",
       "        text-align: right;\n",
       "    }\n",
       "</style>\n",
       "<table border=\"1\" class=\"dataframe\">\n",
       "  <thead>\n",
       "    <tr style=\"text-align: right;\">\n",
       "      <th></th>\n",
       "      <th>a2 Occurrence of nausea</th>\n",
       "      <th>a3 Lumbar pain</th>\n",
       "      <th>a4 Urine pushing (continuous need for urination)</th>\n",
       "      <th>a5 Micturition pains</th>\n",
       "      <th>a6 Burning of urethra. itch. swelling of urethra outlet</th>\n",
       "    </tr>\n",
       "  </thead>\n",
       "  <tbody>\n",
       "    <tr>\n",
       "      <th>0</th>\n",
       "      <td>no</td>\n",
       "      <td>yes</td>\n",
       "      <td>no</td>\n",
       "      <td>no</td>\n",
       "      <td>no</td>\n",
       "    </tr>\n",
       "    <tr>\n",
       "      <th>1</th>\n",
       "      <td>no</td>\n",
       "      <td>no</td>\n",
       "      <td>yes</td>\n",
       "      <td>yes</td>\n",
       "      <td>yes</td>\n",
       "    </tr>\n",
       "    <tr>\n",
       "      <th>2</th>\n",
       "      <td>no</td>\n",
       "      <td>yes</td>\n",
       "      <td>no</td>\n",
       "      <td>no</td>\n",
       "      <td>no</td>\n",
       "    </tr>\n",
       "    <tr>\n",
       "      <th>3</th>\n",
       "      <td>no</td>\n",
       "      <td>no</td>\n",
       "      <td>yes</td>\n",
       "      <td>yes</td>\n",
       "      <td>yes</td>\n",
       "    </tr>\n",
       "    <tr>\n",
       "      <th>4</th>\n",
       "      <td>no</td>\n",
       "      <td>yes</td>\n",
       "      <td>no</td>\n",
       "      <td>no</td>\n",
       "      <td>no</td>\n",
       "    </tr>\n",
       "  </tbody>\n",
       "</table>\n",
       "</div>"
      ],
      "text/plain": [
       "  a2 Occurrence of nausea a3 Lumbar pain  \\\n",
       "0  no                      yes             \n",
       "1  no                      no              \n",
       "2  no                      yes             \n",
       "3  no                      no              \n",
       "4  no                      yes             \n",
       "\n",
       "  a4 Urine pushing (continuous need for urination) a5 Micturition pains  \\\n",
       "0  no                                               no                    \n",
       "1  yes                                              yes                   \n",
       "2  no                                               no                    \n",
       "3  yes                                              yes                   \n",
       "4  no                                               no                    \n",
       "\n",
       "  a6 Burning of urethra. itch. swelling of urethra outlet  \n",
       "0  no                                                      \n",
       "1  yes                                                     \n",
       "2  no                                                      \n",
       "3  yes                                                     \n",
       "4  no                                                      "
      ]
     },
     "execution_count": 4,
     "metadata": {},
     "output_type": "execute_result"
    }
   ],
   "source": [
    "x_categoricas = df.iloc[:,1:6]\n",
    "y_categoricas = df.iloc[:,6:]\n",
    "x_categoricas.head()"
   ]
  },
  {
   "cell_type": "code",
   "execution_count": 5,
   "metadata": {},
   "outputs": [
    {
     "data": {
      "text/html": [
       "<div>\n",
       "<style scoped>\n",
       "    .dataframe tbody tr th:only-of-type {\n",
       "        vertical-align: middle;\n",
       "    }\n",
       "\n",
       "    .dataframe tbody tr th {\n",
       "        vertical-align: top;\n",
       "    }\n",
       "\n",
       "    .dataframe thead th {\n",
       "        text-align: right;\n",
       "    }\n",
       "</style>\n",
       "<table border=\"1\" class=\"dataframe\">\n",
       "  <thead>\n",
       "    <tr style=\"text-align: right;\">\n",
       "      <th></th>\n",
       "      <th>d1 Inflammation of urinary bladder</th>\n",
       "      <th>d2 Nephritis of renal pelvis origin</th>\n",
       "    </tr>\n",
       "  </thead>\n",
       "  <tbody>\n",
       "    <tr>\n",
       "      <th>0</th>\n",
       "      <td>no</td>\n",
       "      <td>no</td>\n",
       "    </tr>\n",
       "    <tr>\n",
       "      <th>1</th>\n",
       "      <td>yes</td>\n",
       "      <td>no</td>\n",
       "    </tr>\n",
       "    <tr>\n",
       "      <th>2</th>\n",
       "      <td>no</td>\n",
       "      <td>no</td>\n",
       "    </tr>\n",
       "    <tr>\n",
       "      <th>3</th>\n",
       "      <td>yes</td>\n",
       "      <td>no</td>\n",
       "    </tr>\n",
       "    <tr>\n",
       "      <th>4</th>\n",
       "      <td>no</td>\n",
       "      <td>no</td>\n",
       "    </tr>\n",
       "  </tbody>\n",
       "</table>\n",
       "</div>"
      ],
      "text/plain": [
       "  d1 Inflammation of urinary bladder d2 Nephritis of renal pelvis origin\n",
       "0  no                                 no                                \n",
       "1  yes                                no                                \n",
       "2  no                                 no                                \n",
       "3  yes                                no                                \n",
       "4  no                                 no                                "
      ]
     },
     "execution_count": 5,
     "metadata": {},
     "output_type": "execute_result"
    }
   ],
   "source": [
    "y_categoricas.head()"
   ]
  },
  {
   "cell_type": "markdown",
   "metadata": {},
   "source": [
    "Para adequar os dados para o modelo de aprendizagem Bayesiana, trocarei os dados \"yes\" e \"no\" por \"1\" e \"0\", respectivamente. Caso tivéssemos mais nuances, uma boa alterntiva seria usar o métodos *pd.get_dummies*."
   ]
  },
  {
   "cell_type": "code",
   "execution_count": 6,
   "metadata": {},
   "outputs": [],
   "source": [
    "x_categoricas = x_categoricas.replace([\"no\",\"yes\"],[0,1])\n",
    "y_categoricas = y_categoricas.replace([\"no\",\"yes\"],[0,1])"
   ]
  },
  {
   "cell_type": "code",
   "execution_count": 7,
   "metadata": {},
   "outputs": [
    {
     "data": {
      "text/html": [
       "<div>\n",
       "<style scoped>\n",
       "    .dataframe tbody tr th:only-of-type {\n",
       "        vertical-align: middle;\n",
       "    }\n",
       "\n",
       "    .dataframe tbody tr th {\n",
       "        vertical-align: top;\n",
       "    }\n",
       "\n",
       "    .dataframe thead th {\n",
       "        text-align: right;\n",
       "    }\n",
       "</style>\n",
       "<table border=\"1\" class=\"dataframe\">\n",
       "  <thead>\n",
       "    <tr style=\"text-align: right;\">\n",
       "      <th></th>\n",
       "      <th>a2 Occurrence of nausea</th>\n",
       "      <th>a3 Lumbar pain</th>\n",
       "      <th>a4 Urine pushing (continuous need for urination)</th>\n",
       "      <th>a5 Micturition pains</th>\n",
       "      <th>a6 Burning of urethra. itch. swelling of urethra outlet</th>\n",
       "    </tr>\n",
       "  </thead>\n",
       "  <tbody>\n",
       "    <tr>\n",
       "      <th>0</th>\n",
       "      <td>0</td>\n",
       "      <td>1</td>\n",
       "      <td>0</td>\n",
       "      <td>0</td>\n",
       "      <td>0</td>\n",
       "    </tr>\n",
       "    <tr>\n",
       "      <th>1</th>\n",
       "      <td>0</td>\n",
       "      <td>0</td>\n",
       "      <td>1</td>\n",
       "      <td>1</td>\n",
       "      <td>1</td>\n",
       "    </tr>\n",
       "    <tr>\n",
       "      <th>2</th>\n",
       "      <td>0</td>\n",
       "      <td>1</td>\n",
       "      <td>0</td>\n",
       "      <td>0</td>\n",
       "      <td>0</td>\n",
       "    </tr>\n",
       "    <tr>\n",
       "      <th>3</th>\n",
       "      <td>0</td>\n",
       "      <td>0</td>\n",
       "      <td>1</td>\n",
       "      <td>1</td>\n",
       "      <td>1</td>\n",
       "    </tr>\n",
       "    <tr>\n",
       "      <th>4</th>\n",
       "      <td>0</td>\n",
       "      <td>1</td>\n",
       "      <td>0</td>\n",
       "      <td>0</td>\n",
       "      <td>0</td>\n",
       "    </tr>\n",
       "  </tbody>\n",
       "</table>\n",
       "</div>"
      ],
      "text/plain": [
       "   a2 Occurrence of nausea  a3 Lumbar pain  \\\n",
       "0  0                        1                \n",
       "1  0                        0                \n",
       "2  0                        1                \n",
       "3  0                        0                \n",
       "4  0                        1                \n",
       "\n",
       "   a4 Urine pushing (continuous need for urination)  a5 Micturition pains  \\\n",
       "0  0                                                 0                      \n",
       "1  1                                                 1                      \n",
       "2  0                                                 0                      \n",
       "3  1                                                 1                      \n",
       "4  0                                                 0                      \n",
       "\n",
       "   a6 Burning of urethra. itch. swelling of urethra outlet  \n",
       "0  0                                                        \n",
       "1  1                                                        \n",
       "2  0                                                        \n",
       "3  1                                                        \n",
       "4  0                                                        "
      ]
     },
     "execution_count": 7,
     "metadata": {},
     "output_type": "execute_result"
    }
   ],
   "source": [
    "x_categoricas.head()"
   ]
  },
  {
   "cell_type": "code",
   "execution_count": 8,
   "metadata": {},
   "outputs": [
    {
     "data": {
      "text/html": [
       "<div>\n",
       "<style scoped>\n",
       "    .dataframe tbody tr th:only-of-type {\n",
       "        vertical-align: middle;\n",
       "    }\n",
       "\n",
       "    .dataframe tbody tr th {\n",
       "        vertical-align: top;\n",
       "    }\n",
       "\n",
       "    .dataframe thead th {\n",
       "        text-align: right;\n",
       "    }\n",
       "</style>\n",
       "<table border=\"1\" class=\"dataframe\">\n",
       "  <thead>\n",
       "    <tr style=\"text-align: right;\">\n",
       "      <th></th>\n",
       "      <th>d1 Inflammation of urinary bladder</th>\n",
       "      <th>d2 Nephritis of renal pelvis origin</th>\n",
       "    </tr>\n",
       "  </thead>\n",
       "  <tbody>\n",
       "    <tr>\n",
       "      <th>0</th>\n",
       "      <td>0</td>\n",
       "      <td>0</td>\n",
       "    </tr>\n",
       "    <tr>\n",
       "      <th>1</th>\n",
       "      <td>1</td>\n",
       "      <td>0</td>\n",
       "    </tr>\n",
       "    <tr>\n",
       "      <th>2</th>\n",
       "      <td>0</td>\n",
       "      <td>0</td>\n",
       "    </tr>\n",
       "    <tr>\n",
       "      <th>3</th>\n",
       "      <td>1</td>\n",
       "      <td>0</td>\n",
       "    </tr>\n",
       "    <tr>\n",
       "      <th>4</th>\n",
       "      <td>0</td>\n",
       "      <td>0</td>\n",
       "    </tr>\n",
       "  </tbody>\n",
       "</table>\n",
       "</div>"
      ],
      "text/plain": [
       "   d1 Inflammation of urinary bladder  d2 Nephritis of renal pelvis origin\n",
       "0  0                                   0                                  \n",
       "1  1                                   0                                  \n",
       "2  0                                   0                                  \n",
       "3  1                                   0                                  \n",
       "4  0                                   0                                  "
      ]
     },
     "execution_count": 8,
     "metadata": {},
     "output_type": "execute_result"
    }
   ],
   "source": [
    "y_categoricas.head()"
   ]
  },
  {
   "cell_type": "code",
   "execution_count": 9,
   "metadata": {},
   "outputs": [],
   "source": [
    "df_preparada = pd.concat([df.iloc[:,:1],x_categoricas, y_categoricas],axis=1)"
   ]
  },
  {
   "cell_type": "markdown",
   "metadata": {},
   "source": [
    "Por fim, temos o dataframe pronto para aplicar o modelo:"
   ]
  },
  {
   "cell_type": "code",
   "execution_count": 10,
   "metadata": {},
   "outputs": [
    {
     "data": {
      "text/html": [
       "<div>\n",
       "<style scoped>\n",
       "    .dataframe tbody tr th:only-of-type {\n",
       "        vertical-align: middle;\n",
       "    }\n",
       "\n",
       "    .dataframe tbody tr th {\n",
       "        vertical-align: top;\n",
       "    }\n",
       "\n",
       "    .dataframe thead th {\n",
       "        text-align: right;\n",
       "    }\n",
       "</style>\n",
       "<table border=\"1\" class=\"dataframe\">\n",
       "  <thead>\n",
       "    <tr style=\"text-align: right;\">\n",
       "      <th></th>\n",
       "      <th>0</th>\n",
       "      <th>1</th>\n",
       "      <th>2</th>\n",
       "      <th>3</th>\n",
       "      <th>4</th>\n",
       "      <th>5</th>\n",
       "      <th>6</th>\n",
       "      <th>7</th>\n",
       "      <th>8</th>\n",
       "      <th>9</th>\n",
       "    </tr>\n",
       "  </thead>\n",
       "  <tbody>\n",
       "    <tr>\n",
       "      <th>a1 Temperature of patient</th>\n",
       "      <td>35.5</td>\n",
       "      <td>35.9</td>\n",
       "      <td>35.9</td>\n",
       "      <td>36.0</td>\n",
       "      <td>36.0</td>\n",
       "      <td>36.0</td>\n",
       "      <td>36.2</td>\n",
       "      <td>36.2</td>\n",
       "      <td>36.3</td>\n",
       "      <td>36.6</td>\n",
       "    </tr>\n",
       "    <tr>\n",
       "      <th>a2 Occurrence of nausea</th>\n",
       "      <td>0.0</td>\n",
       "      <td>0.0</td>\n",
       "      <td>0.0</td>\n",
       "      <td>0.0</td>\n",
       "      <td>0.0</td>\n",
       "      <td>0.0</td>\n",
       "      <td>0.0</td>\n",
       "      <td>0.0</td>\n",
       "      <td>0.0</td>\n",
       "      <td>0.0</td>\n",
       "    </tr>\n",
       "    <tr>\n",
       "      <th>a3 Lumbar pain</th>\n",
       "      <td>1.0</td>\n",
       "      <td>0.0</td>\n",
       "      <td>1.0</td>\n",
       "      <td>0.0</td>\n",
       "      <td>1.0</td>\n",
       "      <td>1.0</td>\n",
       "      <td>0.0</td>\n",
       "      <td>1.0</td>\n",
       "      <td>0.0</td>\n",
       "      <td>0.0</td>\n",
       "    </tr>\n",
       "    <tr>\n",
       "      <th>a4 Urine pushing (continuous need for urination)</th>\n",
       "      <td>0.0</td>\n",
       "      <td>1.0</td>\n",
       "      <td>0.0</td>\n",
       "      <td>1.0</td>\n",
       "      <td>0.0</td>\n",
       "      <td>0.0</td>\n",
       "      <td>1.0</td>\n",
       "      <td>0.0</td>\n",
       "      <td>1.0</td>\n",
       "      <td>1.0</td>\n",
       "    </tr>\n",
       "    <tr>\n",
       "      <th>a5 Micturition pains</th>\n",
       "      <td>0.0</td>\n",
       "      <td>1.0</td>\n",
       "      <td>0.0</td>\n",
       "      <td>1.0</td>\n",
       "      <td>0.0</td>\n",
       "      <td>0.0</td>\n",
       "      <td>1.0</td>\n",
       "      <td>0.0</td>\n",
       "      <td>1.0</td>\n",
       "      <td>1.0</td>\n",
       "    </tr>\n",
       "    <tr>\n",
       "      <th>a6 Burning of urethra. itch. swelling of urethra outlet</th>\n",
       "      <td>0.0</td>\n",
       "      <td>1.0</td>\n",
       "      <td>0.0</td>\n",
       "      <td>1.0</td>\n",
       "      <td>0.0</td>\n",
       "      <td>0.0</td>\n",
       "      <td>1.0</td>\n",
       "      <td>0.0</td>\n",
       "      <td>1.0</td>\n",
       "      <td>1.0</td>\n",
       "    </tr>\n",
       "    <tr>\n",
       "      <th>d1 Inflammation of urinary bladder</th>\n",
       "      <td>0.0</td>\n",
       "      <td>1.0</td>\n",
       "      <td>0.0</td>\n",
       "      <td>1.0</td>\n",
       "      <td>0.0</td>\n",
       "      <td>0.0</td>\n",
       "      <td>1.0</td>\n",
       "      <td>0.0</td>\n",
       "      <td>1.0</td>\n",
       "      <td>1.0</td>\n",
       "    </tr>\n",
       "    <tr>\n",
       "      <th>d2 Nephritis of renal pelvis origin</th>\n",
       "      <td>0.0</td>\n",
       "      <td>0.0</td>\n",
       "      <td>0.0</td>\n",
       "      <td>0.0</td>\n",
       "      <td>0.0</td>\n",
       "      <td>0.0</td>\n",
       "      <td>0.0</td>\n",
       "      <td>0.0</td>\n",
       "      <td>0.0</td>\n",
       "      <td>0.0</td>\n",
       "    </tr>\n",
       "  </tbody>\n",
       "</table>\n",
       "</div>"
      ],
      "text/plain": [
       "                                                            0     1     2  \\\n",
       "a1 Temperature of patient                                35.5  35.9  35.9   \n",
       "a2 Occurrence of nausea                                  0.0   0.0   0.0    \n",
       "a3 Lumbar pain                                           1.0   0.0   1.0    \n",
       "a4 Urine pushing (continuous need for urination)         0.0   1.0   0.0    \n",
       "a5 Micturition pains                                     0.0   1.0   0.0    \n",
       "a6 Burning of urethra. itch. swelling of urethra outlet  0.0   1.0   0.0    \n",
       "d1 Inflammation of urinary bladder                       0.0   1.0   0.0    \n",
       "d2 Nephritis of renal pelvis origin                      0.0   0.0   0.0    \n",
       "\n",
       "                                                            3     4     5  \\\n",
       "a1 Temperature of patient                                36.0  36.0  36.0   \n",
       "a2 Occurrence of nausea                                  0.0   0.0   0.0    \n",
       "a3 Lumbar pain                                           0.0   1.0   1.0    \n",
       "a4 Urine pushing (continuous need for urination)         1.0   0.0   0.0    \n",
       "a5 Micturition pains                                     1.0   0.0   0.0    \n",
       "a6 Burning of urethra. itch. swelling of urethra outlet  1.0   0.0   0.0    \n",
       "d1 Inflammation of urinary bladder                       1.0   0.0   0.0    \n",
       "d2 Nephritis of renal pelvis origin                      0.0   0.0   0.0    \n",
       "\n",
       "                                                            6     7     8  \\\n",
       "a1 Temperature of patient                                36.2  36.2  36.3   \n",
       "a2 Occurrence of nausea                                  0.0   0.0   0.0    \n",
       "a3 Lumbar pain                                           0.0   1.0   0.0    \n",
       "a4 Urine pushing (continuous need for urination)         1.0   0.0   1.0    \n",
       "a5 Micturition pains                                     1.0   0.0   1.0    \n",
       "a6 Burning of urethra. itch. swelling of urethra outlet  1.0   0.0   1.0    \n",
       "d1 Inflammation of urinary bladder                       1.0   0.0   1.0    \n",
       "d2 Nephritis of renal pelvis origin                      0.0   0.0   0.0    \n",
       "\n",
       "                                                            9  \n",
       "a1 Temperature of patient                                36.6  \n",
       "a2 Occurrence of nausea                                  0.0   \n",
       "a3 Lumbar pain                                           0.0   \n",
       "a4 Urine pushing (continuous need for urination)         1.0   \n",
       "a5 Micturition pains                                     1.0   \n",
       "a6 Burning of urethra. itch. swelling of urethra outlet  1.0   \n",
       "d1 Inflammation of urinary bladder                       1.0   \n",
       "d2 Nephritis of renal pelvis origin                      0.0   "
      ]
     },
     "execution_count": 10,
     "metadata": {},
     "output_type": "execute_result"
    }
   ],
   "source": [
    "df_preparada.head(10).T"
   ]
  },
  {
   "cell_type": "markdown",
   "metadata": {},
   "source": [
    "## 2) Separação do dataset em treino, validação e teste.\n",
    "Como temos somente um dataset, vamos separá-lo primeiramente em três partes:\n",
    "\n",
    "    1- Treino;\n",
    "    2- Validação; e\n",
    "    3- Teste.\n",
    "    \n",
    "Porém, vamos usar o método *sklearn.model_selection.train_test_split* 2 vezes para obtermos essa separação."
   ]
  },
  {
   "cell_type": "code",
   "execution_count": 11,
   "metadata": {},
   "outputs": [],
   "source": [
    "x = df_preparada.iloc[:,0:6]\n",
    "y = df_preparada.iloc[:,6:]"
   ]
  },
  {
   "cell_type": "code",
   "execution_count": 12,
   "metadata": {},
   "outputs": [],
   "source": [
    " x_train, x_test, y_train, y_test = train_test_split(x, y, test_size=0.2, random_state=42)"
   ]
  },
  {
   "cell_type": "markdown",
   "metadata": {},
   "source": [
    "## 3) Aplicando o modelo de aprendizagem Bayesiana"
   ]
  },
  {
   "cell_type": "code",
   "execution_count": 13,
   "metadata": {},
   "outputs": [],
   "source": [
    "from sklearn.naive_bayes import GaussianNB"
   ]
  },
  {
   "cell_type": "code",
   "execution_count": 14,
   "metadata": {},
   "outputs": [
    {
     "data": {
      "text/plain": [
       "GaussianNB(priors=None, var_smoothing=1e-09)"
      ]
     },
     "execution_count": 14,
     "metadata": {},
     "output_type": "execute_result"
    }
   ],
   "source": [
    "classificador = GaussianNB()\n",
    "classificador.fit(x_train, y_train[\"d1 Inflammation of urinary bladder\"])"
   ]
  },
  {
   "cell_type": "code",
   "execution_count": 15,
   "metadata": {},
   "outputs": [],
   "source": [
    "y_pred = classificador.predict(x_test)"
   ]
  },
  {
   "cell_type": "markdown",
   "metadata": {},
   "source": [
    "### Verificando o como o modelo se saiu"
   ]
  },
  {
   "cell_type": "code",
   "execution_count": 16,
   "metadata": {},
   "outputs": [
    {
     "name": "stdout",
     "output_type": "stream",
     "text": [
      "Métrica 1 (Acurácia): 0.791667.\n",
      "Métrica 2 (Relatório de classificação):\n",
      "              precision    recall  f1-score   support\n",
      "\n",
      "           0       1.00      0.58      0.74        12\n",
      "           1       0.71      1.00      0.83        12\n",
      "\n",
      "   micro avg       0.79      0.79      0.79        24\n",
      "   macro avg       0.85      0.79      0.78        24\n",
      "weighted avg       0.85      0.79      0.78        24\n",
      ".\n",
      "Métrica 2 (Relatório de classificação):\n",
      "[[ 7  5]\n",
      " [ 0 12]].\n"
     ]
    }
   ],
   "source": [
    "from sklearn.metrics import accuracy_score\n",
    "from sklearn.metrics import classification_report\n",
    "from sklearn.metrics import confusion_matrix\n",
    "\n",
    "print(\"Métrica 1 (Acurácia): {:.6}.\".format(\n",
    "    accuracy_score(y_test[\"d1 Inflammation of urinary bladder\"], y_pred, normalize=True, sample_weight=None)))\n",
    "print(\"Métrica 2 (Relatório de classificação):\\n{}.\".format(\n",
    "    classification_report(y_test[\"d1 Inflammation of urinary bladder\"], y_pred)))\n",
    "print(\"Métrica 2 (Relatório de classificação):\\n{}.\".format(\n",
    "    confusion_matrix(y_test[\"d1 Inflammation of urinary bladder\"], y_pred)))"
   ]
  },
  {
   "cell_type": "code",
   "execution_count": 20,
   "metadata": {},
   "outputs": [
    {
     "name": "stdout",
     "output_type": "stream",
     "text": [
      "Normalized confusion matrix\n",
      "[[0.58333333 0.41666667]\n",
      " [0.         1.        ]]\n"
     ]
    },
    {
     "data": {
      "image/png": "[encoded data removed]",
      "text/plain": [
       "<Figure size 432x288 with 2 Axes>"
      ]
     },
     "metadata": {
      "needs_background": "light"
     },
     "output_type": "display_data"
    }
   ],
   "source": [
    "plot_confusion_matrix_2(y_test[\"d1 Inflammation of urinary bladder\"], y_pred, normalize=True);"
   ]
  },
  {
   "cell_type": "markdown",
   "metadata": {},
   "source": [
    "### Classificando novamente, mas para a segunda resposta (y_train[\"d2 Nephritis of renal pelvis origin\"])"
   ]
  },
  {
   "cell_type": "code",
   "execution_count": 21,
   "metadata": {},
   "outputs": [
    {
     "data": {
      "text/plain": [
       "GaussianNB(priors=None, var_smoothing=1e-09)"
      ]
     },
     "execution_count": 21,
     "metadata": {},
     "output_type": "execute_result"
    }
   ],
   "source": [
    "classificador = GaussianNB()\n",
    "classificador.fit(x_train, y_train[\"d2 Nephritis of renal pelvis origin\"])"
   ]
  },
  {
   "cell_type": "code",
   "execution_count": 22,
   "metadata": {},
   "outputs": [],
   "source": [
    "y_pred = classificador.predict(x_test)"
   ]
  },
  {
   "cell_type": "code",
   "execution_count": 23,
   "metadata": {},
   "outputs": [
    {
     "name": "stdout",
     "output_type": "stream",
     "text": [
      "Métrica 1 (Acurácia): 0.875.\n",
      "Métrica 2 (Relatório de classificação):\n",
      "              precision    recall  f1-score   support\n",
      "\n",
      "           0       0.83      1.00      0.91        15\n",
      "           1       1.00      0.67      0.80         9\n",
      "\n",
      "   micro avg       0.88      0.88      0.88        24\n",
      "   macro avg       0.92      0.83      0.85        24\n",
      "weighted avg       0.90      0.88      0.87        24\n",
      ".\n",
      "Métrica 2 (Relatório de classificação):\n",
      "[[15  0]\n",
      " [ 3  6]].\n"
     ]
    }
   ],
   "source": [
    "print(\"Métrica 1 (Acurácia): {:.6}.\".format(\n",
    "    accuracy_score(y_test[\"d2 Nephritis of renal pelvis origin\"], y_pred, normalize=True, sample_weight=None)))\n",
    "print(\"Métrica 2 (Relatório de classificação):\\n{}.\".format(\n",
    "    classification_report(y_test[\"d2 Nephritis of renal pelvis origin\"], y_pred)))\n",
    "print(\"Métrica 2 (Relatório de classificação):\\n{}.\".format(\n",
    "    confusion_matrix(y_test[\"d2 Nephritis of renal pelvis origin\"], y_pred)))"
   ]
  },
  {
   "cell_type": "code",
   "execution_count": 24,
   "metadata": {},
   "outputs": [
    {
     "name": "stdout",
     "output_type": "stream",
     "text": [
      "Normalized confusion matrix\n",
      "[[1.         0.        ]\n",
      " [0.33333333 0.66666667]]\n"
     ]
    },
    {
     "data": {
      "image/png": "[encoded data removed]",
      "text/plain": [
       "<Figure size 432x288 with 2 Axes>"
      ]
     },
     "metadata": {
      "needs_background": "light"
     },
     "output_type": "display_data"
    }
   ],
   "source": [
    "plot_confusion_matrix_2(y_test[\"d2 Nephritis of renal pelvis origin\"], y_pred, normalize=True);"
   ]
  },
  {
   "cell_type": "code",
   "execution_count": null,
   "metadata": {},
   "outputs": [],
   "source": []
  }
 ],
 "metadata": {
  "kernelspec": {
   "display_name": "Python 3",
   "language": "python",
   "name": "python3"
  },
  "language_info": {
   "codemirror_mode": {
    "name": "ipython",
    "version": 3
   },
   "file_extension": ".py",
   "mimetype": "text/x-python",
   "name": "python",
   "nbconvert_exporter": "python",
   "pygments_lexer": "ipython3",
   "version": "3.7.0"
  }
 },
 "nbformat": 4,
 "nbformat_minor": 2
}
