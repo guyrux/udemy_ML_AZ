{
 "cells": [
  {
   "cell_type": "markdown",
   "metadata": {},
   "source": [
    "# Problema de Classificação - UCI - Absenteeism_at_work\n",
    "\n",
    "Esse notebook está usando uma base de dados aberta obtida em https://archive.ics.uci.edu/ml/datasets/Absenteeism+at+work.\n",
    "\n",
    "Originalmente, como será observado, este dataset é para problemas de regressão, porém, criei uma reposta/target/variável dependente para este exercício."
   ]
  },
  {
   "cell_type": "code",
   "execution_count": 1,
   "metadata": {},
   "outputs": [
    {
     "name": "stderr",
     "output_type": "stream",
     "text": [
      "Enabling notebook extension jupyter-js-widgets/extension...\n",
      "      - Validating: ok\n"
     ]
    }
   ],
   "source": [
    "# Instruções basiconas de sempre.\n",
    "\n",
    "# Lidar com dataframes.\n",
    "import numpy as np\n",
    "import pandas as pd\n",
    "\n",
    "# Lidar com gráficos.\n",
    "import matplotlib.pyplot as plt\n",
    "import seaborn as sns\n",
    "# import plotly\n",
    "from bokeh.plotting import figure\n",
    "from bokeh.io import show, output_notebook\n",
    "from plotting import (multiple_histograms_plot,\n",
    "                      bar_plot_with_categorical,\n",
    "                      plot_confusion_matrix,\n",
    "                      plot_confusion_matrix_2,\n",
    "                      plot_roc)\n",
    "\n",
    "# Lidar com preparação de dados.\n",
    "from data_prep import data_prep as dp # Eu que fiz esse modulinho (\"uuuuuuuuuma bosts!\").\n",
    "from sklearn.impute import SimpleImputer\n",
    "from sklearn.preprocessing import (StandardScaler\n",
    "                                   , MinMaxScaler)\n",
    "from sklearn.model_selection import (train_test_split\n",
    "                                     , cross_val_score\n",
    "                                     , StratifiedKFold)\n",
    "\n",
    "# Lidar com validação de modelos.\n",
    "from sklearn.metrics import (confusion_matrix\n",
    "                             , accuracy_score\n",
    "                             , classification_report)\n",
    "\n",
    "pd.set_option('display.max_columns', None)  \n",
    "pd.set_option('display.max_colwidth', -1)\n",
    "pd.set_option('display.max_rows', 500)\n",
    "\n",
    "!jupyter nbextension enable --py widgetsnbextension"
   ]
  },
  {
   "cell_type": "code",
   "execution_count": 2,
   "metadata": {},
   "outputs": [
    {
     "data": {
      "text/html": [
       "<div>\n",
       "<style scoped>\n",
       "    .dataframe tbody tr th:only-of-type {\n",
       "        vertical-align: middle;\n",
       "    }\n",
       "\n",
       "    .dataframe tbody tr th {\n",
       "        vertical-align: top;\n",
       "    }\n",
       "\n",
       "    .dataframe thead th {\n",
       "        text-align: right;\n",
       "    }\n",
       "</style>\n",
       "<table border=\"1\" class=\"dataframe\">\n",
       "  <thead>\n",
       "    <tr style=\"text-align: right;\">\n",
       "      <th></th>\n",
       "      <th>ID</th>\n",
       "      <th>Reason for absence</th>\n",
       "      <th>Month of absence</th>\n",
       "      <th>Day of the week</th>\n",
       "      <th>Seasons</th>\n",
       "      <th>Transportation expense</th>\n",
       "      <th>Distance from Residence to Work</th>\n",
       "      <th>Service time</th>\n",
       "      <th>Age</th>\n",
       "      <th>Work load Average/day</th>\n",
       "      <th>Hit target</th>\n",
       "      <th>Disciplinary failure</th>\n",
       "      <th>Education</th>\n",
       "      <th>Son</th>\n",
       "      <th>Social drinker</th>\n",
       "      <th>Social smoker</th>\n",
       "      <th>Pet</th>\n",
       "      <th>Weight</th>\n",
       "      <th>Height</th>\n",
       "      <th>Body mass index</th>\n",
       "      <th>Absenteeism time in hours</th>\n",
       "    </tr>\n",
       "  </thead>\n",
       "  <tbody>\n",
       "    <tr>\n",
       "      <td>0</td>\n",
       "      <td>11</td>\n",
       "      <td>26</td>\n",
       "      <td>7</td>\n",
       "      <td>3</td>\n",
       "      <td>1</td>\n",
       "      <td>289</td>\n",
       "      <td>36</td>\n",
       "      <td>13</td>\n",
       "      <td>33</td>\n",
       "      <td>239.554</td>\n",
       "      <td>97</td>\n",
       "      <td>0</td>\n",
       "      <td>1</td>\n",
       "      <td>2</td>\n",
       "      <td>1</td>\n",
       "      <td>0</td>\n",
       "      <td>1</td>\n",
       "      <td>90</td>\n",
       "      <td>172</td>\n",
       "      <td>30</td>\n",
       "      <td>4</td>\n",
       "    </tr>\n",
       "    <tr>\n",
       "      <td>1</td>\n",
       "      <td>36</td>\n",
       "      <td>0</td>\n",
       "      <td>7</td>\n",
       "      <td>3</td>\n",
       "      <td>1</td>\n",
       "      <td>118</td>\n",
       "      <td>13</td>\n",
       "      <td>18</td>\n",
       "      <td>50</td>\n",
       "      <td>239.554</td>\n",
       "      <td>97</td>\n",
       "      <td>1</td>\n",
       "      <td>1</td>\n",
       "      <td>1</td>\n",
       "      <td>1</td>\n",
       "      <td>0</td>\n",
       "      <td>0</td>\n",
       "      <td>98</td>\n",
       "      <td>178</td>\n",
       "      <td>31</td>\n",
       "      <td>0</td>\n",
       "    </tr>\n",
       "    <tr>\n",
       "      <td>2</td>\n",
       "      <td>3</td>\n",
       "      <td>23</td>\n",
       "      <td>7</td>\n",
       "      <td>4</td>\n",
       "      <td>1</td>\n",
       "      <td>179</td>\n",
       "      <td>51</td>\n",
       "      <td>18</td>\n",
       "      <td>38</td>\n",
       "      <td>239.554</td>\n",
       "      <td>97</td>\n",
       "      <td>0</td>\n",
       "      <td>1</td>\n",
       "      <td>0</td>\n",
       "      <td>1</td>\n",
       "      <td>0</td>\n",
       "      <td>0</td>\n",
       "      <td>89</td>\n",
       "      <td>170</td>\n",
       "      <td>31</td>\n",
       "      <td>2</td>\n",
       "    </tr>\n",
       "    <tr>\n",
       "      <td>3</td>\n",
       "      <td>7</td>\n",
       "      <td>7</td>\n",
       "      <td>7</td>\n",
       "      <td>5</td>\n",
       "      <td>1</td>\n",
       "      <td>279</td>\n",
       "      <td>5</td>\n",
       "      <td>14</td>\n",
       "      <td>39</td>\n",
       "      <td>239.554</td>\n",
       "      <td>97</td>\n",
       "      <td>0</td>\n",
       "      <td>1</td>\n",
       "      <td>2</td>\n",
       "      <td>1</td>\n",
       "      <td>1</td>\n",
       "      <td>0</td>\n",
       "      <td>68</td>\n",
       "      <td>168</td>\n",
       "      <td>24</td>\n",
       "      <td>4</td>\n",
       "    </tr>\n",
       "    <tr>\n",
       "      <td>4</td>\n",
       "      <td>11</td>\n",
       "      <td>23</td>\n",
       "      <td>7</td>\n",
       "      <td>5</td>\n",
       "      <td>1</td>\n",
       "      <td>289</td>\n",
       "      <td>36</td>\n",
       "      <td>13</td>\n",
       "      <td>33</td>\n",
       "      <td>239.554</td>\n",
       "      <td>97</td>\n",
       "      <td>0</td>\n",
       "      <td>1</td>\n",
       "      <td>2</td>\n",
       "      <td>1</td>\n",
       "      <td>0</td>\n",
       "      <td>1</td>\n",
       "      <td>90</td>\n",
       "      <td>172</td>\n",
       "      <td>30</td>\n",
       "      <td>2</td>\n",
       "    </tr>\n",
       "  </tbody>\n",
       "</table>\n",
       "</div>"
      ],
      "text/plain": [
       "   ID  Reason for absence  Month of absence  Day of the week  Seasons  \\\n",
       "0  11  26                  7                 3                1         \n",
       "1  36  0                   7                 3                1         \n",
       "2  3   23                  7                 4                1         \n",
       "3  7   7                   7                 5                1         \n",
       "4  11  23                  7                 5                1         \n",
       "\n",
       "   Transportation expense  Distance from Residence to Work  Service time  Age  \\\n",
       "0  289                     36                               13            33    \n",
       "1  118                     13                               18            50    \n",
       "2  179                     51                               18            38    \n",
       "3  279                     5                                14            39    \n",
       "4  289                     36                               13            33    \n",
       "\n",
       "   Work load Average/day   Hit target  Disciplinary failure  Education  Son  \\\n",
       "0  239.554                 97          0                     1          2     \n",
       "1  239.554                 97          1                     1          1     \n",
       "2  239.554                 97          0                     1          0     \n",
       "3  239.554                 97          0                     1          2     \n",
       "4  239.554                 97          0                     1          2     \n",
       "\n",
       "   Social drinker  Social smoker  Pet  Weight  Height  Body mass index  \\\n",
       "0  1               0              1    90      172     30                \n",
       "1  1               0              0    98      178     31                \n",
       "2  1               0              0    89      170     31                \n",
       "3  1               1              0    68      168     24                \n",
       "4  1               0              1    90      172     30                \n",
       "\n",
       "   Absenteeism time in hours  \n",
       "0  4                          \n",
       "1  0                          \n",
       "2  2                          \n",
       "3  4                          \n",
       "4  2                          "
      ]
     },
     "execution_count": 2,
     "metadata": {},
     "output_type": "execute_result"
    }
   ],
   "source": [
    "nomeDaBase = \"../bases/Absenteeism_at_work.csv\"\n",
    "df = pd.read_csv(nomeDaBase, sep=\";\", encoding=\"utf-8\")\n",
    "\n",
    "df.head()"
   ]
  },
  {
   "cell_type": "code",
   "execution_count": 3,
   "metadata": {},
   "outputs": [
    {
     "name": "stdout",
     "output_type": "stream",
     "text": [
      "<class 'pandas.core.frame.DataFrame'>\n",
      "RangeIndex: 740 entries, 0 to 739\n",
      "Data columns (total 21 columns):\n",
      "ID                                 740 non-null int64\n",
      "Reason for absence                 740 non-null int64\n",
      "Month of absence                   740 non-null int64\n",
      "Day of the week                    740 non-null int64\n",
      "Seasons                            740 non-null int64\n",
      "Transportation expense             740 non-null int64\n",
      "Distance from Residence to Work    740 non-null int64\n",
      "Service time                       740 non-null int64\n",
      "Age                                740 non-null int64\n",
      "Work load Average/day              740 non-null float64\n",
      "Hit target                         740 non-null int64\n",
      "Disciplinary failure               740 non-null int64\n",
      "Education                          740 non-null int64\n",
      "Son                                740 non-null int64\n",
      "Social drinker                     740 non-null int64\n",
      "Social smoker                      740 non-null int64\n",
      "Pet                                740 non-null int64\n",
      "Weight                             740 non-null int64\n",
      "Height                             740 non-null int64\n",
      "Body mass index                    740 non-null int64\n",
      "Absenteeism time in hours          740 non-null int64\n",
      "dtypes: float64(1), int64(20)\n",
      "memory usage: 121.5 KB\n"
     ]
    }
   ],
   "source": [
    "df.info()"
   ]
  },
  {
   "cell_type": "code",
   "execution_count": 4,
   "metadata": {},
   "outputs": [
    {
     "data": {
      "text/html": [
       "<div>\n",
       "<style scoped>\n",
       "    .dataframe tbody tr th:only-of-type {\n",
       "        vertical-align: middle;\n",
       "    }\n",
       "\n",
       "    .dataframe tbody tr th {\n",
       "        vertical-align: top;\n",
       "    }\n",
       "\n",
       "    .dataframe thead th {\n",
       "        text-align: right;\n",
       "    }\n",
       "</style>\n",
       "<table border=\"1\" class=\"dataframe\">\n",
       "  <thead>\n",
       "    <tr style=\"text-align: right;\">\n",
       "      <th></th>\n",
       "      <th>count</th>\n",
       "      <th>mean</th>\n",
       "      <th>std</th>\n",
       "      <th>min</th>\n",
       "      <th>25%</th>\n",
       "      <th>50%</th>\n",
       "      <th>75%</th>\n",
       "      <th>max</th>\n",
       "    </tr>\n",
       "  </thead>\n",
       "  <tbody>\n",
       "    <tr>\n",
       "      <td>ID</td>\n",
       "      <td>740.0</td>\n",
       "      <td>18.017568</td>\n",
       "      <td>11.021247</td>\n",
       "      <td>1.000</td>\n",
       "      <td>9.000</td>\n",
       "      <td>18.000</td>\n",
       "      <td>28.000</td>\n",
       "      <td>36.000</td>\n",
       "    </tr>\n",
       "    <tr>\n",
       "      <td>Reason for absence</td>\n",
       "      <td>740.0</td>\n",
       "      <td>19.216216</td>\n",
       "      <td>8.433406</td>\n",
       "      <td>0.000</td>\n",
       "      <td>13.000</td>\n",
       "      <td>23.000</td>\n",
       "      <td>26.000</td>\n",
       "      <td>28.000</td>\n",
       "    </tr>\n",
       "    <tr>\n",
       "      <td>Month of absence</td>\n",
       "      <td>740.0</td>\n",
       "      <td>6.324324</td>\n",
       "      <td>3.436287</td>\n",
       "      <td>0.000</td>\n",
       "      <td>3.000</td>\n",
       "      <td>6.000</td>\n",
       "      <td>9.000</td>\n",
       "      <td>12.000</td>\n",
       "    </tr>\n",
       "    <tr>\n",
       "      <td>Day of the week</td>\n",
       "      <td>740.0</td>\n",
       "      <td>3.914865</td>\n",
       "      <td>1.421675</td>\n",
       "      <td>2.000</td>\n",
       "      <td>3.000</td>\n",
       "      <td>4.000</td>\n",
       "      <td>5.000</td>\n",
       "      <td>6.000</td>\n",
       "    </tr>\n",
       "    <tr>\n",
       "      <td>Seasons</td>\n",
       "      <td>740.0</td>\n",
       "      <td>2.544595</td>\n",
       "      <td>1.111831</td>\n",
       "      <td>1.000</td>\n",
       "      <td>2.000</td>\n",
       "      <td>3.000</td>\n",
       "      <td>4.000</td>\n",
       "      <td>4.000</td>\n",
       "    </tr>\n",
       "    <tr>\n",
       "      <td>Transportation expense</td>\n",
       "      <td>740.0</td>\n",
       "      <td>221.329730</td>\n",
       "      <td>66.952223</td>\n",
       "      <td>118.000</td>\n",
       "      <td>179.000</td>\n",
       "      <td>225.000</td>\n",
       "      <td>260.000</td>\n",
       "      <td>388.000</td>\n",
       "    </tr>\n",
       "    <tr>\n",
       "      <td>Distance from Residence to Work</td>\n",
       "      <td>740.0</td>\n",
       "      <td>29.631081</td>\n",
       "      <td>14.836788</td>\n",
       "      <td>5.000</td>\n",
       "      <td>16.000</td>\n",
       "      <td>26.000</td>\n",
       "      <td>50.000</td>\n",
       "      <td>52.000</td>\n",
       "    </tr>\n",
       "    <tr>\n",
       "      <td>Service time</td>\n",
       "      <td>740.0</td>\n",
       "      <td>12.554054</td>\n",
       "      <td>4.384873</td>\n",
       "      <td>1.000</td>\n",
       "      <td>9.000</td>\n",
       "      <td>13.000</td>\n",
       "      <td>16.000</td>\n",
       "      <td>29.000</td>\n",
       "    </tr>\n",
       "    <tr>\n",
       "      <td>Age</td>\n",
       "      <td>740.0</td>\n",
       "      <td>36.450000</td>\n",
       "      <td>6.478772</td>\n",
       "      <td>27.000</td>\n",
       "      <td>31.000</td>\n",
       "      <td>37.000</td>\n",
       "      <td>40.000</td>\n",
       "      <td>58.000</td>\n",
       "    </tr>\n",
       "    <tr>\n",
       "      <td>Work load Average/day</td>\n",
       "      <td>740.0</td>\n",
       "      <td>271.490235</td>\n",
       "      <td>39.058116</td>\n",
       "      <td>205.917</td>\n",
       "      <td>244.387</td>\n",
       "      <td>264.249</td>\n",
       "      <td>294.217</td>\n",
       "      <td>378.884</td>\n",
       "    </tr>\n",
       "    <tr>\n",
       "      <td>Hit target</td>\n",
       "      <td>740.0</td>\n",
       "      <td>94.587838</td>\n",
       "      <td>3.779313</td>\n",
       "      <td>81.000</td>\n",
       "      <td>93.000</td>\n",
       "      <td>95.000</td>\n",
       "      <td>97.000</td>\n",
       "      <td>100.000</td>\n",
       "    </tr>\n",
       "    <tr>\n",
       "      <td>Disciplinary failure</td>\n",
       "      <td>740.0</td>\n",
       "      <td>0.054054</td>\n",
       "      <td>0.226277</td>\n",
       "      <td>0.000</td>\n",
       "      <td>0.000</td>\n",
       "      <td>0.000</td>\n",
       "      <td>0.000</td>\n",
       "      <td>1.000</td>\n",
       "    </tr>\n",
       "    <tr>\n",
       "      <td>Education</td>\n",
       "      <td>740.0</td>\n",
       "      <td>1.291892</td>\n",
       "      <td>0.673238</td>\n",
       "      <td>1.000</td>\n",
       "      <td>1.000</td>\n",
       "      <td>1.000</td>\n",
       "      <td>1.000</td>\n",
       "      <td>4.000</td>\n",
       "    </tr>\n",
       "    <tr>\n",
       "      <td>Son</td>\n",
       "      <td>740.0</td>\n",
       "      <td>1.018919</td>\n",
       "      <td>1.098489</td>\n",
       "      <td>0.000</td>\n",
       "      <td>0.000</td>\n",
       "      <td>1.000</td>\n",
       "      <td>2.000</td>\n",
       "      <td>4.000</td>\n",
       "    </tr>\n",
       "    <tr>\n",
       "      <td>Social drinker</td>\n",
       "      <td>740.0</td>\n",
       "      <td>0.567568</td>\n",
       "      <td>0.495749</td>\n",
       "      <td>0.000</td>\n",
       "      <td>0.000</td>\n",
       "      <td>1.000</td>\n",
       "      <td>1.000</td>\n",
       "      <td>1.000</td>\n",
       "    </tr>\n",
       "    <tr>\n",
       "      <td>Social smoker</td>\n",
       "      <td>740.0</td>\n",
       "      <td>0.072973</td>\n",
       "      <td>0.260268</td>\n",
       "      <td>0.000</td>\n",
       "      <td>0.000</td>\n",
       "      <td>0.000</td>\n",
       "      <td>0.000</td>\n",
       "      <td>1.000</td>\n",
       "    </tr>\n",
       "    <tr>\n",
       "      <td>Pet</td>\n",
       "      <td>740.0</td>\n",
       "      <td>0.745946</td>\n",
       "      <td>1.318258</td>\n",
       "      <td>0.000</td>\n",
       "      <td>0.000</td>\n",
       "      <td>0.000</td>\n",
       "      <td>1.000</td>\n",
       "      <td>8.000</td>\n",
       "    </tr>\n",
       "    <tr>\n",
       "      <td>Weight</td>\n",
       "      <td>740.0</td>\n",
       "      <td>79.035135</td>\n",
       "      <td>12.883211</td>\n",
       "      <td>56.000</td>\n",
       "      <td>69.000</td>\n",
       "      <td>83.000</td>\n",
       "      <td>89.000</td>\n",
       "      <td>108.000</td>\n",
       "    </tr>\n",
       "    <tr>\n",
       "      <td>Height</td>\n",
       "      <td>740.0</td>\n",
       "      <td>172.114865</td>\n",
       "      <td>6.034995</td>\n",
       "      <td>163.000</td>\n",
       "      <td>169.000</td>\n",
       "      <td>170.000</td>\n",
       "      <td>172.000</td>\n",
       "      <td>196.000</td>\n",
       "    </tr>\n",
       "    <tr>\n",
       "      <td>Body mass index</td>\n",
       "      <td>740.0</td>\n",
       "      <td>26.677027</td>\n",
       "      <td>4.285452</td>\n",
       "      <td>19.000</td>\n",
       "      <td>24.000</td>\n",
       "      <td>25.000</td>\n",
       "      <td>31.000</td>\n",
       "      <td>38.000</td>\n",
       "    </tr>\n",
       "    <tr>\n",
       "      <td>Absenteeism time in hours</td>\n",
       "      <td>740.0</td>\n",
       "      <td>6.924324</td>\n",
       "      <td>13.330998</td>\n",
       "      <td>0.000</td>\n",
       "      <td>2.000</td>\n",
       "      <td>3.000</td>\n",
       "      <td>8.000</td>\n",
       "      <td>120.000</td>\n",
       "    </tr>\n",
       "  </tbody>\n",
       "</table>\n",
       "</div>"
      ],
      "text/plain": [
       "                                 count        mean        std      min  \\\n",
       "ID                               740.0  18.017568   11.021247  1.000     \n",
       "Reason for absence               740.0  19.216216   8.433406   0.000     \n",
       "Month of absence                 740.0  6.324324    3.436287   0.000     \n",
       "Day of the week                  740.0  3.914865    1.421675   2.000     \n",
       "Seasons                          740.0  2.544595    1.111831   1.000     \n",
       "Transportation expense           740.0  221.329730  66.952223  118.000   \n",
       "Distance from Residence to Work  740.0  29.631081   14.836788  5.000     \n",
       "Service time                     740.0  12.554054   4.384873   1.000     \n",
       "Age                              740.0  36.450000   6.478772   27.000    \n",
       "Work load Average/day            740.0  271.490235  39.058116  205.917   \n",
       "Hit target                       740.0  94.587838   3.779313   81.000    \n",
       "Disciplinary failure             740.0  0.054054    0.226277   0.000     \n",
       "Education                        740.0  1.291892    0.673238   1.000     \n",
       "Son                              740.0  1.018919    1.098489   0.000     \n",
       "Social drinker                   740.0  0.567568    0.495749   0.000     \n",
       "Social smoker                    740.0  0.072973    0.260268   0.000     \n",
       "Pet                              740.0  0.745946    1.318258   0.000     \n",
       "Weight                           740.0  79.035135   12.883211  56.000    \n",
       "Height                           740.0  172.114865  6.034995   163.000   \n",
       "Body mass index                  740.0  26.677027   4.285452   19.000    \n",
       "Absenteeism time in hours        740.0  6.924324    13.330998  0.000     \n",
       "\n",
       "                                     25%      50%      75%      max  \n",
       "ID                               9.000    18.000   28.000   36.000   \n",
       "Reason for absence               13.000   23.000   26.000   28.000   \n",
       "Month of absence                 3.000    6.000    9.000    12.000   \n",
       "Day of the week                  3.000    4.000    5.000    6.000    \n",
       "Seasons                          2.000    3.000    4.000    4.000    \n",
       "Transportation expense           179.000  225.000  260.000  388.000  \n",
       "Distance from Residence to Work  16.000   26.000   50.000   52.000   \n",
       "Service time                     9.000    13.000   16.000   29.000   \n",
       "Age                              31.000   37.000   40.000   58.000   \n",
       "Work load Average/day            244.387  264.249  294.217  378.884  \n",
       "Hit target                       93.000   95.000   97.000   100.000  \n",
       "Disciplinary failure             0.000    0.000    0.000    1.000    \n",
       "Education                        1.000    1.000    1.000    4.000    \n",
       "Son                              0.000    1.000    2.000    4.000    \n",
       "Social drinker                   0.000    1.000    1.000    1.000    \n",
       "Social smoker                    0.000    0.000    0.000    1.000    \n",
       "Pet                              0.000    0.000    1.000    8.000    \n",
       "Weight                           69.000   83.000   89.000   108.000  \n",
       "Height                           169.000  170.000  172.000  196.000  \n",
       "Body mass index                  24.000   25.000   31.000   38.000   \n",
       "Absenteeism time in hours        2.000    3.000    8.000    120.000  "
      ]
     },
     "execution_count": 4,
     "metadata": {},
     "output_type": "execute_result"
    }
   ],
   "source": [
    "df.describe().T"
   ]
  },
  {
   "cell_type": "markdown",
   "metadata": {},
   "source": [
    "## Cardinalidade\n",
    "Varificando a cardinalidade dos atributos inteiros. No dataset passado, as variáveis categóricas devem ter passado por um processo de Label Encoder e, portanto, estão como números inteiros. Abaixo, veremos a cardinalidade de cada atributo e analisaremos para ver como tratar cada caso."
   ]
  },
  {
   "cell_type": "code",
   "execution_count": 5,
   "metadata": {},
   "outputs": [
    {
     "data": {
      "text/html": [
       "<div>\n",
       "<style scoped>\n",
       "    .dataframe tbody tr th:only-of-type {\n",
       "        vertical-align: middle;\n",
       "    }\n",
       "\n",
       "    .dataframe tbody tr th {\n",
       "        vertical-align: top;\n",
       "    }\n",
       "\n",
       "    .dataframe thead th {\n",
       "        text-align: right;\n",
       "    }\n",
       "</style>\n",
       "<table border=\"1\" class=\"dataframe\">\n",
       "  <thead>\n",
       "    <tr style=\"text-align: right;\">\n",
       "      <th></th>\n",
       "      <th>Atributo</th>\n",
       "      <th>Cardinalidade</th>\n",
       "      <th>Valores</th>\n",
       "    </tr>\n",
       "  </thead>\n",
       "  <tbody>\n",
       "    <tr>\n",
       "      <td>14</td>\n",
       "      <td>Social smoker</td>\n",
       "      <td>2</td>\n",
       "      <td>[0, 1]</td>\n",
       "    </tr>\n",
       "    <tr>\n",
       "      <td>13</td>\n",
       "      <td>Social drinker</td>\n",
       "      <td>2</td>\n",
       "      <td>[1, 0]</td>\n",
       "    </tr>\n",
       "    <tr>\n",
       "      <td>10</td>\n",
       "      <td>Disciplinary failure</td>\n",
       "      <td>2</td>\n",
       "      <td>[0, 1]</td>\n",
       "    </tr>\n",
       "    <tr>\n",
       "      <td>4</td>\n",
       "      <td>Seasons</td>\n",
       "      <td>4</td>\n",
       "      <td>[1, 4, 2, 3]</td>\n",
       "    </tr>\n",
       "    <tr>\n",
       "      <td>11</td>\n",
       "      <td>Education</td>\n",
       "      <td>4</td>\n",
       "      <td>[1, 3, 2, 4]</td>\n",
       "    </tr>\n",
       "    <tr>\n",
       "      <td>3</td>\n",
       "      <td>Day of the week</td>\n",
       "      <td>5</td>\n",
       "      <td>[3, 4, 5, 6, 2]</td>\n",
       "    </tr>\n",
       "    <tr>\n",
       "      <td>12</td>\n",
       "      <td>Son</td>\n",
       "      <td>5</td>\n",
       "      <td>[2, 1, 0, 4, 3]</td>\n",
       "    </tr>\n",
       "    <tr>\n",
       "      <td>15</td>\n",
       "      <td>Pet</td>\n",
       "      <td>6</td>\n",
       "      <td>[1, 0, 4, 2, 5, 8]</td>\n",
       "    </tr>\n",
       "    <tr>\n",
       "      <td>9</td>\n",
       "      <td>Hit target</td>\n",
       "      <td>13</td>\n",
       "      <td>[97, 92, 93, 95, 99, 96, 94, 98, 81, 88, 100, 87, 91]</td>\n",
       "    </tr>\n",
       "    <tr>\n",
       "      <td>2</td>\n",
       "      <td>Month of absence</td>\n",
       "      <td>13</td>\n",
       "      <td>[7, 8, 9, 10, 11, 12, 1, 2, 3, 4, 5, 6, 0]</td>\n",
       "    </tr>\n",
       "    <tr>\n",
       "      <td>17</td>\n",
       "      <td>Height</td>\n",
       "      <td>14</td>\n",
       "      <td>[172, 178, 170, 168, 196, 167, 165, 182, 185, 163, 169, 171, 174, 175]</td>\n",
       "    </tr>\n",
       "    <tr>\n",
       "      <td>18</td>\n",
       "      <td>Body mass index</td>\n",
       "      <td>17</td>\n",
       "      <td>[30, 31, 24, 27, 23, 25, 29, 32, 22, 33, 21, 28, 38, 19, 36, 35, 34]</td>\n",
       "    </tr>\n",
       "    <tr>\n",
       "      <td>7</td>\n",
       "      <td>Service time</td>\n",
       "      <td>18</td>\n",
       "      <td>[13, 18, 14, 3, 11, 16, 4, 6, 12, 7, 10, 9, 17, 29, 8, 1, 15, 24]</td>\n",
       "    </tr>\n",
       "    <tr>\n",
       "      <td>19</td>\n",
       "      <td>Absenteeism time in hours</td>\n",
       "      <td>19</td>\n",
       "      <td>[4, 0, 2, 8, 40, 1, 7, 3, 32, 5, 16, 24, 64, 56, 80, 120, 112, 104, 48]</td>\n",
       "    </tr>\n",
       "    <tr>\n",
       "      <td>8</td>\n",
       "      <td>Age</td>\n",
       "      <td>22</td>\n",
       "      <td>[33, 50, 38, 39, 28, 36, 34, 37, 41, 47, 29, 48, 32, 27, 43, 40, 31, 30, 49, 58, 46, 53]</td>\n",
       "    </tr>\n",
       "    <tr>\n",
       "      <td>5</td>\n",
       "      <td>Transportation expense</td>\n",
       "      <td>24</td>\n",
       "      <td>[289, 118, 179, 279, 361, 260, 155, 235, 246, 189, 248, 330, 157, 291, 184, 225, 369, 388, 378, 228, 300, 268, 231, 233]</td>\n",
       "    </tr>\n",
       "    <tr>\n",
       "      <td>6</td>\n",
       "      <td>Distance from Residence to Work</td>\n",
       "      <td>25</td>\n",
       "      <td>[36, 13, 51, 5, 52, 50, 12, 11, 25, 29, 16, 27, 42, 10, 20, 31, 26, 17, 22, 15, 49, 48, 14, 35, 45]</td>\n",
       "    </tr>\n",
       "    <tr>\n",
       "      <td>16</td>\n",
       "      <td>Weight</td>\n",
       "      <td>26</td>\n",
       "      <td>[90, 98, 89, 68, 80, 65, 95, 88, 67, 69, 86, 84, 75, 58, 83, 106, 73, 70, 56, 63, 76, 108, 77, 79, 100, 94]</td>\n",
       "    </tr>\n",
       "    <tr>\n",
       "      <td>1</td>\n",
       "      <td>Reason for absence</td>\n",
       "      <td>28</td>\n",
       "      <td>[26, 0, 23, 7, 22, 19, 1, 11, 14, 21, 10, 13, 28, 18, 25, 24, 6, 27, 17, 8, 12, 5, 9, 15, 4, 3, 2, 16]</td>\n",
       "    </tr>\n",
       "    <tr>\n",
       "      <td>0</td>\n",
       "      <td>ID</td>\n",
       "      <td>36</td>\n",
       "      <td>[11, 36, 3, 7, 10, 20, 14, 1, 24, 6, 33, 18, 30, 2, 19, 27, 34, 5, 15, 29, 28, 13, 22, 17, 31, 23, 32, 9, 26, 21, 8, 25, 12, 16, 4, 35]</td>\n",
       "    </tr>\n",
       "  </tbody>\n",
       "</table>\n",
       "</div>"
      ],
      "text/plain": [
       "                           Atributo  Cardinalidade  \\\n",
       "14  Social smoker                    2               \n",
       "13  Social drinker                   2               \n",
       "10  Disciplinary failure             2               \n",
       "4   Seasons                          4               \n",
       "11  Education                        4               \n",
       "3   Day of the week                  5               \n",
       "12  Son                              5               \n",
       "15  Pet                              6               \n",
       "9   Hit target                       13              \n",
       "2   Month of absence                 13              \n",
       "17  Height                           14              \n",
       "18  Body mass index                  17              \n",
       "7   Service time                     18              \n",
       "19  Absenteeism time in hours        19              \n",
       "8   Age                              22              \n",
       "5   Transportation expense           24              \n",
       "6   Distance from Residence to Work  25              \n",
       "16  Weight                           26              \n",
       "1   Reason for absence               28              \n",
       "0   ID                               36              \n",
       "\n",
       "                                                                                                                                    Valores  \n",
       "14  [0, 1]                                                                                                                                   \n",
       "13  [1, 0]                                                                                                                                   \n",
       "10  [0, 1]                                                                                                                                   \n",
       "4   [1, 4, 2, 3]                                                                                                                             \n",
       "11  [1, 3, 2, 4]                                                                                                                             \n",
       "3   [3, 4, 5, 6, 2]                                                                                                                          \n",
       "12  [2, 1, 0, 4, 3]                                                                                                                          \n",
       "15  [1, 0, 4, 2, 5, 8]                                                                                                                       \n",
       "9   [97, 92, 93, 95, 99, 96, 94, 98, 81, 88, 100, 87, 91]                                                                                    \n",
       "2   [7, 8, 9, 10, 11, 12, 1, 2, 3, 4, 5, 6, 0]                                                                                               \n",
       "17  [172, 178, 170, 168, 196, 167, 165, 182, 185, 163, 169, 171, 174, 175]                                                                   \n",
       "18  [30, 31, 24, 27, 23, 25, 29, 32, 22, 33, 21, 28, 38, 19, 36, 35, 34]                                                                     \n",
       "7   [13, 18, 14, 3, 11, 16, 4, 6, 12, 7, 10, 9, 17, 29, 8, 1, 15, 24]                                                                        \n",
       "19  [4, 0, 2, 8, 40, 1, 7, 3, 32, 5, 16, 24, 64, 56, 80, 120, 112, 104, 48]                                                                  \n",
       "8   [33, 50, 38, 39, 28, 36, 34, 37, 41, 47, 29, 48, 32, 27, 43, 40, 31, 30, 49, 58, 46, 53]                                                 \n",
       "5   [289, 118, 179, 279, 361, 260, 155, 235, 246, 189, 248, 330, 157, 291, 184, 225, 369, 388, 378, 228, 300, 268, 231, 233]                 \n",
       "6   [36, 13, 51, 5, 52, 50, 12, 11, 25, 29, 16, 27, 42, 10, 20, 31, 26, 17, 22, 15, 49, 48, 14, 35, 45]                                      \n",
       "16  [90, 98, 89, 68, 80, 65, 95, 88, 67, 69, 86, 84, 75, 58, 83, 106, 73, 70, 56, 63, 76, 108, 77, 79, 100, 94]                              \n",
       "1   [26, 0, 23, 7, 22, 19, 1, 11, 14, 21, 10, 13, 28, 18, 25, 24, 6, 27, 17, 8, 12, 5, 9, 15, 4, 3, 2, 16]                                   \n",
       "0   [11, 36, 3, 7, 10, 20, 14, 1, 24, 6, 33, 18, 30, 2, 19, 27, 34, 5, 15, 29, 28, 13, 22, 17, 31, 23, 32, 9, 26, 21, 8, 25, 12, 16, 4, 35]  "
      ]
     },
     "execution_count": 5,
     "metadata": {},
     "output_type": "execute_result"
    }
   ],
   "source": [
    "df = df.select_dtypes(exclude=[\"float64\"])\n",
    "\n",
    "matriz_cardialidade = []\n",
    "\n",
    "for i, coluna in df.items():\n",
    "    matriz_cardialidade.append([i, len(df[i].unique()), df[i].unique()])\n",
    "            \n",
    "matriz_cardialidade = pd.DataFrame(matriz_cardialidade, columns=[\"Atributo\", \"Cardinalidade\", \"Valores\"])\n",
    "matriz_cardialidade.sort_values(by=\"Cardinalidade\", inplace=True, ascending=True)\n",
    "    \n",
    "matriz_cardialidade"
   ]
  },
  {
   "cell_type": "markdown",
   "metadata": {},
   "source": [
    "## Análise preliminar da base e ações:\n",
    "1. **Existência de campo de identificação:** Remover campos que identifiquem a pessoa, pois queremos um modelo capaz de generalizar.\n",
    "2. **Incongruências no fator/atribuo/variável independente \"Month of absence\":** Existem 3 registros \"0\", o que não é possível."
   ]
  },
  {
   "cell_type": "markdown",
   "metadata": {},
   "source": [
    "### Arrumando base:\n",
    "1. **Existência de campo de identificação:** Remover campos que identifiquem a pessoa, pois queremos um modelo capaz de generalizar."
   ]
  },
  {
   "cell_type": "code",
   "execution_count": 6,
   "metadata": {},
   "outputs": [],
   "source": [
    "df_temporario = df.drop([\"ID\"], axis=1).copy()"
   ]
  },
  {
   "cell_type": "markdown",
   "metadata": {},
   "source": [
    "2. **Incongruências no fator/atribuo/variável independente \"Month of absence\":** Existem 3 registros \"0\", o que não é possível."
   ]
  },
  {
   "cell_type": "code",
   "execution_count": 7,
   "metadata": {},
   "outputs": [
    {
     "name": "stdout",
     "output_type": "stream",
     "text": [
      "Estação: 1\n",
      "7    67\n",
      "8    54\n",
      "9    32\n",
      "6    16\n",
      "0    1 \n",
      "Name: Month of absence, dtype: int64\n",
      "--------------------------------------------------\n",
      "Estação: 2\n",
      "2     72\n",
      "3     60\n",
      "1     50\n",
      "12    9 \n",
      "0     1 \n",
      "Name: Month of absence, dtype: int64\n",
      "--------------------------------------------------\n",
      "Estação: 3\n",
      "5    64\n",
      "4    53\n",
      "6    38\n",
      "3    27\n",
      "0    1 \n",
      "Name: Month of absence, dtype: int64\n",
      "--------------------------------------------------\n"
     ]
    }
   ],
   "source": [
    "seasons_list = sorted(df_temporario[\"Seasons\"].unique())\n",
    "\n",
    "for season in seasons_list:\n",
    "    if 0 in (df_temporario[df_temporario[\"Seasons\"] == season][\"Month of absence\"].unique()):\n",
    "        print(f\"\"\"Estação: {season}\"\"\")\n",
    "        print(f\"\"\"{df_temporario[df_temporario[\"Seasons\"] == season][\"Month of absence\"].value_counts()}\"\"\")\n",
    "        print(\"-\"*50)"
   ]
  },
  {
   "cell_type": "markdown",
   "metadata": {},
   "source": [
    "Como tratam-se de poucos registros, vou substituir o 0 de cada \"Month of absence\" pela categoria de maior frequência dentro de cada estação."
   ]
  },
  {
   "cell_type": "code",
   "execution_count": 8,
   "metadata": {},
   "outputs": [],
   "source": [
    "df_temporario.loc[(df_temporario[\"Seasons\"] == 1) & (df_temporario[\"Month of absence\"] == 0), [\"Month of absence\"]] = df_temporario.loc[df_temporario[\"Seasons\"] == 1, [\"Month of absence\"]].mode()\n",
    "df_temporario.loc[(df_temporario[\"Seasons\"] == 2) & (df_temporario[\"Month of absence\"] == 0), [\"Month of absence\"]] = df_temporario.loc[df_temporario[\"Seasons\"] == 2, [\"Month of absence\"]].mode()\n",
    "df_temporario.loc[(df_temporario[\"Seasons\"] == 3) & (df_temporario[\"Month of absence\"] == 0), [\"Month of absence\"]] = df_temporario.loc[df_temporario[\"Seasons\"] == 3, [\"Month of absence\"]].mode()"
   ]
  },
  {
   "cell_type": "markdown",
   "metadata": {},
   "source": [
    "# Criação de novo target\n",
    "No problema original, a variável resposta/variável dependente/target é \"Absenteeism time in hours\". Porém, vou propor uma divisão em 3 classes:\n",
    "1. Menos de 1 dia\n",
    "2. 1 dia\n",
    "3. Mais de 1 dia\n",
    "\n",
    "Com o histograma abaixo, é possível observar que 8h, ou um dia útil é a moda do nosso atributo \"Absenteeism time in hours\". E, para mim, é importante saber se uma pessoa ficará afastada menos de um dia, um dia e mais de um dia."
   ]
  },
  {
   "cell_type": "code",
   "execution_count": 15,
   "metadata": {},
   "outputs": [
    {
     "data": {
      "text/plain": [
       "<matplotlib.axes._subplots.AxesSubplot at 0xab2e710>"
      ]
     },
     "execution_count": 15,
     "metadata": {},
     "output_type": "execute_result"
    },
    {
     "data": {
      "image/png": "[encoded data removed]",
      "text/plain": [
       "<Figure size 432x288 with 1 Axes>"
      ]
     },
     "metadata": {
      "needs_background": "light"
     },
     "output_type": "display_data"
    }
   ],
   "source": [
    "df_temporario[\"Absenteeism time in hours\"].value_counts().sort_index().plot(kind=\"bar\")"
   ]
  },
  {
   "cell_type": "code",
   "execution_count": 20,
   "metadata": {},
   "outputs": [],
   "source": [
    "df_temporario[\"Absenteeism\"] = np.where(df_temporario[\"Absenteeism time in hours\"] < 8, 0,\n",
    "                                       (np.where(df_temporario[\"Absenteeism time in hours\"] == 8, 1, 2)))\n",
    "\n",
    "df_temporario.drop(\"Absenteeism time in hours\", axis=1, inplace=True)"
   ]
  },
  {
   "cell_type": "code",
   "execution_count": 35,
   "metadata": {},
   "outputs": [
    {
     "data": {
      "image/png": "[encoded data removed]",
      "text/plain": [
       "<Figure size 432x288 with 1 Axes>"
      ]
     },
     "metadata": {
      "needs_background": "light"
     },
     "output_type": "display_data"
    }
   ],
   "source": [
    "ax = df_temporario[\"Absenteeism\"].value_counts().sort_index().plot.bar()"
   ]
  },
  {
   "cell_type": "markdown",
   "metadata": {},
   "source": [
    "# Feature selection:\n",
    "Vou usar três técnicas para verificar o impacto dos atributos categóricos sobre a resposta:\n",
    "1. Fischer score;\n",
    "2. ROC-AUC para uma variável; e\n",
    "3. Boruta."
   ]
  },
  {
   "cell_type": "markdown",
   "metadata": {},
   "source": [
    "Dividindo o dataset em treino e teste:"
   ]
  },
  {
   "cell_type": "code",
   "execution_count": 36,
   "metadata": {},
   "outputs": [],
   "source": [
    "x = df_temporario.drop(\"Absenteeism\", axis=1)\n",
    "y = df_temporario.Absenteeism\n",
    "\n",
    "x_train, x_test, y_train, y_test = train_test_split(x, y, test_size=0.3, random_state=0)"
   ]
  },
  {
   "cell_type": "markdown",
   "metadata": {},
   "source": [
    "## 1. Fischer score"
   ]
  },
  {
   "cell_type": "code",
   "execution_count": 37,
   "metadata": {},
   "outputs": [],
   "source": [
    "from sklearn.feature_selection import chi2\n",
    "from sklearn.feature_selection import (SelectKBest\n",
    "                                       , SelectPercentile)"
   ]
  },
  {
   "cell_type": "code",
   "execution_count": 38,
   "metadata": {},
   "outputs": [
    {
     "data": {
      "text/plain": [
       "Transportation expense             9.799084e-61\n",
       "Reason for absence                 5.979396e-38\n",
       "Disciplinary failure               5.088622e-04\n",
       "Pet                                6.728721e-04\n",
       "Son                                7.606347e-03\n",
       "Day of the week                    4.619153e-02\n",
       "Distance from Residence to Work    9.605390e-02\n",
       "Social drinker                     1.302875e-01\n",
       "Social smoker                      1.780061e-01\n",
       "Service time                       3.267145e-01\n",
       "Seasons                            4.218695e-01\n",
       "Height                             5.024218e-01\n",
       "Weight                             5.478802e-01\n",
       "Month of absence                   5.997971e-01\n",
       "Body mass index                    6.372772e-01\n",
       "Age                                8.990823e-01\n",
       "Education                          9.068147e-01\n",
       "Hit target                         9.982124e-01\n",
       "dtype: float64"
      ]
     },
     "execution_count": 38,
     "metadata": {},
     "output_type": "execute_result"
    }
   ],
   "source": [
    "f_score = chi2(x_train.fillna(0), y_train)\n",
    "\n",
    "pvalues = pd.Series(f_score[1])\n",
    "pvalues.index = x_train.columns\n",
    "pvalues.sort_values(ascending=True)"
   ]
  },
  {
   "cell_type": "code",
   "execution_count": 49,
   "metadata": {},
   "outputs": [],
   "source": [
    "atributos_fisher = list(pvalues[pvalues<1e-02].index)\n",
    "\n",
    "x_train_filtrado = x_train[atributos_fisher]\n",
    "x_test_filtrado = x_test[atributos_fisher]"
   ]
  },
  {
   "cell_type": "markdown",
   "metadata": {},
   "source": [
    "**Conclusão do uso do Fisher score:** A lista acima indica, de cima para baixo, os fatores com maior importância para a resposta. Eu escolherei trabalhar com as 4 primeiras. "
   ]
  },
  {
   "cell_type": "markdown",
   "metadata": {},
   "source": [
    "# Aplicação dos modelos:\n",
    "\n",
    "Vou testar alguns modelos separadamente e na seguinte ordem:\n",
    "\n",
    "1. Árvore de decisão\n",
    "2. Random forest\n",
    "3. Logistic regression\n",
    "4. Naive Bayes\n",
    "5. SVM e Kernel SVM"
   ]
  },
  {
   "cell_type": "markdown",
   "metadata": {},
   "source": [
    "# 1. Árvore de decisão\n",
    "Comecei por esse pois é o modelo mais robusto a um dataprep mal feito."
   ]
  },
  {
   "cell_type": "code",
   "execution_count": 50,
   "metadata": {},
   "outputs": [],
   "source": [
    "from sklearn.tree import (DecisionTreeClassifier\n",
    "                          , export)\n",
    "\n",
    "# classificador = DecisionTreeClassifier(criterion='entropy', random_state=0, max_depth=(len(x.columns)**0.5)*2)\n",
    "classificador = DecisionTreeClassifier(criterion='entropy'\n",
    "                                       , random_state=0\n",
    "                                       , max_depth=len(x_train_filtrado.columns))\n",
    "\n",
    "classificador.fit(x_train_filtrado, y_train)\n",
    "\n",
    "y_pred = classificador.predict(x_test_filtrado)"
   ]
  },
  {
   "cell_type": "code",
   "execution_count": 51,
   "metadata": {},
   "outputs": [
    {
     "name": "stdout",
     "output_type": "stream",
     "text": [
      "Métrica 1 (Acurácia): 0.711712.\n",
      "\n",
      "Métrica 2 (Relatório de classificação):\n",
      "              precision    recall  f1-score   support\n",
      "\n",
      "           0       0.75      0.94      0.83       133\n",
      "           1       0.60      0.49      0.54        68\n",
      "           2       0.00      0.00      0.00        21\n",
      "\n",
      "    accuracy                           0.71       222\n",
      "   macro avg       0.45      0.48      0.46       222\n",
      "weighted avg       0.63      0.71      0.66       222\n",
      "\n",
      "\n",
      "Normalized confusion matrix\n",
      "[[0.93984962 0.06015038 0.        ]\n",
      " [0.51470588 0.48529412 0.        ]\n",
      " [0.33333333 0.66666667 0.        ]]\n"
     ]
    },
    {
     "name": "stderr",
     "output_type": "stream",
     "text": [
      "C:\\Users\\user\\Anaconda3\\lib\\site-packages\\sklearn\\metrics\\classification.py:1437: UndefinedMetricWarning: Precision and F-score are ill-defined and being set to 0.0 in labels with no predicted samples.\n",
      "  'precision', 'predicted', average, warn_for)\n"
     ]
    },
    {
     "data": {
      "image/png": "[encoded data removed]",
      "text/plain": [
       "<Figure size 432x288 with 2 Axes>"
      ]
     },
     "metadata": {
      "needs_background": "light"
     },
     "output_type": "display_data"
    }
   ],
   "source": [
    "print(\"Métrica 1 (Acurácia): {:.6}.\\n\".format(accuracy_score(y_test, y_pred, normalize=True, sample_weight=None)))\n",
    "print(\"Métrica 2 (Relatório de classificação):\\n{}\\n\".format(classification_report(y_test, y_pred)))\n",
    "\n",
    "plot_confusion_matrix_2(y_test, y_pred, normalize=True);"
   ]
  },
  {
   "cell_type": "code",
   "execution_count": 52,
   "metadata": {},
   "outputs": [
    {
     "data": {
      "text/html": [
       "<div>\n",
       "<style scoped>\n",
       "    .dataframe tbody tr th:only-of-type {\n",
       "        vertical-align: middle;\n",
       "    }\n",
       "\n",
       "    .dataframe tbody tr th {\n",
       "        vertical-align: top;\n",
       "    }\n",
       "\n",
       "    .dataframe thead th {\n",
       "        text-align: right;\n",
       "    }\n",
       "</style>\n",
       "<table border=\"1\" class=\"dataframe\">\n",
       "  <thead>\n",
       "    <tr style=\"text-align: right;\">\n",
       "      <th></th>\n",
       "      <th>0</th>\n",
       "    </tr>\n",
       "  </thead>\n",
       "  <tbody>\n",
       "    <tr>\n",
       "      <td>Reason for absence</td>\n",
       "      <td>0.812027</td>\n",
       "    </tr>\n",
       "    <tr>\n",
       "      <td>Transportation expense</td>\n",
       "      <td>0.091487</td>\n",
       "    </tr>\n",
       "    <tr>\n",
       "      <td>Pet</td>\n",
       "      <td>0.065331</td>\n",
       "    </tr>\n",
       "    <tr>\n",
       "      <td>Son</td>\n",
       "      <td>0.031155</td>\n",
       "    </tr>\n",
       "    <tr>\n",
       "      <td>Disciplinary failure</td>\n",
       "      <td>0.000000</td>\n",
       "    </tr>\n",
       "  </tbody>\n",
       "</table>\n",
       "</div>"
      ],
      "text/plain": [
       "                               0\n",
       "Reason for absence      0.812027\n",
       "Transportation expense  0.091487\n",
       "Pet                     0.065331\n",
       "Son                     0.031155\n",
       "Disciplinary failure    0.000000"
      ]
     },
     "execution_count": 52,
     "metadata": {},
     "output_type": "execute_result"
    }
   ],
   "source": [
    "feature_importance = pd.DataFrame(data=(classificador.feature_importances_).reshape(1,len(x_train_filtrado.columns))\n",
    "                                  , columns=x_train_filtrado.columns)\n",
    "\n",
    "feature_importance = feature_importance.T\n",
    "\n",
    "feature_importance.sort_values(by=0, ascending=False)"
   ]
  },
  {
   "cell_type": "markdown",
   "metadata": {},
   "source": [
    "# 2. Random forest\n",
    "Outro modelo robusto a um dataprep mal feito."
   ]
  },
  {
   "cell_type": "code",
   "execution_count": 53,
   "metadata": {},
   "outputs": [],
   "source": [
    "from sklearn.ensemble import RandomForestClassifier\n",
    "\n",
    "classificador = RandomForestClassifier(n_estimators=40\n",
    "                                       , criterion='entropy'\n",
    "                                       , random_state=0\n",
    "                                       , max_depth=len(x_train_filtrado.columns))\n",
    "\n",
    "classificador.fit(x_train_filtrado, y_train)\n",
    "\n",
    "y_pred = classificador.predict(x_test_filtrado)"
   ]
  },
  {
   "cell_type": "code",
   "execution_count": 54,
   "metadata": {},
   "outputs": [
    {
     "name": "stdout",
     "output_type": "stream",
     "text": [
      "Métrica 1 (Acurácia): 0.689189.\n",
      "\n",
      "Métrica 2 (Relatório de classificação):\n",
      "              precision    recall  f1-score   support\n",
      "\n",
      "           0       0.80      0.83      0.82       133\n",
      "           1       0.50      0.62      0.55        68\n",
      "           2       0.00      0.00      0.00        21\n",
      "\n",
      "    accuracy                           0.69       222\n",
      "   macro avg       0.43      0.48      0.46       222\n",
      "weighted avg       0.64      0.69      0.66       222\n",
      "\n",
      "\n",
      "Normalized confusion matrix\n",
      "[[0.83458647 0.16541353 0.        ]\n",
      " [0.38235294 0.61764706 0.        ]\n",
      " [0.04761905 0.95238095 0.        ]]\n"
     ]
    },
    {
     "name": "stderr",
     "output_type": "stream",
     "text": [
      "C:\\Users\\user\\Anaconda3\\lib\\site-packages\\sklearn\\metrics\\classification.py:1437: UndefinedMetricWarning: Precision and F-score are ill-defined and being set to 0.0 in labels with no predicted samples.\n",
      "  'precision', 'predicted', average, warn_for)\n"
     ]
    },
    {
     "data": {
      "image/png": "[encoded data removed]",
      "text/plain": [
       "<Figure size 432x288 with 2 Axes>"
      ]
     },
     "metadata": {
      "needs_background": "light"
     },
     "output_type": "display_data"
    }
   ],
   "source": [
    "print(\"Métrica 1 (Acurácia): {:.6}.\\n\".format(accuracy_score(y_test, y_pred, normalize=True, sample_weight=None)))\n",
    "print(\"Métrica 2 (Relatório de classificação):\\n{}\\n\".format(classification_report(y_test, y_pred)))\n",
    "\n",
    "plot_confusion_matrix_2(y_test, y_pred, normalize=True);"
   ]
  },
  {
   "cell_type": "code",
   "execution_count": 55,
   "metadata": {},
   "outputs": [
    {
     "data": {
      "text/html": [
       "<div>\n",
       "<style scoped>\n",
       "    .dataframe tbody tr th:only-of-type {\n",
       "        vertical-align: middle;\n",
       "    }\n",
       "\n",
       "    .dataframe tbody tr th {\n",
       "        vertical-align: top;\n",
       "    }\n",
       "\n",
       "    .dataframe thead th {\n",
       "        text-align: right;\n",
       "    }\n",
       "</style>\n",
       "<table border=\"1\" class=\"dataframe\">\n",
       "  <thead>\n",
       "    <tr style=\"text-align: right;\">\n",
       "      <th></th>\n",
       "      <th>0</th>\n",
       "    </tr>\n",
       "  </thead>\n",
       "  <tbody>\n",
       "    <tr>\n",
       "      <td>Reason for absence</td>\n",
       "      <td>0.624632</td>\n",
       "    </tr>\n",
       "    <tr>\n",
       "      <td>Transportation expense</td>\n",
       "      <td>0.158118</td>\n",
       "    </tr>\n",
       "    <tr>\n",
       "      <td>Disciplinary failure</td>\n",
       "      <td>0.084205</td>\n",
       "    </tr>\n",
       "    <tr>\n",
       "      <td>Pet</td>\n",
       "      <td>0.070245</td>\n",
       "    </tr>\n",
       "    <tr>\n",
       "      <td>Son</td>\n",
       "      <td>0.062799</td>\n",
       "    </tr>\n",
       "  </tbody>\n",
       "</table>\n",
       "</div>"
      ],
      "text/plain": [
       "                               0\n",
       "Reason for absence      0.624632\n",
       "Transportation expense  0.158118\n",
       "Disciplinary failure    0.084205\n",
       "Pet                     0.070245\n",
       "Son                     0.062799"
      ]
     },
     "execution_count": 55,
     "metadata": {},
     "output_type": "execute_result"
    }
   ],
   "source": [
    "feature_importance = pd.DataFrame(data=(classificador.feature_importances_).reshape(1,len(x_train_filtrado.columns))\n",
    "                                  , columns=x_train_filtrado.columns)\n",
    "\n",
    "feature_importance = feature_importance.T\n",
    "\n",
    "feature_importance.sort_values(by=0, ascending=False)"
   ]
  },
  {
   "cell_type": "markdown",
   "metadata": {},
   "source": [
    "# 3. Logistic regression"
   ]
  },
  {
   "cell_type": "code",
   "execution_count": 56,
   "metadata": {},
   "outputs": [
    {
     "name": "stderr",
     "output_type": "stream",
     "text": [
      "C:\\Users\\user\\Anaconda3\\lib\\site-packages\\sklearn\\linear_model\\logistic.py:469: FutureWarning: Default multi_class will be changed to 'auto' in 0.22. Specify the multi_class option to silence this warning.\n",
      "  \"this warning.\", FutureWarning)\n"
     ]
    }
   ],
   "source": [
    "from sklearn.linear_model import LogisticRegression\n",
    "\n",
    "classificador = LogisticRegression(solver=\"lbfgs\"\n",
    "                                   , max_iter=500)\n",
    "classificador.fit(x_train_filtrado, y_train)\n",
    "\n",
    "y_pred = classificador.predict(x_test_filtrado)"
   ]
  },
  {
   "cell_type": "code",
   "execution_count": 57,
   "metadata": {},
   "outputs": [
    {
     "name": "stdout",
     "output_type": "stream",
     "text": [
      "Métrica 1 (Acurácia): 0.671171.\n",
      "\n",
      "Métrica 2 (Relatório de classificação):\n",
      "              precision    recall  f1-score   support\n",
      "\n",
      "           0       0.70      0.91      0.79       133\n",
      "           1       0.57      0.41      0.48        68\n",
      "           2       0.00      0.00      0.00        21\n",
      "\n",
      "    accuracy                           0.67       222\n",
      "   macro avg       0.42      0.44      0.42       222\n",
      "weighted avg       0.59      0.67      0.62       222\n",
      "\n",
      "\n",
      "Normalized confusion matrix\n",
      "[[0.90977444 0.09022556 0.        ]\n",
      " [0.58823529 0.41176471 0.        ]\n",
      " [0.57142857 0.42857143 0.        ]]\n"
     ]
    },
    {
     "name": "stderr",
     "output_type": "stream",
     "text": [
      "C:\\Users\\user\\Anaconda3\\lib\\site-packages\\sklearn\\metrics\\classification.py:1437: UndefinedMetricWarning: Precision and F-score are ill-defined and being set to 0.0 in labels with no predicted samples.\n",
      "  'precision', 'predicted', average, warn_for)\n"
     ]
    },
    {
     "data": {
      "image/png": "[encoded data removed]",
      "text/plain": [
       "<Figure size 432x288 with 2 Axes>"
      ]
     },
     "metadata": {
      "needs_background": "light"
     },
     "output_type": "display_data"
    }
   ],
   "source": [
    "print(\"Métrica 1 (Acurácia): {:.6}.\\n\".format(accuracy_score(y_test, y_pred, normalize=True, sample_weight=None)))\n",
    "print(\"Métrica 2 (Relatório de classificação):\\n{}\\n\".format(classification_report(y_test, y_pred)))\n",
    "\n",
    "plot_confusion_matrix_2(y_test, y_pred, normalize=True);"
   ]
  },
  {
   "cell_type": "markdown",
   "metadata": {},
   "source": [
    "# 4. Naive Bayes"
   ]
  },
  {
   "cell_type": "code",
   "execution_count": 58,
   "metadata": {},
   "outputs": [],
   "source": [
    "from sklearn.naive_bayes import GaussianNB\n",
    "\n",
    "classificador = GaussianNB()\n",
    "classificador.fit(x_train_filtrado, y_train)\n",
    "\n",
    "y_pred = classificador.predict(x_test_filtrado)"
   ]
  },
  {
   "cell_type": "code",
   "execution_count": 59,
   "metadata": {},
   "outputs": [
    {
     "name": "stdout",
     "output_type": "stream",
     "text": [
      "Métrica 1 (Acurácia): 0.337838.\n",
      "\n",
      "Métrica 2 (Relatório de classificação):\n",
      "              precision    recall  f1-score   support\n",
      "\n",
      "           0       1.00      0.09      0.17       133\n",
      "           1       0.32      0.88      0.47        68\n",
      "           2       0.14      0.14      0.14        21\n",
      "\n",
      "    accuracy                           0.34       222\n",
      "   macro avg       0.49      0.37      0.26       222\n",
      "weighted avg       0.71      0.34      0.26       222\n",
      "\n",
      "\n",
      "Normalized confusion matrix\n",
      "[[0.09022556 0.83458647 0.07518797]\n",
      " [0.         0.88235294 0.11764706]\n",
      " [0.         0.85714286 0.14285714]]\n"
     ]
    },
    {
     "data": {
      "image/png": "[encoded data removed]",
      "text/plain": [
       "<Figure size 432x288 with 2 Axes>"
      ]
     },
     "metadata": {
      "needs_background": "light"
     },
     "output_type": "display_data"
    }
   ],
   "source": [
    "print(\"Métrica 1 (Acurácia): {:.6}.\\n\".format(accuracy_score(y_test, y_pred, normalize=True, sample_weight=None)))\n",
    "print(\"Métrica 2 (Relatório de classificação):\\n{}\\n\".format(classification_report(y_test, y_pred)))\n",
    "\n",
    "plot_confusion_matrix_2(y_test, y_pred, normalize=True);"
   ]
  },
  {
   "cell_type": "markdown",
   "metadata": {},
   "source": [
    "# 5. SVM"
   ]
  },
  {
   "cell_type": "code",
   "execution_count": 60,
   "metadata": {},
   "outputs": [],
   "source": [
    "from sklearn.svm import SVC\n",
    "\n",
    "classificador = SVC(kernel='linear', random_state=0)\n",
    "classificador.fit(x_train_filtrado, y_train)\n",
    "\n",
    "y_pred = classificador.predict(x_test_filtrado)"
   ]
  },
  {
   "cell_type": "code",
   "execution_count": 61,
   "metadata": {},
   "outputs": [
    {
     "name": "stdout",
     "output_type": "stream",
     "text": [
      "Métrica 1 (Acurácia): 0.635135.\n",
      "\n",
      "Métrica 2 (Relatório de classificação):\n",
      "              precision    recall  f1-score   support\n",
      "\n",
      "           0       0.69      0.86      0.76       133\n",
      "           1       0.48      0.40      0.44        68\n",
      "           2       0.00      0.00      0.00        21\n",
      "\n",
      "    accuracy                           0.64       222\n",
      "   macro avg       0.39      0.42      0.40       222\n",
      "weighted avg       0.56      0.64      0.59       222\n",
      "\n",
      "\n",
      "Normalized confusion matrix\n",
      "[[0.85714286 0.14285714 0.        ]\n",
      " [0.60294118 0.39705882 0.        ]\n",
      " [0.52380952 0.47619048 0.        ]]\n"
     ]
    },
    {
     "name": "stderr",
     "output_type": "stream",
     "text": [
      "C:\\Users\\user\\Anaconda3\\lib\\site-packages\\sklearn\\metrics\\classification.py:1437: UndefinedMetricWarning: Precision and F-score are ill-defined and being set to 0.0 in labels with no predicted samples.\n",
      "  'precision', 'predicted', average, warn_for)\n"
     ]
    },
    {
     "data": {
      "image/png": "[encoded data removed]",
      "text/plain": [
       "<Figure size 432x288 with 2 Axes>"
      ]
     },
     "metadata": {
      "needs_background": "light"
     },
     "output_type": "display_data"
    }
   ],
   "source": [
    "print(\"Métrica 1 (Acurácia): {:.6}.\\n\".format(accuracy_score(y_test, y_pred, normalize=True, sample_weight=None)))\n",
    "print(\"Métrica 2 (Relatório de classificação):\\n{}\\n\".format(classification_report(y_test, y_pred)))\n",
    "\n",
    "plot_confusion_matrix_2(y_test, y_pred, normalize=True);"
   ]
  },
  {
   "cell_type": "markdown",
   "metadata": {},
   "source": [
    "# 6. Kernel SVM"
   ]
  },
  {
   "cell_type": "code",
   "execution_count": 62,
   "metadata": {},
   "outputs": [],
   "source": [
    "from sklearn.svm import SVC\n",
    "\n",
    "classificador = SVC(kernel='rbf', random_state=0, gamma=\"auto\")\n",
    "classificador.fit(x_train_filtrado, y_train)\n",
    "\n",
    "y_pred = classificador.predict(x_test_filtrado)"
   ]
  },
  {
   "cell_type": "code",
   "execution_count": 63,
   "metadata": {},
   "outputs": [
    {
     "name": "stdout",
     "output_type": "stream",
     "text": [
      "Métrica 1 (Acurácia): 0.653153.\n",
      "\n",
      "Métrica 2 (Relatório de classificação):\n",
      "              precision    recall  f1-score   support\n",
      "\n",
      "           0       0.75      0.86      0.80       133\n",
      "           1       0.47      0.43      0.45        68\n",
      "           2       0.22      0.10      0.13        21\n",
      "\n",
      "    accuracy                           0.65       222\n",
      "   macro avg       0.48      0.46      0.46       222\n",
      "weighted avg       0.62      0.65      0.63       222\n",
      "\n",
      "\n",
      "Normalized confusion matrix\n",
      "[[0.85714286 0.13533835 0.0075188 ]\n",
      " [0.48529412 0.42647059 0.08823529]\n",
      " [0.19047619 0.71428571 0.0952381 ]]\n"
     ]
    },
    {
     "data": {
      "image/png": "[encoded data removed]",
      "text/plain": [
       "<Figure size 432x288 with 2 Axes>"
      ]
     },
     "metadata": {
      "needs_background": "light"
     },
     "output_type": "display_data"
    }
   ],
   "source": [
    "print(\"Métrica 1 (Acurácia): {:.6}.\\n\".format(accuracy_score(y_test, y_pred, normalize=True, sample_weight=None)))\n",
    "print(\"Métrica 2 (Relatório de classificação):\\n{}\\n\".format(classification_report(y_test, y_pred)))\n",
    "\n",
    "plot_confusion_matrix_2(y_test, y_pred, normalize=True);"
   ]
  },
  {
   "cell_type": "markdown",
   "metadata": {},
   "source": [
    "Sumarizando os resultados e usando a **acurácia como métrica de comparação**, temos:\n",
    "\n",
    "1. Árvore de decisão: 0,71\n",
    "2. Random forest: 0,69\n",
    "3. Logistic regression: 0,67\n",
    "4. Naive Bayes: 0,34\n",
    "5. SVM: 0,64\n",
    "6. Kernel SVM: 0,65\n",
    "\n",
    "**Conclusão da comparação de modelos:** O modelo obtido usando a técnica Random Forest possui a maior acurácia e, portanto, usaremos esse modelo para o resto do notebook. **IMPORTANTÍSSIMO** salientar que não otimizamos os hiperparâmetros de cada modelo e há espaço para melhoria de cada um."
   ]
  },
  {
   "cell_type": "markdown",
   "metadata": {},
   "source": [
    "# Parte final: Refinando o modelo\n",
    "Agora com o modelo selecionado (Random Forest) e os atributos selecionados (Reason for absence, Transportation expense, Distance from Residence to Work, Disciplinary failure, Son), vamos refinar o modelo e finalizar esse notebook.\n",
    "\n",
    "Primeiro, vamos otimizar os hiperparâmetros usando **Grid search**."
   ]
  },
  {
   "cell_type": "markdown",
   "metadata": {},
   "source": [
    "## Grid Search"
   ]
  },
  {
   "cell_type": "code",
   "execution_count": 66,
   "metadata": {},
   "outputs": [],
   "source": [
    "x_train_filtrado = x_train[atributos_fisher]\n",
    "x_test_filtrado = x_test[atributos_fisher]"
   ]
  },
  {
   "cell_type": "code",
   "execution_count": 67,
   "metadata": {},
   "outputs": [],
   "source": [
    "parametros = {\"n_estimators\": range(10, 30, 5)\n",
    "              , \"criterion\": [\"gini\", \"entropy\"]\n",
    "              , \"max_depth\": range(int(len(x_train_filtrado.columns)**0.5), len(x_train_filtrado.columns))\n",
    "              , \"class_weight\": [\"balanced\", \"balanced_subsample\", None]}"
   ]
  },
  {
   "cell_type": "code",
   "execution_count": 68,
   "metadata": {},
   "outputs": [
    {
     "name": "stderr",
     "output_type": "stream",
     "text": [
      "C:\\Users\\user\\Anaconda3\\lib\\site-packages\\sklearn\\model_selection\\_search.py:813: DeprecationWarning: The default of the `iid` parameter will change from True to False in version 0.22 and will be removed in 0.24. This will change numeric results when test-set sizes are unequal.\n",
      "  DeprecationWarning)\n"
     ]
    },
    {
     "data": {
      "text/plain": [
       "GridSearchCV(cv=5, error_score='raise-deprecating',\n",
       "             estimator=RandomForestClassifier(bootstrap=True, class_weight=None,\n",
       "                                              criterion='gini', max_depth=None,\n",
       "                                              max_features='auto',\n",
       "                                              max_leaf_nodes=None,\n",
       "                                              min_impurity_decrease=0.0,\n",
       "                                              min_impurity_split=None,\n",
       "                                              min_samples_leaf=1,\n",
       "                                              min_samples_split=2,\n",
       "                                              min_weight_fraction_leaf=0.0,\n",
       "                                              n_estimators='warn', n_jobs=None,\n",
       "                                              oob_score=False,\n",
       "                                              random_state=None, verbose=0,\n",
       "                                              warm_start=False),\n",
       "             iid='warn', n_jobs=-1,\n",
       "             param_grid={'class_weight': ['balanced', 'balanced_subsample',\n",
       "                                          None],\n",
       "                         'criterion': ['gini', 'entropy'],\n",
       "                         'max_depth': range(2, 5),\n",
       "                         'n_estimators': range(10, 30, 5)},\n",
       "             pre_dispatch='2*n_jobs', refit=True, return_train_score=False,\n",
       "             scoring='accuracy', verbose=0)"
      ]
     },
     "execution_count": 68,
     "metadata": {},
     "output_type": "execute_result"
    }
   ],
   "source": [
    "from sklearn.model_selection import GridSearchCV\n",
    "\n",
    "classificador = RandomForestClassifier()\n",
    "\n",
    "classificador_grid_search = GridSearchCV(classificador\n",
    "                                         , parametros\n",
    "                                         , cv=5\n",
    "                                         , n_jobs=-1\n",
    "                                         , scoring=\"accuracy\")\n",
    "\n",
    "classificador_grid_search.fit(x_train_filtrado, y_train)"
   ]
  },
  {
   "cell_type": "code",
   "execution_count": 69,
   "metadata": {},
   "outputs": [
    {
     "data": {
      "text/plain": [
       "{'class_weight': None,\n",
       " 'criterion': 'entropy',\n",
       " 'max_depth': 3,\n",
       " 'n_estimators': 15}"
      ]
     },
     "execution_count": 69,
     "metadata": {},
     "output_type": "execute_result"
    }
   ],
   "source": [
    "classificador_grid_search.best_params_"
   ]
  },
  {
   "cell_type": "code",
   "execution_count": 70,
   "metadata": {},
   "outputs": [
    {
     "name": "stderr",
     "output_type": "stream",
     "text": [
      "C:\\Users\\user\\Anaconda3\\lib\\site-packages\\sklearn\\metrics\\classification.py:1437: UndefinedMetricWarning: Precision and F-score are ill-defined and being set to 0.0 in labels with no predicted samples.\n",
      "  'precision', 'predicted', average, warn_for)\n"
     ]
    },
    {
     "name": "stdout",
     "output_type": "stream",
     "text": [
      "Métrica 1 (Acurácia): 0.734234.\n",
      "\n",
      "Métrica 2 (Relatório de classificação):\n",
      "              precision    recall  f1-score   support\n",
      "\n",
      "           0       0.79      0.94      0.86       133\n",
      "           1       0.59      0.56      0.58        68\n",
      "           2       0.00      0.00      0.00        21\n",
      "\n",
      "    accuracy                           0.73       222\n",
      "   macro avg       0.46      0.50      0.48       222\n",
      "weighted avg       0.66      0.73      0.69       222\n",
      "\n",
      "\n",
      "Normalized confusion matrix\n",
      "[[0.93984962 0.06015038 0.        ]\n",
      " [0.44117647 0.55882353 0.        ]\n",
      " [0.14285714 0.85714286 0.        ]]\n"
     ]
    },
    {
     "data": {
      "image/png": "[encoded data removed]",
      "text/plain": [
       "<Figure size 432x288 with 2 Axes>"
      ]
     },
     "metadata": {
      "needs_background": "light"
     },
     "output_type": "display_data"
    }
   ],
   "source": [
    "classificador = RandomForestClassifier(n_estimators=20\n",
    "                                       , criterion=\"entropy\"\n",
    "                                       , max_depth=4\n",
    "                                       , class_weight=None)\n",
    "\n",
    "classificador.fit(x_train_filtrado, y_train)\n",
    "\n",
    "y_pred = classificador.predict(x_test_filtrado)\n",
    "\n",
    "print(\"Métrica 1 (Acurácia): {:.6}.\\n\".format(accuracy_score(y_test, y_pred, normalize=True, sample_weight=None)))\n",
    "print(\"Métrica 2 (Relatório de classificação):\\n{}\\n\".format(classification_report(y_test, y_pred)))\n",
    "\n",
    "plot_confusion_matrix_2(y_test, y_pred, normalize=True);"
   ]
  },
  {
   "cell_type": "code",
   "execution_count": null,
   "metadata": {},
   "outputs": [],
   "source": []
  }
 ],
 "metadata": {
  "kernelspec": {
   "display_name": "Python 3",
   "language": "python",
   "name": "python3"
  },
  "language_info": {
   "codemirror_mode": {
    "name": "ipython",
    "version": 3
   },
   "file_extension": ".py",
   "mimetype": "text/x-python",
   "name": "python",
   "nbconvert_exporter": "python",
   "pygments_lexer": "ipython3",
   "version": "3.7.4"
  }
 },
 "nbformat": 4,
 "nbformat_minor": 2
}
