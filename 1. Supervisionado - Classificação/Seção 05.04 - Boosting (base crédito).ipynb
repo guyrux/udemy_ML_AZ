{
 "cells": [
  {
   "cell_type": "markdown",
   "metadata": {},
   "source": [
    "# Seção 05.04 - Boosting (base crédito)\n",
    "Para esta seção, usarei a base de dados \"credit-data.csv\" disponibilizada no curso do Professor Jones na UDEMY.\n",
    "A parte teórica vem das aulas do prof. Eduardo Vargas Ferreira (LEG-UFPR)"
   ]
  },
  {
   "cell_type": "markdown",
   "metadata": {},
   "source": [
    "## Boosting\n",
    "Antes vamos lembrar a importância dos resíduos. Segundo o prof. Eduardo Vargas Ferreira (LEG-UFPR), \"nos resíduos está 'tudo' que o modelo não conseguiu captar\". Numa regressão temos:\n",
    "<tr>\n",
    "    <td>\n",
    "        <img src=\"../imagens/boosting_residuos.png\" alt=\"Relação entre a regressão e os resíduos.\" width=\"350\"/>\n",
    "        <p style=\"text-align:center\">Figura 01 - Relação entre a regressão e os resíduos.</p>\n",
    "        <p style=\"text-align:center\">Fonte: <a href=\"http://cursos.leg.ufpr.br/ML4all/1parte/\">Aulas do Prof. Eduardo Vargas Ferreira (LEG-UFPR)</a>.</p>\n",
    "    </td>\n",
    "</tr>\n",
    "\n",
    "A Figura 01 mostra a relação entre o erro total (**SQT**), o valor estimado pela regressão (**SQR**) e o resíduo (**SQE**). Ou seja, toda variabilidade **NÃO explicada** pela regressão ficará no resíduo.\n",
    "\n",
    "### 1. O que é?\n",
    "Modelos de aprendizado em conjunto (ensemble) do tipo boosting são construídos colocando estimadores em sequência, onde um estimador tenta reduzir o viés do conjunto anterior a ele. Ainda segundo a [documentação do do Sci-kit learn](https://scikit-learn.org/stable/modules/ensemble.html#ensemble), a motivação é combinar modelos fracos para produzir um conjunto (ensemble) poderoso.\n",
    "\n",
    "Boosting é classificado como um tipo de aprendizado em conjunto ou *Ensemble*. Existem três tipos de *Ensemble* que são o Bagging, o Boosting e, por fim, o Stacking.\n",
    "\n",
    "\n",
    "Fonte: [Breiman, 1994 - Bagging Predictors](https://www.stat.berkeley.edu/~breiman/bagging.pdf)\n",
    "\n",
    "\n",
    "## Exemplos de métodos de boosting\n",
    "### 1. AdaBoost / Adaptive Boosting (1995)\n",
    "- proposto por Freund, Y. e Schapire, R.\n",
    "\n",
    "### 2. Gradient Tree Boosting / Gradient Boosting Machine (GBM) (Fevereiro de 1999)\n",
    "- proposto por Friedman, J. H.\n",
    "\n",
    "### 3. XGBoost (Março de 2014)\n",
    "- proposto por Tianqi Chen.\n",
    "\n",
    "### 4. Light GBM (Janeiro de 2017)\n",
    "- proposto por Microsoft.\n",
    "\n",
    "### 5. CatBoost (Abril de 2017)\n",
    "- proposto por Yandex (comentário de Suto: \"Yandex é o Google Russo\").\n",
    "\n",
    "<tr>\n",
    "    <td>\n",
    "        <img src=\"../imagens/boosting_cat_XGB_LightGBM.PNG\" alt=\"CatBoost vs. Light GBM vs. XGBoost. Cronologia.\" width=\"580\"/>\n",
    "        <p style=\"text-align:center\">Figura 01 - CatBoost vs. Light GBM vs. XGBoost. Cronologia.</p>\n",
    "        <p style=\"text-align:center\">Fonte: <a href=\"https://towardsdatascience.com/catboost-vs-light-gbm-vs-xgboost-5f93620723db\">2018 - Swalin, A.; \"CatBoost vs. Light GBM vs. XGBoost; texto no Medium\"</a>.</p>\n",
    "    </td>\n",
    "</tr>"
   ]
  },
  {
   "cell_type": "code",
   "execution_count": 1,
   "metadata": {},
   "outputs": [
    {
     "name": "stderr",
     "output_type": "stream",
     "text": [
      "Enabling notebook extension jupyter-js-widgets/extension...\n",
      "      - Validating: ok\n"
     ]
    }
   ],
   "source": [
    "# Instruções basiconas de sempre.\n",
    "\n",
    "# Lidar com dataframes.\n",
    "import numpy as np\n",
    "import pandas as pd\n",
    "\n",
    "# Lidar com gráficos.\n",
    "import matplotlib.pyplot as plt\n",
    "import seaborn as sns\n",
    "from plotting import (multiple_histograms_plot,\n",
    "                      bar_plot_with_categorical,\n",
    "                      plot_confusion_matrix,\n",
    "                      plot_confusion_matrix_2,\n",
    "                      plot_roc)\n",
    "\n",
    "# Lidar com preparação de dados.\n",
    "from data_prep import data_prep as dp # Eu que fiz esse modulinho (\"uuuuuuuuuma bosts!\").\n",
    "from sklearn.impute import SimpleImputer\n",
    "from sklearn.preprocessing import StandardScaler\n",
    "\n",
    "# Lidar com validação de modelos.\n",
    "from sklearn.metrics import (confusion_matrix\n",
    "                             , accuracy_score\n",
    "                             , classification_report)\n",
    "\n",
    "from sklearn.model_selection import (train_test_split\n",
    "                                     , cross_val_score\n",
    "                                     , StratifiedKFold)\n",
    "\n",
    "pd.set_option('display.max_columns', None)  \n",
    "pd.set_option('display.max_colwidth', -1)\n",
    "pd.set_option('display.max_rows', 500)\n",
    "\n",
    "!jupyter nbextension enable --py widgetsnbextension"
   ]
  },
  {
   "cell_type": "code",
   "execution_count": 2,
   "metadata": {},
   "outputs": [
    {
     "data": {
      "text/html": [
       "<div>\n",
       "<style scoped>\n",
       "    .dataframe tbody tr th:only-of-type {\n",
       "        vertical-align: middle;\n",
       "    }\n",
       "\n",
       "    .dataframe tbody tr th {\n",
       "        vertical-align: top;\n",
       "    }\n",
       "\n",
       "    .dataframe thead th {\n",
       "        text-align: right;\n",
       "    }\n",
       "</style>\n",
       "<table border=\"1\" class=\"dataframe\">\n",
       "  <thead>\n",
       "    <tr style=\"text-align: right;\">\n",
       "      <th></th>\n",
       "      <th>0</th>\n",
       "      <th>1</th>\n",
       "      <th>2</th>\n",
       "      <th>3</th>\n",
       "      <th>4</th>\n",
       "    </tr>\n",
       "  </thead>\n",
       "  <tbody>\n",
       "    <tr>\n",
       "      <td>clientid</td>\n",
       "      <td>1.000000</td>\n",
       "      <td>2.000000</td>\n",
       "      <td>3.000000</td>\n",
       "      <td>4.000000</td>\n",
       "      <td>5.000000</td>\n",
       "    </tr>\n",
       "    <tr>\n",
       "      <td>income</td>\n",
       "      <td>66155.925095</td>\n",
       "      <td>34415.153966</td>\n",
       "      <td>57317.170063</td>\n",
       "      <td>42709.534201</td>\n",
       "      <td>66952.688845</td>\n",
       "    </tr>\n",
       "    <tr>\n",
       "      <td>age</td>\n",
       "      <td>59.017015</td>\n",
       "      <td>48.117153</td>\n",
       "      <td>63.108049</td>\n",
       "      <td>45.751972</td>\n",
       "      <td>18.584336</td>\n",
       "    </tr>\n",
       "    <tr>\n",
       "      <td>loan</td>\n",
       "      <td>8106.532131</td>\n",
       "      <td>6564.745018</td>\n",
       "      <td>8020.953296</td>\n",
       "      <td>6103.642260</td>\n",
       "      <td>8770.099235</td>\n",
       "    </tr>\n",
       "    <tr>\n",
       "      <td>default</td>\n",
       "      <td>0.000000</td>\n",
       "      <td>0.000000</td>\n",
       "      <td>0.000000</td>\n",
       "      <td>0.000000</td>\n",
       "      <td>1.000000</td>\n",
       "    </tr>\n",
       "  </tbody>\n",
       "</table>\n",
       "</div>"
      ],
      "text/plain": [
       "                     0             1             2             3             4\n",
       "clientid  1.000000      2.000000      3.000000      4.000000      5.000000    \n",
       "income    66155.925095  34415.153966  57317.170063  42709.534201  66952.688845\n",
       "age       59.017015     48.117153     63.108049     45.751972     18.584336   \n",
       "loan      8106.532131   6564.745018   8020.953296   6103.642260   8770.099235 \n",
       "default   0.000000      0.000000      0.000000      0.000000      1.000000    "
      ]
     },
     "execution_count": 2,
     "metadata": {},
     "output_type": "execute_result"
    }
   ],
   "source": [
    "nomeDaBase = \"../../bases/credit-data.csv\"\n",
    "df = pd.read_csv(nomeDaBase, sep=\",\", encoding=\"utf-8\")\n",
    "\n",
    "df.head().T"
   ]
  },
  {
   "cell_type": "code",
   "execution_count": 3,
   "metadata": {},
   "outputs": [
    {
     "name": "stdout",
     "output_type": "stream",
     "text": [
      "<class 'pandas.core.frame.DataFrame'>\n",
      "RangeIndex: 2000 entries, 0 to 1999\n",
      "Data columns (total 5 columns):\n",
      "clientid    2000 non-null int64\n",
      "income      2000 non-null float64\n",
      "age         1997 non-null float64\n",
      "loan        2000 non-null float64\n",
      "default     2000 non-null int64\n",
      "dtypes: float64(3), int64(2)\n",
      "memory usage: 78.2 KB\n"
     ]
    }
   ],
   "source": [
    "df.info()"
   ]
  },
  {
   "cell_type": "code",
   "execution_count": 4,
   "metadata": {},
   "outputs": [
    {
     "data": {
      "text/html": [
       "<div>\n",
       "<style scoped>\n",
       "    .dataframe tbody tr th:only-of-type {\n",
       "        vertical-align: middle;\n",
       "    }\n",
       "\n",
       "    .dataframe tbody tr th {\n",
       "        vertical-align: top;\n",
       "    }\n",
       "\n",
       "    .dataframe thead th {\n",
       "        text-align: right;\n",
       "    }\n",
       "</style>\n",
       "<table border=\"1\" class=\"dataframe\">\n",
       "  <thead>\n",
       "    <tr style=\"text-align: right;\">\n",
       "      <th></th>\n",
       "      <th>count</th>\n",
       "      <th>mean</th>\n",
       "      <th>std</th>\n",
       "      <th>min</th>\n",
       "      <th>25%</th>\n",
       "      <th>50%</th>\n",
       "      <th>75%</th>\n",
       "      <th>max</th>\n",
       "    </tr>\n",
       "  </thead>\n",
       "  <tbody>\n",
       "    <tr>\n",
       "      <td>clientid</td>\n",
       "      <td>2000.0</td>\n",
       "      <td>1000.500000</td>\n",
       "      <td>577.494589</td>\n",
       "      <td>1.00000</td>\n",
       "      <td>500.750000</td>\n",
       "      <td>1000.500000</td>\n",
       "      <td>1500.250000</td>\n",
       "      <td>2000.000000</td>\n",
       "    </tr>\n",
       "    <tr>\n",
       "      <td>income</td>\n",
       "      <td>2000.0</td>\n",
       "      <td>45331.600018</td>\n",
       "      <td>14326.327119</td>\n",
       "      <td>20014.48947</td>\n",
       "      <td>32796.459717</td>\n",
       "      <td>45789.117313</td>\n",
       "      <td>57791.281668</td>\n",
       "      <td>69995.685578</td>\n",
       "    </tr>\n",
       "    <tr>\n",
       "      <td>age</td>\n",
       "      <td>1997.0</td>\n",
       "      <td>40.807559</td>\n",
       "      <td>13.624469</td>\n",
       "      <td>-52.42328</td>\n",
       "      <td>28.990415</td>\n",
       "      <td>41.317159</td>\n",
       "      <td>52.587040</td>\n",
       "      <td>63.971796</td>\n",
       "    </tr>\n",
       "    <tr>\n",
       "      <td>loan</td>\n",
       "      <td>2000.0</td>\n",
       "      <td>4444.369695</td>\n",
       "      <td>3045.410024</td>\n",
       "      <td>1.37763</td>\n",
       "      <td>1939.708847</td>\n",
       "      <td>3974.719419</td>\n",
       "      <td>6432.410625</td>\n",
       "      <td>13766.051239</td>\n",
       "    </tr>\n",
       "    <tr>\n",
       "      <td>default</td>\n",
       "      <td>2000.0</td>\n",
       "      <td>0.141500</td>\n",
       "      <td>0.348624</td>\n",
       "      <td>0.00000</td>\n",
       "      <td>0.000000</td>\n",
       "      <td>0.000000</td>\n",
       "      <td>0.000000</td>\n",
       "      <td>1.000000</td>\n",
       "    </tr>\n",
       "  </tbody>\n",
       "</table>\n",
       "</div>"
      ],
      "text/plain": [
       "           count          mean           std          min           25%  \\\n",
       "clientid  2000.0  1000.500000   577.494589    1.00000      500.750000     \n",
       "income    2000.0  45331.600018  14326.327119  20014.48947  32796.459717   \n",
       "age       1997.0  40.807559     13.624469    -52.42328     28.990415      \n",
       "loan      2000.0  4444.369695   3045.410024   1.37763      1939.708847    \n",
       "default   2000.0  0.141500      0.348624      0.00000      0.000000       \n",
       "\n",
       "                   50%           75%           max  \n",
       "clientid  1000.500000   1500.250000   2000.000000   \n",
       "income    45789.117313  57791.281668  69995.685578  \n",
       "age       41.317159     52.587040     63.971796     \n",
       "loan      3974.719419   6432.410625   13766.051239  \n",
       "default   0.000000      0.000000      1.000000      "
      ]
     },
     "execution_count": 4,
     "metadata": {},
     "output_type": "execute_result"
    }
   ],
   "source": [
    "df.describe().T"
   ]
  },
  {
   "cell_type": "markdown",
   "metadata": {},
   "source": [
    "### Problemas encontrados na base:\n",
    "1. Em \"age\", há 3 valores nulos e há a presença de valores negativos.\n",
    "\n",
    "#### OBSERVAÇÃO:\n",
    "\n",
    "No mundo real, os problemas com as bases são muito piores. Deve-se ter muita atenção pois os dados podem não representar a realidade do processo."
   ]
  },
  {
   "cell_type": "code",
   "execution_count": 5,
   "metadata": {},
   "outputs": [],
   "source": [
    "df.loc[df.age < 0, \"age\"] = df.age.mean()"
   ]
  },
  {
   "cell_type": "code",
   "execution_count": 6,
   "metadata": {},
   "outputs": [],
   "source": [
    "imputer = SimpleImputer(missing_values=np.nan, strategy=\"mean\")\n",
    "imputer.fit(df)\n",
    "\n",
    "df_tratado = pd.DataFrame(data=imputer.transform(df), columns=df.columns)\n",
    "df_tratado.set_index(\"clientid\", inplace=True)"
   ]
  },
  {
   "cell_type": "markdown",
   "metadata": {},
   "source": [
    "## 1) Aplicação da Aprendizagem por random forests\n",
    "\n",
    "### 1.1) Usando *train_test_split*  "
   ]
  },
  {
   "cell_type": "code",
   "execution_count": 7,
   "metadata": {},
   "outputs": [],
   "source": [
    "# Separando os fatores/previsores da resposta/target:\n",
    "    \n",
    "x = df_tratado.iloc[:, 0:-1]\n",
    "y = df_tratado.iloc[:, -1]"
   ]
  },
  {
   "cell_type": "code",
   "execution_count": 8,
   "metadata": {},
   "outputs": [],
   "source": [
    "x_train, x_test, y_train, y_test = train_test_split(x, y, test_size=0.2, random_state=0)"
   ]
  },
  {
   "cell_type": "markdown",
   "metadata": {},
   "source": [
    "# Testando com diferentes modelos de aprendizado em conjunto:"
   ]
  },
  {
   "cell_type": "markdown",
   "metadata": {},
   "source": [
    "### 1. AdaBoost / Adaptive Boosting (1995)"
   ]
  },
  {
   "cell_type": "code",
   "execution_count": 9,
   "metadata": {},
   "outputs": [
    {
     "data": {
      "text/plain": [
       "AdaBoostClassifier(algorithm='SAMME.R', base_estimator=None, learning_rate=1.0,\n",
       "                   n_estimators=40, random_state=0)"
      ]
     },
     "execution_count": 9,
     "metadata": {},
     "output_type": "execute_result"
    }
   ],
   "source": [
    "from sklearn.ensemble import AdaBoostClassifier\n",
    "\n",
    "classificador_adaboost = AdaBoostClassifier(n_estimators=40\n",
    "                                            , random_state=0)\n",
    "\n",
    "classificador_adaboost.fit(x_train\n",
    "                           , y_train)"
   ]
  },
  {
   "cell_type": "markdown",
   "metadata": {},
   "source": [
    "#### A importância de cada fator / variável independente na resposta / variável dependente:"
   ]
  },
  {
   "cell_type": "code",
   "execution_count": 10,
   "metadata": {},
   "outputs": [
    {
     "data": {
      "text/html": [
       "<div>\n",
       "<style scoped>\n",
       "    .dataframe tbody tr th:only-of-type {\n",
       "        vertical-align: middle;\n",
       "    }\n",
       "\n",
       "    .dataframe tbody tr th {\n",
       "        vertical-align: top;\n",
       "    }\n",
       "\n",
       "    .dataframe thead th {\n",
       "        text-align: right;\n",
       "    }\n",
       "</style>\n",
       "<table border=\"1\" class=\"dataframe\">\n",
       "  <thead>\n",
       "    <tr style=\"text-align: right;\">\n",
       "      <th></th>\n",
       "      <th>income</th>\n",
       "      <th>age</th>\n",
       "      <th>loan</th>\n",
       "    </tr>\n",
       "  </thead>\n",
       "  <tbody>\n",
       "    <tr>\n",
       "      <td>0</td>\n",
       "      <td>0.475</td>\n",
       "      <td>0.05</td>\n",
       "      <td>0.475</td>\n",
       "    </tr>\n",
       "  </tbody>\n",
       "</table>\n",
       "</div>"
      ],
      "text/plain": [
       "   income   age   loan\n",
       "0  0.475   0.05  0.475"
      ]
     },
     "execution_count": 10,
     "metadata": {},
     "output_type": "execute_result"
    }
   ],
   "source": [
    "lista_fatores = list(df_tratado.drop(\"default\", axis=1).columns)\n",
    "\n",
    "pd.DataFrame(classificador_adaboost.feature_importances_.reshape(1,-1), columns=lista_fatores)"
   ]
  },
  {
   "cell_type": "markdown",
   "metadata": {},
   "source": [
    "#### Verificando o como o modelo se saiu:"
   ]
  },
  {
   "cell_type": "code",
   "execution_count": 11,
   "metadata": {},
   "outputs": [
    {
     "name": "stdout",
     "output_type": "stream",
     "text": [
      "Métrica 1 (Acurácia): 0.9825.\n",
      "Métrica 2 (Relatório de classificação):\n",
      "              precision    recall  f1-score   support\n",
      "\n",
      "         0.0       0.99      0.99      0.99       348\n",
      "         1.0       0.94      0.92      0.93        52\n",
      "\n",
      "    accuracy                           0.98       400\n",
      "   macro avg       0.96      0.96      0.96       400\n",
      "weighted avg       0.98      0.98      0.98       400\n",
      ".\n"
     ]
    }
   ],
   "source": [
    "y_pred_adaboost = classificador_adaboost.predict(x_test)\n",
    "\n",
    "print(\"Métrica 1 (Acurácia): {:.6}.\".format(\n",
    "    accuracy_score(y_test, y_pred_adaboost, normalize=True, sample_weight=None)))\n",
    "print(\"Métrica 2 (Relatório de classificação):\\n{}.\".format(\n",
    "    classification_report(y_test, y_pred_adaboost)))"
   ]
  },
  {
   "cell_type": "markdown",
   "metadata": {},
   "source": [
    "### 2. Gradient Tree Boosting / Gradient Boosting Machine (GBM) (Fevereiro de 1999)"
   ]
  },
  {
   "cell_type": "code",
   "execution_count": 12,
   "metadata": {},
   "outputs": [
    {
     "data": {
      "text/plain": [
       "GradientBoostingClassifier(criterion='friedman_mse', init=None,\n",
       "                           learning_rate=0.1, loss='deviance', max_depth=3,\n",
       "                           max_features=None, max_leaf_nodes=None,\n",
       "                           min_impurity_decrease=0.0, min_impurity_split=None,\n",
       "                           min_samples_leaf=1, min_samples_split=2,\n",
       "                           min_weight_fraction_leaf=0.0, n_estimators=40,\n",
       "                           n_iter_no_change=None, presort='auto',\n",
       "                           random_state=0, subsample=1.0, tol=0.0001,\n",
       "                           validation_fraction=0.1, verbose=0,\n",
       "                           warm_start=False)"
      ]
     },
     "execution_count": 12,
     "metadata": {},
     "output_type": "execute_result"
    }
   ],
   "source": [
    "from sklearn.ensemble import GradientBoostingClassifier\n",
    "\n",
    "classificador_gbm = GradientBoostingClassifier(n_estimators=40\n",
    "                                                    , random_state=0)\n",
    "\n",
    "classificador_gbm.fit(x_train\n",
    "                      , y_train)"
   ]
  },
  {
   "cell_type": "markdown",
   "metadata": {},
   "source": [
    "#### A importância de cada fator / variável independente na resposta / variável dependente:"
   ]
  },
  {
   "cell_type": "code",
   "execution_count": 13,
   "metadata": {},
   "outputs": [
    {
     "data": {
      "text/html": [
       "<div>\n",
       "<style scoped>\n",
       "    .dataframe tbody tr th:only-of-type {\n",
       "        vertical-align: middle;\n",
       "    }\n",
       "\n",
       "    .dataframe tbody tr th {\n",
       "        vertical-align: top;\n",
       "    }\n",
       "\n",
       "    .dataframe thead th {\n",
       "        text-align: right;\n",
       "    }\n",
       "</style>\n",
       "<table border=\"1\" class=\"dataframe\">\n",
       "  <thead>\n",
       "    <tr style=\"text-align: right;\">\n",
       "      <th></th>\n",
       "      <th>income</th>\n",
       "      <th>age</th>\n",
       "      <th>loan</th>\n",
       "    </tr>\n",
       "  </thead>\n",
       "  <tbody>\n",
       "    <tr>\n",
       "      <td>0</td>\n",
       "      <td>0.175621</td>\n",
       "      <td>0.356719</td>\n",
       "      <td>0.46766</td>\n",
       "    </tr>\n",
       "  </tbody>\n",
       "</table>\n",
       "</div>"
      ],
      "text/plain": [
       "     income       age     loan\n",
       "0  0.175621  0.356719  0.46766"
      ]
     },
     "execution_count": 13,
     "metadata": {},
     "output_type": "execute_result"
    }
   ],
   "source": [
    "lista_fatores = list(df_tratado.drop(\"default\", axis=1).columns)\n",
    "\n",
    "pd.DataFrame(classificador_gbm.feature_importances_.reshape(1,-1), columns=lista_fatores)"
   ]
  },
  {
   "cell_type": "markdown",
   "metadata": {},
   "source": [
    "#### Verificando o como o modelo se saiu:"
   ]
  },
  {
   "cell_type": "code",
   "execution_count": 14,
   "metadata": {},
   "outputs": [
    {
     "name": "stdout",
     "output_type": "stream",
     "text": [
      "Métrica 1 (Acurácia): 0.9825.\n",
      "Métrica 2 (Relatório de classificação):\n",
      "              precision    recall  f1-score   support\n",
      "\n",
      "         0.0       0.98      1.00      0.99       348\n",
      "         1.0       0.98      0.88      0.93        52\n",
      "\n",
      "    accuracy                           0.98       400\n",
      "   macro avg       0.98      0.94      0.96       400\n",
      "weighted avg       0.98      0.98      0.98       400\n",
      ".\n"
     ]
    }
   ],
   "source": [
    "y_pred_gbm = classificador_gbm.predict(x_test)\n",
    "\n",
    "print(\"Métrica 1 (Acurácia): {:.6}.\".format(\n",
    "    accuracy_score(y_test, y_pred_gbm, normalize=True, sample_weight=None)))\n",
    "print(\"Métrica 2 (Relatório de classificação):\\n{}.\".format(\n",
    "    classification_report(y_test, y_pred_gbm)))"
   ]
  },
  {
   "cell_type": "markdown",
   "metadata": {},
   "source": [
    "### 3. XGBoost (Março de 2014)"
   ]
  },
  {
   "cell_type": "markdown",
   "metadata": {},
   "source": [
    "### 4. Light GBM (Janeiro de 2017)"
   ]
  },
  {
   "cell_type": "markdown",
   "metadata": {},
   "source": [
    "### 5. CatBoost (Abril de 2017)"
   ]
  },
  {
   "cell_type": "markdown",
   "metadata": {},
   "source": [
    "### Por fim, comparando com Random Forest:"
   ]
  },
  {
   "cell_type": "code",
   "execution_count": 15,
   "metadata": {},
   "outputs": [
    {
     "data": {
      "text/plain": [
       "RandomForestClassifier(bootstrap=True, class_weight=None, criterion='entropy',\n",
       "                       max_depth=None, max_features='auto', max_leaf_nodes=None,\n",
       "                       min_impurity_decrease=0.0, min_impurity_split=None,\n",
       "                       min_samples_leaf=1, min_samples_split=2,\n",
       "                       min_weight_fraction_leaf=0.0, n_estimators=40,\n",
       "                       n_jobs=None, oob_score=False, random_state=0, verbose=0,\n",
       "                       warm_start=False)"
      ]
     },
     "execution_count": 15,
     "metadata": {},
     "output_type": "execute_result"
    }
   ],
   "source": [
    "from sklearn.ensemble import RandomForestClassifier\n",
    "\n",
    "classificador = RandomForestClassifier(n_estimators=40\n",
    "                                       , criterion='entropy'\n",
    "                                       , random_state=0)\n",
    "\n",
    "classificador.fit(x_train, y_train)"
   ]
  },
  {
   "cell_type": "markdown",
   "metadata": {},
   "source": [
    "#### A importância de cada fator / variável independente na resposta / variável dependente:"
   ]
  },
  {
   "cell_type": "code",
   "execution_count": 16,
   "metadata": {},
   "outputs": [
    {
     "data": {
      "text/html": [
       "<div>\n",
       "<style scoped>\n",
       "    .dataframe tbody tr th:only-of-type {\n",
       "        vertical-align: middle;\n",
       "    }\n",
       "\n",
       "    .dataframe tbody tr th {\n",
       "        vertical-align: top;\n",
       "    }\n",
       "\n",
       "    .dataframe thead th {\n",
       "        text-align: right;\n",
       "    }\n",
       "</style>\n",
       "<table border=\"1\" class=\"dataframe\">\n",
       "  <thead>\n",
       "    <tr style=\"text-align: right;\">\n",
       "      <th></th>\n",
       "      <th>income</th>\n",
       "      <th>age</th>\n",
       "      <th>loan</th>\n",
       "    </tr>\n",
       "  </thead>\n",
       "  <tbody>\n",
       "    <tr>\n",
       "      <td>0</td>\n",
       "      <td>0.138052</td>\n",
       "      <td>0.471457</td>\n",
       "      <td>0.39049</td>\n",
       "    </tr>\n",
       "  </tbody>\n",
       "</table>\n",
       "</div>"
      ],
      "text/plain": [
       "     income       age     loan\n",
       "0  0.138052  0.471457  0.39049"
      ]
     },
     "execution_count": 16,
     "metadata": {},
     "output_type": "execute_result"
    }
   ],
   "source": [
    "lista_fatores = list(df_tratado.drop(\"default\", axis=1).columns)\n",
    "\n",
    "pd.DataFrame(classificador.feature_importances_.reshape(1,-1), columns=lista_fatores)"
   ]
  },
  {
   "cell_type": "code",
   "execution_count": 17,
   "metadata": {},
   "outputs": [],
   "source": [
    "y_pred = classificador.predict(x_test)"
   ]
  },
  {
   "cell_type": "markdown",
   "metadata": {},
   "source": [
    "#### Verificando o como o modelo se saiu:"
   ]
  },
  {
   "cell_type": "code",
   "execution_count": 18,
   "metadata": {},
   "outputs": [
    {
     "name": "stdout",
     "output_type": "stream",
     "text": [
      "Métrica 1 (Acurácia): 0.9825.\n",
      "Métrica 2 (Relatório de classificação):\n",
      "              precision    recall  f1-score   support\n",
      "\n",
      "         0.0       0.99      0.99      0.99       348\n",
      "         1.0       0.94      0.92      0.93        52\n",
      "\n",
      "    accuracy                           0.98       400\n",
      "   macro avg       0.96      0.96      0.96       400\n",
      "weighted avg       0.98      0.98      0.98       400\n",
      ".\n"
     ]
    }
   ],
   "source": [
    "print(\"Métrica 1 (Acurácia): {:.6}.\".format(\n",
    "    accuracy_score(y_test, y_pred, normalize=True, sample_weight=None)))\n",
    "print(\"Métrica 2 (Relatório de classificação):\\n{}.\".format(\n",
    "    classification_report(y_test, y_pred)))"
   ]
  },
  {
   "cell_type": "code",
   "execution_count": 19,
   "metadata": {},
   "outputs": [
    {
     "name": "stdout",
     "output_type": "stream",
     "text": [
      "Normalized confusion matrix\n",
      "[[0.99137931 0.00862069]\n",
      " [0.07692308 0.92307692]]\n"
     ]
    },
    {
     "data": {
      "image/png": "[encoded data removed]",
      "text/plain": [
       "<Figure size 432x288 with 2 Axes>"
      ]
     },
     "metadata": {
      "needs_background": "light"
     },
     "output_type": "display_data"
    }
   ],
   "source": [
    "plot_confusion_matrix_2(y_test, y_pred, normalize=True);"
   ]
  },
  {
   "cell_type": "markdown",
   "metadata": {},
   "source": [
    "### Agora, usando validação cruzada."
   ]
  },
  {
   "cell_type": "code",
   "execution_count": 20,
   "metadata": {},
   "outputs": [
    {
     "name": "stdout",
     "output_type": "stream",
     "text": [
      "Acurácia média: 0.921 ± 0.0129.\n"
     ]
    }
   ],
   "source": [
    "classificador = RandomForestClassifier(n_estimators=40, criterion='entropy', random_state=0, max_depth=3)\n",
    "classificador.fit(x, y)\n",
    "\n",
    "resultados = cross_val_score(classificador, x, y, cv = 10)\n",
    "\n",
    "classe = y.values\n",
    "\n",
    "print(\"Acurácia média: {:.3} ± {:.3}.\".format(resultados.mean(), resultados.std()))"
   ]
  }
 ],
 "metadata": {
  "kernelspec": {
   "display_name": "Python 3",
   "language": "python",
   "name": "python3"
  },
  "language_info": {
   "codemirror_mode": {
    "name": "ipython",
    "version": 3
   },
   "file_extension": ".py",
   "mimetype": "text/x-python",
   "name": "python",
   "nbconvert_exporter": "python",
   "pygments_lexer": "ipython3",
   "version": "3.7.4"
  }
 },
 "nbformat": 4,
 "nbformat_minor": 2
}
