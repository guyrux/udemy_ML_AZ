{
 "cells": [
  {
   "cell_type": "code",
   "execution_count": 2,
   "metadata": {
    "ExecuteTime": {
     "end_time": "2020-03-15T02:08:25.677080Z",
     "start_time": "2020-03-15T02:08:16.796508Z"
    }
   },
   "outputs": [
    {
     "name": "stderr",
     "output_type": "stream",
     "text": [
      "Enabling notebook extension jupyter-js-widgets/extension...\n",
      "      - Validating: ok\n"
     ]
    }
   ],
   "source": [
    "# Instruções basiconas de sempre.\n",
    "\n",
    "# Lidar com dataframes.\n",
    "import numpy as np\n",
    "import pandas as pd\n",
    "\n",
    "# Lidar com gráficos.\n",
    "import matplotlib.pyplot as plt\n",
    "import seaborn as sns\n",
    "# import plotly\n",
    "from bokeh.plotting import figure\n",
    "from bokeh.io import show, output_notebook\n",
    "from plotting import (multiple_histograms_plot,\n",
    "                      bar_plot_with_categorical,\n",
    "                      plot_confusion_matrix,\n",
    "                      plot_confusion_matrix_2,\n",
    "                      plot_roc)\n",
    "\n",
    "# Lidar com preparação de dados.\n",
    "from data_prep import data_prep as dp # Eu que fiz esse modulinho (\"uuuuuuuuuma bosts!\").\n",
    "from sklearn.impute import SimpleImputer\n",
    "from sklearn.preprocessing import (StandardScaler\n",
    "                                   , MinMaxScaler)\n",
    "from sklearn.model_selection import (train_test_split\n",
    "                                     , cross_val_score\n",
    "                                     , StratifiedKFold)\n",
    "\n",
    "# Lidar com validação de modelos.\n",
    "from sklearn.metrics import (confusion_matrix\n",
    "                             , accuracy_score\n",
    "                             , classification_report)\n",
    "\n",
    "pd.set_option('display.max_columns', None)  \n",
    "pd.set_option('display.max_colwidth', -1)\n",
    "pd.set_option('display.max_rows', 500)\n",
    "\n",
    "!jupyter nbextension enable --py widgetsnbextension"
   ]
  },
  {
   "cell_type": "code",
   "execution_count": 3,
   "metadata": {
    "ExecuteTime": {
     "end_time": "2020-03-15T02:08:25.693079Z",
     "start_time": "2020-03-15T02:08:25.681078Z"
    }
   },
   "outputs": [],
   "source": [
    "#Bibliotecas necessária para conexão com banco de dados MySQL.\n",
    "\n",
    "import mysql.connector"
   ]
  },
  {
   "cell_type": "markdown",
   "metadata": {},
   "source": [
    "# Criando uma conexão com o banco e montando um DataFrame\n",
    "Seguindo as instruções em uma questão do [W3School](https://www.w3schools.com/python/python_mysql_getstarted.asp), temos:"
   ]
  },
  {
   "cell_type": "code",
   "execution_count": 29,
   "metadata": {
    "ExecuteTime": {
     "end_time": "2020-03-15T02:51:56.897390Z",
     "start_time": "2020-03-15T02:51:46.118218Z"
    }
   },
   "outputs": [],
   "source": [
    "mydb = mysql.connector.connect(\n",
    "    host=\"localhost\"\n",
    "    , user=\"root\"\n",
    "    , passwd=\"\"\n",
    "    , database=\"projeto_gastos_parlamentares\"\n",
    ")\n",
    "\n",
    "mycursor = mydb.cursor()\n",
    "\n",
    "mycursor.execute(\"\"\"\n",
    "SELECT *\n",
    "FROM tb_gastos_parlamentares_2019\n",
    "LIMIT 150000;\n",
    "\"\"\"\n",
    "                 , multi=False)\n",
    "\n",
    "df_gastos_2019 = mycursor.fetchall()"
   ]
  },
  {
   "cell_type": "code",
   "execution_count": 30,
   "metadata": {
    "ExecuteTime": {
     "end_time": "2020-03-15T02:51:57.428379Z",
     "start_time": "2020-03-15T02:51:56.900376Z"
    }
   },
   "outputs": [
    {
     "data": {
      "text/html": [
       "<div>\n",
       "<style scoped>\n",
       "    .dataframe tbody tr th:only-of-type {\n",
       "        vertical-align: middle;\n",
       "    }\n",
       "\n",
       "    .dataframe tbody tr th {\n",
       "        vertical-align: top;\n",
       "    }\n",
       "\n",
       "    .dataframe thead th {\n",
       "        text-align: right;\n",
       "    }\n",
       "</style>\n",
       "<table border=\"1\" class=\"dataframe\">\n",
       "  <thead>\n",
       "    <tr style=\"text-align: right;\">\n",
       "      <th></th>\n",
       "      <th>0</th>\n",
       "      <th>1</th>\n",
       "      <th>2</th>\n",
       "      <th>3</th>\n",
       "      <th>4</th>\n",
       "      <th>5</th>\n",
       "      <th>6</th>\n",
       "      <th>7</th>\n",
       "      <th>8</th>\n",
       "      <th>9</th>\n",
       "      <th>10</th>\n",
       "      <th>11</th>\n",
       "    </tr>\n",
       "  </thead>\n",
       "  <tbody>\n",
       "    <tr>\n",
       "      <td>0</td>\n",
       "      <td>2019</td>\n",
       "      <td>7</td>\n",
       "      <td></td>\n",
       "      <td>FELIPE CARRERAS</td>\n",
       "      <td>PSB</td>\n",
       "      <td>PE</td>\n",
       "      <td>TELEFONIA</td>\n",
       "      <td>00000000000006</td>\n",
       "      <td>RAMAL</td>\n",
       "      <td>102</td>\n",
       "      <td>0</td>\n",
       "      <td>102</td>\n",
       "    </tr>\n",
       "    <tr>\n",
       "      <td>1</td>\n",
       "      <td>2019</td>\n",
       "      <td>7</td>\n",
       "      <td></td>\n",
       "      <td>NORMA AYUB</td>\n",
       "      <td>DEM</td>\n",
       "      <td>ES</td>\n",
       "      <td>TELEFONIA</td>\n",
       "      <td>00000000000006</td>\n",
       "      <td>RAMAL</td>\n",
       "      <td>131</td>\n",
       "      <td>0</td>\n",
       "      <td>131</td>\n",
       "    </tr>\n",
       "    <tr>\n",
       "      <td>2</td>\n",
       "      <td>2019</td>\n",
       "      <td>7</td>\n",
       "      <td></td>\n",
       "      <td>FAUSTO PINATO</td>\n",
       "      <td>PP</td>\n",
       "      <td>SP</td>\n",
       "      <td>TELEFONIA</td>\n",
       "      <td>00000000000006</td>\n",
       "      <td>RAMAL</td>\n",
       "      <td>23</td>\n",
       "      <td>0</td>\n",
       "      <td>23</td>\n",
       "    </tr>\n",
       "    <tr>\n",
       "      <td>3</td>\n",
       "      <td>2019</td>\n",
       "      <td>7</td>\n",
       "      <td></td>\n",
       "      <td>IRACEMA PORTELLA</td>\n",
       "      <td>PP</td>\n",
       "      <td>PI</td>\n",
       "      <td>TELEFONIA</td>\n",
       "      <td>00000000000006</td>\n",
       "      <td>RAMAL</td>\n",
       "      <td>110</td>\n",
       "      <td>0</td>\n",
       "      <td>110</td>\n",
       "    </tr>\n",
       "    <tr>\n",
       "      <td>4</td>\n",
       "      <td>2019</td>\n",
       "      <td>7</td>\n",
       "      <td></td>\n",
       "      <td>FÁBIO HENRIQUE</td>\n",
       "      <td>PDT</td>\n",
       "      <td>SE</td>\n",
       "      <td>TELEFONIA</td>\n",
       "      <td>00000000000006</td>\n",
       "      <td>RAMAL</td>\n",
       "      <td>169</td>\n",
       "      <td>0</td>\n",
       "      <td>169</td>\n",
       "    </tr>\n",
       "  </tbody>\n",
       "</table>\n",
       "</div>"
      ],
      "text/plain": [
       "      0  1 2                 3    4   5          6               7      8  \\\n",
       "0  2019  7    FELIPE CARRERAS   PSB  PE  TELEFONIA  00000000000006  RAMAL   \n",
       "1  2019  7    NORMA AYUB        DEM  ES  TELEFONIA  00000000000006  RAMAL   \n",
       "2  2019  7    FAUSTO PINATO     PP   SP  TELEFONIA  00000000000006  RAMAL   \n",
       "3  2019  7    IRACEMA PORTELLA  PP   PI  TELEFONIA  00000000000006  RAMAL   \n",
       "4  2019  7    FÁBIO HENRIQUE    PDT  SE  TELEFONIA  00000000000006  RAMAL   \n",
       "\n",
       "     9 10   11  \n",
       "0  102  0  102  \n",
       "1  131  0  131  \n",
       "2  23   0  23   \n",
       "3  110  0  110  \n",
       "4  169  0  169  "
      ]
     },
     "execution_count": 30,
     "metadata": {},
     "output_type": "execute_result"
    }
   ],
   "source": [
    "df_gastos_2019 = pd.DataFrame(df_gastos_2019)\n",
    "\n",
    "df_gastos_2019.head()"
   ]
  },
  {
   "cell_type": "code",
   "execution_count": 31,
   "metadata": {
    "ExecuteTime": {
     "end_time": "2020-03-15T02:52:26.589482Z",
     "start_time": "2020-03-15T02:52:26.271695Z"
    }
   },
   "outputs": [
    {
     "name": "stdout",
     "output_type": "stream",
     "text": [
      "<class 'pandas.core.frame.DataFrame'>\n",
      "RangeIndex: 145823 entries, 0 to 145822\n",
      "Data columns (total 12 columns):\n",
      "0     145823 non-null int64\n",
      "1     145823 non-null int64\n",
      "2     145823 non-null object\n",
      "3     145823 non-null object\n",
      "4     145823 non-null object\n",
      "5     145823 non-null object\n",
      "6     145823 non-null object\n",
      "7     145823 non-null object\n",
      "8     145823 non-null object\n",
      "9     145823 non-null object\n",
      "10    145823 non-null object\n",
      "11    145823 non-null object\n",
      "dtypes: int64(2), object(10)\n",
      "memory usage: 7.8+ MB\n"
     ]
    }
   ],
   "source": [
    "df_gastos_2019.info()"
   ]
  },
  {
   "cell_type": "code",
   "execution_count": 33,
   "metadata": {
    "ExecuteTime": {
     "end_time": "2020-03-15T02:54:35.493716Z",
     "start_time": "2020-03-15T02:54:35.294717Z"
    }
   },
   "outputs": [
    {
     "data": {
      "text/plain": [
       "(Series([], dtype: float64),\n",
       " '-> 0 atributos/features/campos possuem mais de 0% de valores nulos.')"
      ]
     },
     "execution_count": 33,
     "metadata": {},
     "output_type": "execute_result"
    }
   ],
   "source": [
    "dp.serieNulos(df_gastos_2019,0)"
   ]
  },
  {
   "cell_type": "code",
   "execution_count": 35,
   "metadata": {
    "ExecuteTime": {
     "end_time": "2020-03-15T02:55:08.627782Z",
     "start_time": "2020-03-15T02:55:07.671395Z"
    }
   },
   "outputs": [
    {
     "data": {
      "text/html": [
       "<div>\n",
       "<style scoped>\n",
       "    .dataframe tbody tr th:only-of-type {\n",
       "        vertical-align: middle;\n",
       "    }\n",
       "\n",
       "    .dataframe tbody tr th {\n",
       "        vertical-align: top;\n",
       "    }\n",
       "\n",
       "    .dataframe thead th {\n",
       "        text-align: right;\n",
       "    }\n",
       "</style>\n",
       "<table border=\"1\" class=\"dataframe\">\n",
       "  <thead>\n",
       "    <tr style=\"text-align: right;\">\n",
       "      <th></th>\n",
       "      <th>Atributo</th>\n",
       "      <th>Cardinalidade</th>\n",
       "      <th>Valores</th>\n",
       "    </tr>\n",
       "  </thead>\n",
       "  <tbody>\n",
       "    <tr>\n",
       "      <td>4</td>\n",
       "      <td>6</td>\n",
       "      <td>18</td>\n",
       "      <td>[TELEFONIA, SERVIÇOS POSTAIS, COMBUSTÍVEIS E LUBRIFICANTES., HOSPEDAGEM ,EXCETO DO PARLAMENTAR NO DISTRITO FEDERAL., CONSULTORIAS, PESQUISAS E TRABALHOS TÉCNICOS., FORNECIMENTO DE ALIMENTAÇÃO DO PARLAMENTAR, DIVULGAÇÃO DA ATIVIDADE PARLAMENTAR., MANUTENÇÃO DE ESCRITÓRIO DE APOIO À ATIVIDADE PARLAMENTAR, SERVIÇO DE TÁXI, PEDÁGIO E ESTACIONAMENTO, LOCAÇÃO OU FRETAMENTO DE VEÍCULOS AUTOMOTORES, PASSAGENS AÉREAS, SERVIÇO DE SEGURANÇA PRESTADO POR EMPRESA ESPECIALIZADA., PASSAGENS TERRESTRES, MARÍTIMAS OU FLUVIAIS, LOCAÇÃO OU FRETAMENTO DE AERONAVES, PARTICIPAÇÃO EM CURSO, PALESTRA OU EVENTO SIMILAR, ASSINATURA DE PUBLICAÇÕES, Emissão Bilhete Aéreo, LOCAÇÃO OU FRETAMENTO DE EMBARCAÇÕES]</td>\n",
       "    </tr>\n",
       "    <tr>\n",
       "      <td>3</td>\n",
       "      <td>5</td>\n",
       "      <td>28</td>\n",
       "      <td>[PE, ES, SP, PI, SE, BA, PR, RS, MG, SC, RJ, AC, PB, PA, AM, MA, CE, GO, MS, RO, RN, TO, MT, RR, AL, DF, AP, NA]</td>\n",
       "    </tr>\n",
       "    <tr>\n",
       "      <td>2</td>\n",
       "      <td>4</td>\n",
       "      <td>35</td>\n",
       "      <td>[PSB, DEM, PP, PDT, PODE, PT, PRB, CIDADANIA, PSOL, MDB, PCdoB, PL, PTB, PROS, PSDB, PSC, PSD, PSL, SOLIDARIEDADE, NOVO, AVANTE, PATRIOTA, PV, S.PART., REDE, PMN, PHS, PPS, PR, PATRI, PPL, LIDMIN, SDD, LID.GOV-CD, REPUBLICANOS]</td>\n",
       "    </tr>\n",
       "    <tr>\n",
       "      <td>8</td>\n",
       "      <td>10</td>\n",
       "      <td>520</td>\n",
       "      <td>[0, 2, 8, 4, 9, 1, 178, 6, 5, 57, 12, 24, 85, 20, 30, 62, 86, 3, 49, 236, 59, 16, 139, 13, 31, 15, 7787, 119, 74, 77, 19, 80, 109, 125, 120, 36, 101, 250, 54, 46, 11, 10, 379, 47, 58, 67, 240, 52, 60, 207, 14, 903, 28, 149, 378, 41, 194, 25, 113, 56, 70, 151, 35, 115, 885, 39, 42, 76, 143, 350, 89, 390, 581, 51, 22, 66, 2037, 34, 2960, 220, 99, 75, 165, 123, 32, 176, 7, 150, 40, 1240, 53, 27, 223, 224, 17, 68, 18, 44, 190, 170, ...]</td>\n",
       "    </tr>\n",
       "    <tr>\n",
       "      <td>1</td>\n",
       "      <td>3</td>\n",
       "      <td>815</td>\n",
       "      <td>[FELIPE CARRERAS, NORMA AYUB, FAUSTO PINATO, IRACEMA PORTELLA, FÁBIO HENRIQUE, BACELAR, ARLINDO CHINAGLIA, CELSO RUSSOMANNO, GUSTAVO FRUET, RUBENS BUENO, HENRIQUE FONTANA, POMPEO DE MATTOS, IVAN VALENTE, JÚLIO DELGADO, ANGELA AMIN, RUI FALCÃO, BENEDITA DA SILVA, HERMES PARCIANELLO, RICARDO BARROS, RENILDO CALHEIROS, DARCÍSIO PERONDI, PERPÉTUA ALMEIDA, WELLINGTON ROBERTO, WILSON SANTIAGO, BOSCO COSTA, ALICE PORTUGAL, DANIEL ALMEIDA, ELCIONE BARBALHO, JOSÉ PRIANTE, ÁTILA LINS, LEONARDO MONTEIRO, MÁRIO HERINGER, ODAIR CUNHA, PATRUS ANANIAS, REGINALDO LOPES, GASTÃO VIEIRA, ANÍBAL GOMES, CARLOS SAMPAIO, GILBERTO NASCIMENTO, JEFFERSON CAMPOS, VICENTINHO, LEÔNIDAS CRISTINO, ROBERTO PESSOA, JÚLIO CESAR, PAES LANDIM, NILSON PINTO, SILAS CÂMARA, JOÃO CAMPOS, RUBENS OTONI, GERALDO RESENDE, VANDER LOUBET, GIACOBO, MARIA DO ROSÁRIO, ONYX LORENZONI, PAULO PIMENTA, GONZAGA PATRIOTA, WOLNEY QUEIROZ, ÁTILA LIRA, DAMIÃO FELICIANO, ANDRÉ DE PAULA, LUCIANO BIVAR, CLAUDIO CAJADO, JOSÉ ROCHA, NELSON PELLEGRINO, PAULO MAGALHÃES, LINCOLN PORTELA, AÉCIO NEVES, EDUARDO BARBOSA, RODRIGO MAIA, MAURO LOPES, LUIZA ERUNDINA, JANDIRA FEGHALI, MAURÍCIO DZIEDRICKI, MARCELO FREIXO, MÁRCIO JERRY, DRA. SORAYA MANATO, PEDRO AUGUSTO BEZERRA, SANTINI, LEUR LOMANTO JÚNIOR, EDUARDO BOLSONARO, STEFANO AGUIAR, CACÁ LEÃO, LAFAYETTE DE ANDRADA, GLEISI HOFFMANN, JAQUELINE CASSOL, BENES LEOCÁDIO, JOÃO MARCELO SOUZA, GELSON AZEVEDO, DARCI DE MATOS, ADRIANO DO BALDY, PEDRO PAULO, PEDRO LUCAS FERNANDES, ENIO VERRI, ANDRÉ FIGUEIREDO, MARCELO MORAES, PAULO RAMOS, EDMILSON RODRIGUES, CRISTIANO VALE, AFONSO HAMM, VICENTINHO JÚNIOR, ...]</td>\n",
       "    </tr>\n",
       "    <tr>\n",
       "      <td>7</td>\n",
       "      <td>9</td>\n",
       "      <td>5317</td>\n",
       "      <td>[102, 131, 23, 110, 169, 31, 112, 37, 17, 53, 82, 119, 57, 60, 78, 93, 58, 33, 94, 32, 154, 27, 136, 64, 59, 30, 26, 87, 172, 153, 42, 98, 76, 180, 251, 25, 11, 63, 132, 70, 198, 71, 34, 22, 134, 97, 227, 1, 185, 167, 2, 9, 36, 221, 130, 75, 40, 44, 77, 397, 109, 139, 8, 50, 48, 125, 108, 231, 49, 111, 46, 67, 41, 107, 15, 81, 38, 140, 4, 128, 127, 292, 145, 20, 45, 166, 61, 43, 158, 122, 52, 213, 372, 157, 80, 405, 151, 88, 72, 62, ...]</td>\n",
       "    </tr>\n",
       "    <tr>\n",
       "      <td>9</td>\n",
       "      <td>11</td>\n",
       "      <td>5334</td>\n",
       "      <td>[102, 131, 23, 110, 169, 31, 112, 37, 17, 53, 82, 119, 57, 60, 78, 93, 58, 33, 94, 32, 154, 27, 136, 64, 59, 30, 26, 87, 172, 153, 42, 98, 76, 180, 251, 25, 11, 63, 132, 70, 198, 71, 34, 22, 134, 97, 227, 1, 185, 167, 2, 9, 36, 221, 130, 75, 40, 44, 77, 397, 109, 139, 8, 50, 48, 125, 108, 231, 49, 111, 46, 67, 41, 107, 15, 81, 38, 140, 4, 128, 127, 292, 145, 20, 45, 166, 61, 43, 158, 122, 52, 213, 372, 157, 80, 405, 151, 88, 72, 62, ...]</td>\n",
       "    </tr>\n",
       "    <tr>\n",
       "      <td>0</td>\n",
       "      <td>2</td>\n",
       "      <td>9332</td>\n",
       "      <td>[, 2019-08-23 17:06:44+00:00, 2019-08-23 17:06:09+00:00, 2019-08-23 17:05:31+00:00, 2019-08-23 17:01:11+00:00, 2019-08-23 17:00:42+00:00, 2019-08-23 17:00:40+00:00, 2019-08-23 17:00:06+00:00, 2019-08-23 16:59:28+00:00, 2019-08-23 16:58:48+00:00, 2019-08-23 16:58:09+00:00, 2019-08-23 16:42:00+00:00, 2019-08-23 16:41:24+00:00, 2019-08-23 16:40:25+00:00, 2019-08-23 16:39:51+00:00, 2019-08-23 16:22:18+00:00, 2019-08-23 16:21:27+00:00, 2019-08-23 15:40:36+00:00, 2019-08-23 15:40:03+00:00, 2019-08-23 15:39:28+00:00, 2019-08-23 15:38:55+00:00, 2019-08-23 15:37:44+00:00, 2019-08-23 15:37:07+00:00, 2019-08-23 15:12:44+00:00, 2019-08-23 15:06:47+00:00, 2019-08-23 13:58:10+00:00, 2019-08-23 13:57:59+00:00, 2019-08-23 13:54:58+00:00, 2019-08-23 13:51:03+00:00, 2019-08-23 13:50:54+00:00, 2019-08-23 13:50:48+00:00, 2019-08-23 13:50:41+00:00, 2019-08-23 13:50:33+00:00, 2019-08-23 13:50:27+00:00, 2019-08-23 13:50:19+00:00, 2019-08-23 13:50:12+00:00, 2019-08-23 13:50:06+00:00, 2019-08-23 13:49:58+00:00, 2019-08-23 13:49:39+00:00, 2019-08-23 13:49:30+00:00, 2019-08-23 13:49:19+00:00, 2019-08-23 13:49:02+00:00, 2019-08-23 13:48:55+00:00, 2019-08-23 13:48:22+00:00, 2019-08-23 13:48:16+00:00, 2019-08-23 13:48:10+00:00, 2019-08-23 13:48:02+00:00, 2019-08-23 13:35:33+00:00, 2019-08-23 13:35:27+00:00, 2019-08-23 13:18:38+00:00, 2019-08-23 11:48:07+00:00, 2019-08-23 11:48:01+00:00, 2019-08-23 11:47:55+00:00, 2019-08-23 11:47:21+00:00, 2019-08-23 11:11:24+00:00, 2019-08-23 11:10:56+00:00, 2019-08-23 11:10:23+00:00, 2019-08-23 11:09:47+00:00, 2019-08-23 11:09:14+00:00, 2019-08-23 09:35:26+00:00, 2019-08-22 17:45:07+00:00, 2019-08-22 17:24:23+00:00, 2019-08-22 17:24:16+00:00, 2019-08-22 17:24:04+00:00, 2019-08-22 17:23:58+00:00, 2019-08-22 17:23:51+00:00, 2019-08-22 17:23:45+00:00, 2019-08-22 17:23:31+00:00, 2019-08-22 17:23:07+00:00, 2019-08-22 17:22:55+00:00, 2019-08-22 17:21:03+00:00, 2019-08-22 17:20:28+00:00, 2019-08-22 17:11:19+00:00, 2019-08-22 17:11:12+00:00, 2019-08-22 17:10:38+00:00, 2019-08-22 17:10:32+00:00, 2019-08-22 17:10:16+00:00, 2019-08-22 17:09:41+00:00, 2019-08-22 17:09:22+00:00, 2019-08-22 17:08:53+00:00, 2019-08-22 16:48:15+00:00, 2019-08-22 16:47:58+00:00, 2019-08-22 16:43:44+00:00, 2019-08-22 16:43:24+00:00, 2019-08-22 16:43:16+00:00, 2019-08-22 16:42:04+00:00, 2019-08-22 16:38:48+00:00, 2019-08-22 16:38:04+00:00, 2019-08-22 16:37:27+00:00, 2019-08-22 16:36:34+00:00, 2019-08-22 16:35:13+00:00, 2019-08-22 16:34:25+00:00, 2019-08-22 16:33:53+00:00, 2019-08-22 16:33:19+00:00, 2019-08-22 16:32:51+00:00, 2019-08-22 16:32:45+00:00, 2019-08-22 16:32:42+00:00, 2019-08-22 16:32:33+00:00, 2019-08-22 16:32:26+00:00, 2019-08-22 16:32:14+00:00, ...]</td>\n",
       "    </tr>\n",
       "    <tr>\n",
       "      <td>5</td>\n",
       "      <td>7</td>\n",
       "      <td>15779</td>\n",
       "      <td>[00000000000006, 00000000000007, 01949085000111, 95425369002015, 93489243001007, 91707539000130, 05771708000160, 33469172001644, 20885426000187, 07045622000347, 00306597004518, 00306597007614, 25223680000133, 26424907000171, 10939971000155, 07286731000194, 00657399000188, 12132854000100, 04962228000113, 33469172000672, 08884038000186, 22954053000184, 00097626000400, 38069159000135, 11939627000129, 06061283000249, 30857439000791, 00031708000100, 19990065000150, 08014203000149, 00366518000143, 24474639000177, 03736724000196, 07976147003003, 13345728000105, 11491355000147, 19257042000130, 37106341000156, 08772052000198, 25308164000101, 17895646000187, 00306597003112, 09003521000258, 04804905000175, 27963300000122, 43283811005976, 07822636000168, 02558157000243, 31180570000134, 08202116000115, 05766104000125, 33469172002292, 16346975000106, 04788551000112, 08191620000167, 00703298000104, 18572225000188, 05977068000149, 18033552000161, 24971040000149, 29787050000142, 07575651000159, 04473193000159, 08962032000180, 08378600000108, 10698461000133, 00306597006308, 19562492000137, 03038875000170, 37063328001058, 12623662000105, 20645413000130, 09060964015393, 27560540000186, 30880112000145, 08736536000181, 11999092000181, 17556142000132, 26512539000113, 10835932000108, 18055554000151, 03261491000384, 30021280000185, 09296295000160, 01138114000165, 16706383000158, 26872956000177, 16870311000575, 00306597007290, 03782883000127, 51483956000122, 37158938000144, 24083816000194, 20174243000153, 20557000000102, 15146943000102, 13007752000126, 08995350000147, 00108670000207, 33517491000100, ...]</td>\n",
       "    </tr>\n",
       "    <tr>\n",
       "      <td>6</td>\n",
       "      <td>8</td>\n",
       "      <td>16055</td>\n",
       "      <td>[RAMAL, CORREIOS - CARTA REGISTRADA, CORREIOS - ENCOMENDA PAC, CORREIOS - CARTA COMERCIAL, CORREIOS - SEDEX CONVENCIONAL, CORREIOS - CARTA REGISTRADA COM AR, CORREIOS - TELEGRAMA, CORREIOS - CAIXA DE ENCOMENDAS BÁSICA/CONVENCIONAL, CORREIOS - SEDEX 10, CORREIOS - SEDEX CONVENCIONAL COM AR, CORREIOS - ENCOMENDA PAC COM AR, CORREIOS - ENVELOPE BÁSICO/CONVENCIONAL - PLÁSTICO/BOLHA, CORREIOS - IMPRESSO NORMAL, CORREIOS - SEDEX 10 COM AR, CORREIOS - MALA DIRETA POSTAL BÁSICA, CORREIOS - SEDEX 12, ABAST DE COMB RODEBENS LTDA, COMERCIO DE COMBUSTIVEIS NEVOEIRO LTDA, COML. BUFFON COMB. E TRANSP. LTDA. - POSTO 10, BERTELL HOTÉIS DE TURISMO LTDA, CORREIOS - EMS MERCADORIA COM AR, CORREIOS - TELEGRAMA COM CONFIRMAÇÃO, IPESQ - PROJETOS E PESQUISAS LTDA - EPP, SERVICO NACIONAL DE APRENDIZAGEM COMERCIAL SENAC, JOSÉ AMARÍLIO SOUZA DE OLIVEIRA JÚNIOR, DISTRIBUIDORA DE COMBUSTIVEIS SAVAR LTDA, CASCOL COMBUSTIVEIS PARA VEICULOS LTDA, Israel Pinheiro de Siqueira, RANATA GARRIDO COSME VIEIRA SERVIÇOS-ME, EIXINHO L 212 NORTE COM DE COM E DERIV LTDA, SILT SELF SERVICE EIRELI ME, Interconect Teleinformatica - Eireli ME, WMS COMERCIO DE ARTIGOS DE PAPELARIA LTDA-ME, TAKEO MARUTA CONVENIENCIA ME, FRATELLI POSTO DE COMBUSTIVEIS LTDA, RODRIGO SILVA DOS SANTOS82024715168, BRASAL COMBUSTIVEIS LTDA, COOPERATIVA DOS TAXISTAS AUT. DO DIST. FEDERAL, CLEVELAND BARBOSA BERNARDES EIRELI, D A ALIMENTOS LTDA, WELL FOODS RESTAURANTES LTDA, SINDICATO DOS PERMISSIONARIOS DE TAXIS E MOTORISTAS AUXILIARES DO DISTRITO FEDERAL, SINPETAXI, RICARDO PEREIRA DO NASCIMENTO, LOBE, GAMBA &amp; ADVOGADOS ASSOCIADOS, IRFATUR TUR. E HOTELARIA S/A, NUVEM COMUNICACAO DIGITAL EIRELI - ME, ssr comercio de papeis LTDA, MOVIDA aluguel de carros, EMIDIO SOUTO PEREIRA - EPP, JN PAPELARIA E INFORMATICA LTDA ME, DRA 4 DERIVADOS DE PETROLEO LTDA, STANDARD PUBLICIDADE E COMUNICACOES LTDA, JW BRASIL LOCAÇÃO, SAN MARCO AUTOMOVEIS LTDA, UBER DO BRASIL TECNOLOGIA LTDA, O REI DO CAMARAO RESTAURANTE LTDA EPP, POUSADA LARISSA LTDA, NOGUEIRA FORMIGA ADVOGADOS ASSOCIADOS, Kalunga Comercio e Industria Grafica Ltda, PIONEIRO COM VAREJISTA DE DERIVADO DE PETROLEO LTDA, TELEFONIA BRASIL S.A, LUCAS PAULINO DE SOUSA NOGUEIRA, AUTO POSTO AEROPORTO LTDA, SANDRI PANIFICADORA LTDA ME, PONTO CERTO COMERCIO DE CEREAIS LTDA - EPP, LIMA &amp; LACERDA PAPELARIA LTDA, DU CAFFIER CAFE E BUFFET LTDA EPP, Posto Nota 10 Ltda, CONCEBRA - CONCESSIONARIA DAS RODOVIAS CENTRAIS DO BRASIL S.A., RWR - Serviços de Taxi Ltda - ME, 99 POP, JK SELETA COMERCIO DE ALIMENTOS LTDA - ME, FFBARROS ALIMENTACAO EIRELI, GOL LINHAS AEREAS S.A., POSTO DA TORRE EIRELI - EPP, Pauma Comercio Alimenticio Ltda Epp, CT COMUNICACAO &amp; MARKETING LTDA, HOLANDA &amp; VASCONCELOS ADVOCACIA S/S, C.G de Moraes - ME, PLENA INFORMATICA LTDA EPP, AUTO SHOPPING DERIVADO DE PETROLEO LTDA, COOPERATIVA UNIAO DOS TAXISTAS DO DISTRITO FEDERAL LTDA, AUTO POSTO ORIGINAL BRASILIA 409 DERIVADOS DE PETROLEO LTDA, PIMENTA VERDE ALIMENTOS LTDA, TRENTINI RESTAURANTE E FAST FOOD EIRELI ME, UBER DO BRASIL TECNOLOGIA LTDA., AUTO POSTO GOLDEN GAS 202 LTDA, POSTO MAIOCHI, EMBAIXADA GASTRONOMICA BAR RESTAURANTE E EVENTOS, JORNAL A FOLHA LTDA, CHAO DE ESTRELAS RESTAURANTE E PIZZARIA EIRELI, Companhia Energética de Pernambuco, POSTO Z+Z 314 SUL LTDA, AUTO POSTO MILLENNIUM 2000 LTDA, FERNANDO DEL CASTILLO, AZUL LINHAS AÉREAS INTELIGENTES S.A, ANDRADE E URIAS LTDA, FAGUNDES IMPRESSOS EM GERAL EIRELI, OVER DRONE COMERCIO E SERVICOS EIRELI ME, ...]</td>\n",
       "    </tr>\n",
       "  </tbody>\n",
       "</table>\n",
       "</div>"
      ],
      "text/plain": [
       "   Atributo  Cardinalidade  \\\n",
       "4  6         18              \n",
       "3  5         28              \n",
       "2  4         35              \n",
       "8  10        520             \n",
       "1  3         815             \n",
       "7  9         5317            \n",
       "9  11        5334            \n",
       "0  2         9332            \n",
       "5  7         15779           \n",
       "6  8         16055           \n",
       "\n",
       "                                                                                                                                                                                                                                                                                                                                                                                                                                                                                                                                                                                                                                                                                                                                                                                                                                                                                                                                                                                                                                                                                                                                                                                                                                                                                                                                                                                                                                                                                                                                                                                                                                                                                                                                                                                                                                                                                                                                                                                                                                                                                                                                                                                                                                                                                                                                                                                                                                                                                                                                                                                                                                                                                                                                                                                                                                                                                                                                                                                                                                                                                                                                                                                                                                                                                                                                                                                                                                                                                                                                                                             Valores  \n",
       "4  [TELEFONIA, SERVIÇOS POSTAIS, COMBUSTÍVEIS E LUBRIFICANTES., HOSPEDAGEM ,EXCETO DO PARLAMENTAR NO DISTRITO FEDERAL., CONSULTORIAS, PESQUISAS E TRABALHOS TÉCNICOS., FORNECIMENTO DE ALIMENTAÇÃO DO PARLAMENTAR, DIVULGAÇÃO DA ATIVIDADE PARLAMENTAR., MANUTENÇÃO DE ESCRITÓRIO DE APOIO À ATIVIDADE PARLAMENTAR, SERVIÇO DE TÁXI, PEDÁGIO E ESTACIONAMENTO, LOCAÇÃO OU FRETAMENTO DE VEÍCULOS AUTOMOTORES, PASSAGENS AÉREAS, SERVIÇO DE SEGURANÇA PRESTADO POR EMPRESA ESPECIALIZADA., PASSAGENS TERRESTRES, MARÍTIMAS OU FLUVIAIS, LOCAÇÃO OU FRETAMENTO DE AERONAVES, PARTICIPAÇÃO EM CURSO, PALESTRA OU EVENTO SIMILAR, ASSINATURA DE PUBLICAÇÕES, Emissão Bilhete Aéreo, LOCAÇÃO OU FRETAMENTO DE EMBARCAÇÕES]                                                                                                                                                                                                                                                                                                                                                                                                                                                                                                                                                                                                                                                                                                                                                                                                                                                                                                                                                                                                                                                                                                                                                                                                                                                                                                                                                                                                                                                                                                                                                                                                                                                                                                                                                                                                                                                                                                                                                                                                                                                                                                                                                                                                                                                                                                                                                                                                                                                                                                                                                                                                                                                                                                                                                                                                                                                                 \n",
       "3  [PE, ES, SP, PI, SE, BA, PR, RS, MG, SC, RJ, AC, PB, PA, AM, MA, CE, GO, MS, RO, RN, TO, MT, RR, AL, DF, AP, NA]                                                                                                                                                                                                                                                                                                                                                                                                                                                                                                                                                                                                                                                                                                                                                                                                                                                                                                                                                                                                                                                                                                                                                                                                                                                                                                                                                                                                                                                                                                                                                                                                                                                                                                                                                                                                                                                                                                                                                                                                                                                                                                                                                                                                                                                                                                                                                                                                                                                                                                                                                                                                                                                                                                                                                                                                                                                                                                                                                                                                                                                                                                                                                                                                                                                                                                                                                                                                                                                                   \n",
       "2  [PSB, DEM, PP, PDT, PODE, PT, PRB, CIDADANIA, PSOL, MDB, PCdoB, PL, PTB, PROS, PSDB, PSC, PSD, PSL, SOLIDARIEDADE, NOVO, AVANTE, PATRIOTA, PV, S.PART., REDE, PMN, PHS, PPS, PR, PATRI, PPL, LIDMIN, SDD, LID.GOV-CD, REPUBLICANOS]                                                                                                                                                                                                                                                                                                                                                                                                                                                                                                                                                                                                                                                                                                                                                                                                                                                                                                                                                                                                                                                                                                                                                                                                                                                                                                                                                                                                                                                                                                                                                                                                                                                                                                                                                                                                                                                                                                                                                                                                                                                                                                                                                                                                                                                                                                                                                                                                                                                                                                                                                                                                                                                                                                                                                                                                                                                                                                                                                                                                                                                                                                                                                                                                                                                                                                                                                \n",
       "8  [0, 2, 8, 4, 9, 1, 178, 6, 5, 57, 12, 24, 85, 20, 30, 62, 86, 3, 49, 236, 59, 16, 139, 13, 31, 15, 7787, 119, 74, 77, 19, 80, 109, 125, 120, 36, 101, 250, 54, 46, 11, 10, 379, 47, 58, 67, 240, 52, 60, 207, 14, 903, 28, 149, 378, 41, 194, 25, 113, 56, 70, 151, 35, 115, 885, 39, 42, 76, 143, 350, 89, 390, 581, 51, 22, 66, 2037, 34, 2960, 220, 99, 75, 165, 123, 32, 176, 7, 150, 40, 1240, 53, 27, 223, 224, 17, 68, 18, 44, 190, 170, ...]                                                                                                                                                                                                                                                                                                                                                                                                                                                                                                                                                                                                                                                                                                                                                                                                                                                                                                                                                                                                                                                                                                                                                                                                                                                                                                                                                                                                                                                                                                                                                                                                                                                                                                                                                                                                                                                                                                                                                                                                                                                                                                                                                                                                                                                                                                                                                                                                                                                                                                                                                                                                                                                                                                                                                                                                                                                                                                                                                                                                                                                                                                                               \n",
       "1  [FELIPE CARRERAS, NORMA AYUB, FAUSTO PINATO, IRACEMA PORTELLA, FÁBIO HENRIQUE, BACELAR, ARLINDO CHINAGLIA, CELSO RUSSOMANNO, GUSTAVO FRUET, RUBENS BUENO, HENRIQUE FONTANA, POMPEO DE MATTOS, IVAN VALENTE, JÚLIO DELGADO, ANGELA AMIN, RUI FALCÃO, BENEDITA DA SILVA, HERMES PARCIANELLO, RICARDO BARROS, RENILDO CALHEIROS, DARCÍSIO PERONDI, PERPÉTUA ALMEIDA, WELLINGTON ROBERTO, WILSON SANTIAGO, BOSCO COSTA, ALICE PORTUGAL, DANIEL ALMEIDA, ELCIONE BARBALHO, JOSÉ PRIANTE, ÁTILA LINS, LEONARDO MONTEIRO, MÁRIO HERINGER, ODAIR CUNHA, PATRUS ANANIAS, REGINALDO LOPES, GASTÃO VIEIRA, ANÍBAL GOMES, CARLOS SAMPAIO, GILBERTO NASCIMENTO, JEFFERSON CAMPOS, VICENTINHO, LEÔNIDAS CRISTINO, ROBERTO PESSOA, JÚLIO CESAR, PAES LANDIM, NILSON PINTO, SILAS CÂMARA, JOÃO CAMPOS, RUBENS OTONI, GERALDO RESENDE, VANDER LOUBET, GIACOBO, MARIA DO ROSÁRIO, ONYX LORENZONI, PAULO PIMENTA, GONZAGA PATRIOTA, WOLNEY QUEIROZ, ÁTILA LIRA, DAMIÃO FELICIANO, ANDRÉ DE PAULA, LUCIANO BIVAR, CLAUDIO CAJADO, JOSÉ ROCHA, NELSON PELLEGRINO, PAULO MAGALHÃES, LINCOLN PORTELA, AÉCIO NEVES, EDUARDO BARBOSA, RODRIGO MAIA, MAURO LOPES, LUIZA ERUNDINA, JANDIRA FEGHALI, MAURÍCIO DZIEDRICKI, MARCELO FREIXO, MÁRCIO JERRY, DRA. SORAYA MANATO, PEDRO AUGUSTO BEZERRA, SANTINI, LEUR LOMANTO JÚNIOR, EDUARDO BOLSONARO, STEFANO AGUIAR, CACÁ LEÃO, LAFAYETTE DE ANDRADA, GLEISI HOFFMANN, JAQUELINE CASSOL, BENES LEOCÁDIO, JOÃO MARCELO SOUZA, GELSON AZEVEDO, DARCI DE MATOS, ADRIANO DO BALDY, PEDRO PAULO, PEDRO LUCAS FERNANDES, ENIO VERRI, ANDRÉ FIGUEIREDO, MARCELO MORAES, PAULO RAMOS, EDMILSON RODRIGUES, CRISTIANO VALE, AFONSO HAMM, VICENTINHO JÚNIOR, ...]                                                                                                                                                                                                                                                                                                                                                                                                                                                                                                                                                                                                                                                                                                                                                                                                                                                                                                                                                                                                                                                                                                                                                                                                                                                                                                                                                                                                                                                                                                                                                                                                                                                                                                                                                                                                                                                                                                          \n",
       "7  [102, 131, 23, 110, 169, 31, 112, 37, 17, 53, 82, 119, 57, 60, 78, 93, 58, 33, 94, 32, 154, 27, 136, 64, 59, 30, 26, 87, 172, 153, 42, 98, 76, 180, 251, 25, 11, 63, 132, 70, 198, 71, 34, 22, 134, 97, 227, 1, 185, 167, 2, 9, 36, 221, 130, 75, 40, 44, 77, 397, 109, 139, 8, 50, 48, 125, 108, 231, 49, 111, 46, 67, 41, 107, 15, 81, 38, 140, 4, 128, 127, 292, 145, 20, 45, 166, 61, 43, 158, 122, 52, 213, 372, 157, 80, 405, 151, 88, 72, 62, ...]                                                                                                                                                                                                                                                                                                                                                                                                                                                                                                                                                                                                                                                                                                                                                                                                                                                                                                                                                                                                                                                                                                                                                                                                                                                                                                                                                                                                                                                                                                                                                                                                                                                                                                                                                                                                                                                                                                                                                                                                                                                                                                                                                                                                                                                                                                                                                                                                                                                                                                                                                                                                                                                                                                                                                                                                                                                                                                                                                                                                                                                                                                                          \n",
       "9  [102, 131, 23, 110, 169, 31, 112, 37, 17, 53, 82, 119, 57, 60, 78, 93, 58, 33, 94, 32, 154, 27, 136, 64, 59, 30, 26, 87, 172, 153, 42, 98, 76, 180, 251, 25, 11, 63, 132, 70, 198, 71, 34, 22, 134, 97, 227, 1, 185, 167, 2, 9, 36, 221, 130, 75, 40, 44, 77, 397, 109, 139, 8, 50, 48, 125, 108, 231, 49, 111, 46, 67, 41, 107, 15, 81, 38, 140, 4, 128, 127, 292, 145, 20, 45, 166, 61, 43, 158, 122, 52, 213, 372, 157, 80, 405, 151, 88, 72, 62, ...]                                                                                                                                                                                                                                                                                                                                                                                                                                                                                                                                                                                                                                                                                                                                                                                                                                                                                                                                                                                                                                                                                                                                                                                                                                                                                                                                                                                                                                                                                                                                                                                                                                                                                                                                                                                                                                                                                                                                                                                                                                                                                                                                                                                                                                                                                                                                                                                                                                                                                                                                                                                                                                                                                                                                                                                                                                                                                                                                                                                                                                                                                                                          \n",
       "0  [, 2019-08-23 17:06:44+00:00, 2019-08-23 17:06:09+00:00, 2019-08-23 17:05:31+00:00, 2019-08-23 17:01:11+00:00, 2019-08-23 17:00:42+00:00, 2019-08-23 17:00:40+00:00, 2019-08-23 17:00:06+00:00, 2019-08-23 16:59:28+00:00, 2019-08-23 16:58:48+00:00, 2019-08-23 16:58:09+00:00, 2019-08-23 16:42:00+00:00, 2019-08-23 16:41:24+00:00, 2019-08-23 16:40:25+00:00, 2019-08-23 16:39:51+00:00, 2019-08-23 16:22:18+00:00, 2019-08-23 16:21:27+00:00, 2019-08-23 15:40:36+00:00, 2019-08-23 15:40:03+00:00, 2019-08-23 15:39:28+00:00, 2019-08-23 15:38:55+00:00, 2019-08-23 15:37:44+00:00, 2019-08-23 15:37:07+00:00, 2019-08-23 15:12:44+00:00, 2019-08-23 15:06:47+00:00, 2019-08-23 13:58:10+00:00, 2019-08-23 13:57:59+00:00, 2019-08-23 13:54:58+00:00, 2019-08-23 13:51:03+00:00, 2019-08-23 13:50:54+00:00, 2019-08-23 13:50:48+00:00, 2019-08-23 13:50:41+00:00, 2019-08-23 13:50:33+00:00, 2019-08-23 13:50:27+00:00, 2019-08-23 13:50:19+00:00, 2019-08-23 13:50:12+00:00, 2019-08-23 13:50:06+00:00, 2019-08-23 13:49:58+00:00, 2019-08-23 13:49:39+00:00, 2019-08-23 13:49:30+00:00, 2019-08-23 13:49:19+00:00, 2019-08-23 13:49:02+00:00, 2019-08-23 13:48:55+00:00, 2019-08-23 13:48:22+00:00, 2019-08-23 13:48:16+00:00, 2019-08-23 13:48:10+00:00, 2019-08-23 13:48:02+00:00, 2019-08-23 13:35:33+00:00, 2019-08-23 13:35:27+00:00, 2019-08-23 13:18:38+00:00, 2019-08-23 11:48:07+00:00, 2019-08-23 11:48:01+00:00, 2019-08-23 11:47:55+00:00, 2019-08-23 11:47:21+00:00, 2019-08-23 11:11:24+00:00, 2019-08-23 11:10:56+00:00, 2019-08-23 11:10:23+00:00, 2019-08-23 11:09:47+00:00, 2019-08-23 11:09:14+00:00, 2019-08-23 09:35:26+00:00, 2019-08-22 17:45:07+00:00, 2019-08-22 17:24:23+00:00, 2019-08-22 17:24:16+00:00, 2019-08-22 17:24:04+00:00, 2019-08-22 17:23:58+00:00, 2019-08-22 17:23:51+00:00, 2019-08-22 17:23:45+00:00, 2019-08-22 17:23:31+00:00, 2019-08-22 17:23:07+00:00, 2019-08-22 17:22:55+00:00, 2019-08-22 17:21:03+00:00, 2019-08-22 17:20:28+00:00, 2019-08-22 17:11:19+00:00, 2019-08-22 17:11:12+00:00, 2019-08-22 17:10:38+00:00, 2019-08-22 17:10:32+00:00, 2019-08-22 17:10:16+00:00, 2019-08-22 17:09:41+00:00, 2019-08-22 17:09:22+00:00, 2019-08-22 17:08:53+00:00, 2019-08-22 16:48:15+00:00, 2019-08-22 16:47:58+00:00, 2019-08-22 16:43:44+00:00, 2019-08-22 16:43:24+00:00, 2019-08-22 16:43:16+00:00, 2019-08-22 16:42:04+00:00, 2019-08-22 16:38:48+00:00, 2019-08-22 16:38:04+00:00, 2019-08-22 16:37:27+00:00, 2019-08-22 16:36:34+00:00, 2019-08-22 16:35:13+00:00, 2019-08-22 16:34:25+00:00, 2019-08-22 16:33:53+00:00, 2019-08-22 16:33:19+00:00, 2019-08-22 16:32:51+00:00, 2019-08-22 16:32:45+00:00, 2019-08-22 16:32:42+00:00, 2019-08-22 16:32:33+00:00, 2019-08-22 16:32:26+00:00, 2019-08-22 16:32:14+00:00, ...]                                                                                                                                                                                                                                                                                                                                                                                                                                                                                                                                                                                                                                                                                                                                                                                           \n",
       "5  [00000000000006, 00000000000007, 01949085000111, 95425369002015, 93489243001007, 91707539000130, 05771708000160, 33469172001644, 20885426000187, 07045622000347, 00306597004518, 00306597007614, 25223680000133, 26424907000171, 10939971000155, 07286731000194, 00657399000188, 12132854000100, 04962228000113, 33469172000672, 08884038000186, 22954053000184, 00097626000400, 38069159000135, 11939627000129, 06061283000249, 30857439000791, 00031708000100, 19990065000150, 08014203000149, 00366518000143, 24474639000177, 03736724000196, 07976147003003, 13345728000105, 11491355000147, 19257042000130, 37106341000156, 08772052000198, 25308164000101, 17895646000187, 00306597003112, 09003521000258, 04804905000175, 27963300000122, 43283811005976, 07822636000168, 02558157000243, 31180570000134, 08202116000115, 05766104000125, 33469172002292, 16346975000106, 04788551000112, 08191620000167, 00703298000104, 18572225000188, 05977068000149, 18033552000161, 24971040000149, 29787050000142, 07575651000159, 04473193000159, 08962032000180, 08378600000108, 10698461000133, 00306597006308, 19562492000137, 03038875000170, 37063328001058, 12623662000105, 20645413000130, 09060964015393, 27560540000186, 30880112000145, 08736536000181, 11999092000181, 17556142000132, 26512539000113, 10835932000108, 18055554000151, 03261491000384, 30021280000185, 09296295000160, 01138114000165, 16706383000158, 26872956000177, 16870311000575, 00306597007290, 03782883000127, 51483956000122, 37158938000144, 24083816000194, 20174243000153, 20557000000102, 15146943000102, 13007752000126, 08995350000147, 00108670000207, 33517491000100, ...]                                                                                                                                                                                                                                                                                                                                                                                                                                                                                                                                                                                                                                                                                                                                                                                                                                                                                                                                                                                                                                                                                                                                                                                                                                                                                                                                                                                                                                                                                                                                                                                                                                                                                                                                                                                                                                                                                                              \n",
       "6  [RAMAL, CORREIOS - CARTA REGISTRADA, CORREIOS - ENCOMENDA PAC, CORREIOS - CARTA COMERCIAL, CORREIOS - SEDEX CONVENCIONAL, CORREIOS - CARTA REGISTRADA COM AR, CORREIOS - TELEGRAMA, CORREIOS - CAIXA DE ENCOMENDAS BÁSICA/CONVENCIONAL, CORREIOS - SEDEX 10, CORREIOS - SEDEX CONVENCIONAL COM AR, CORREIOS - ENCOMENDA PAC COM AR, CORREIOS - ENVELOPE BÁSICO/CONVENCIONAL - PLÁSTICO/BOLHA, CORREIOS - IMPRESSO NORMAL, CORREIOS - SEDEX 10 COM AR, CORREIOS - MALA DIRETA POSTAL BÁSICA, CORREIOS - SEDEX 12, ABAST DE COMB RODEBENS LTDA, COMERCIO DE COMBUSTIVEIS NEVOEIRO LTDA, COML. BUFFON COMB. E TRANSP. LTDA. - POSTO 10, BERTELL HOTÉIS DE TURISMO LTDA, CORREIOS - EMS MERCADORIA COM AR, CORREIOS - TELEGRAMA COM CONFIRMAÇÃO, IPESQ - PROJETOS E PESQUISAS LTDA - EPP, SERVICO NACIONAL DE APRENDIZAGEM COMERCIAL SENAC, JOSÉ AMARÍLIO SOUZA DE OLIVEIRA JÚNIOR, DISTRIBUIDORA DE COMBUSTIVEIS SAVAR LTDA, CASCOL COMBUSTIVEIS PARA VEICULOS LTDA, Israel Pinheiro de Siqueira, RANATA GARRIDO COSME VIEIRA SERVIÇOS-ME, EIXINHO L 212 NORTE COM DE COM E DERIV LTDA, SILT SELF SERVICE EIRELI ME, Interconect Teleinformatica - Eireli ME, WMS COMERCIO DE ARTIGOS DE PAPELARIA LTDA-ME, TAKEO MARUTA CONVENIENCIA ME, FRATELLI POSTO DE COMBUSTIVEIS LTDA, RODRIGO SILVA DOS SANTOS82024715168, BRASAL COMBUSTIVEIS LTDA, COOPERATIVA DOS TAXISTAS AUT. DO DIST. FEDERAL, CLEVELAND BARBOSA BERNARDES EIRELI, D A ALIMENTOS LTDA, WELL FOODS RESTAURANTES LTDA, SINDICATO DOS PERMISSIONARIOS DE TAXIS E MOTORISTAS AUXILIARES DO DISTRITO FEDERAL, SINPETAXI, RICARDO PEREIRA DO NASCIMENTO, LOBE, GAMBA & ADVOGADOS ASSOCIADOS, IRFATUR TUR. E HOTELARIA S/A, NUVEM COMUNICACAO DIGITAL EIRELI - ME, ssr comercio de papeis LTDA, MOVIDA aluguel de carros, EMIDIO SOUTO PEREIRA - EPP, JN PAPELARIA E INFORMATICA LTDA ME, DRA 4 DERIVADOS DE PETROLEO LTDA, STANDARD PUBLICIDADE E COMUNICACOES LTDA, JW BRASIL LOCAÇÃO, SAN MARCO AUTOMOVEIS LTDA, UBER DO BRASIL TECNOLOGIA LTDA, O REI DO CAMARAO RESTAURANTE LTDA EPP, POUSADA LARISSA LTDA, NOGUEIRA FORMIGA ADVOGADOS ASSOCIADOS, Kalunga Comercio e Industria Grafica Ltda, PIONEIRO COM VAREJISTA DE DERIVADO DE PETROLEO LTDA, TELEFONIA BRASIL S.A, LUCAS PAULINO DE SOUSA NOGUEIRA, AUTO POSTO AEROPORTO LTDA, SANDRI PANIFICADORA LTDA ME, PONTO CERTO COMERCIO DE CEREAIS LTDA - EPP, LIMA & LACERDA PAPELARIA LTDA, DU CAFFIER CAFE E BUFFET LTDA EPP, Posto Nota 10 Ltda, CONCEBRA - CONCESSIONARIA DAS RODOVIAS CENTRAIS DO BRASIL S.A., RWR - Serviços de Taxi Ltda - ME, 99 POP, JK SELETA COMERCIO DE ALIMENTOS LTDA - ME, FFBARROS ALIMENTACAO EIRELI, GOL LINHAS AEREAS S.A., POSTO DA TORRE EIRELI - EPP, Pauma Comercio Alimenticio Ltda Epp, CT COMUNICACAO & MARKETING LTDA, HOLANDA & VASCONCELOS ADVOCACIA S/S, C.G de Moraes - ME, PLENA INFORMATICA LTDA EPP, AUTO SHOPPING DERIVADO DE PETROLEO LTDA, COOPERATIVA UNIAO DOS TAXISTAS DO DISTRITO FEDERAL LTDA, AUTO POSTO ORIGINAL BRASILIA 409 DERIVADOS DE PETROLEO LTDA, PIMENTA VERDE ALIMENTOS LTDA, TRENTINI RESTAURANTE E FAST FOOD EIRELI ME, UBER DO BRASIL TECNOLOGIA LTDA., AUTO POSTO GOLDEN GAS 202 LTDA, POSTO MAIOCHI, EMBAIXADA GASTRONOMICA BAR RESTAURANTE E EVENTOS, JORNAL A FOLHA LTDA, CHAO DE ESTRELAS RESTAURANTE E PIZZARIA EIRELI, Companhia Energética de Pernambuco, POSTO Z+Z 314 SUL LTDA, AUTO POSTO MILLENNIUM 2000 LTDA, FERNANDO DEL CASTILLO, AZUL LINHAS AÉREAS INTELIGENTES S.A, ANDRADE E URIAS LTDA, FAGUNDES IMPRESSOS EM GERAL EIRELI, OVER DRONE COMERCIO E SERVICOS EIRELI ME, ...]  "
      ]
     },
     "execution_count": 35,
     "metadata": {},
     "output_type": "execute_result"
    }
   ],
   "source": [
    "dp.cardinalidade(df_gastos_2019)"
   ]
  },
  {
   "cell_type": "markdown",
   "metadata": {},
   "source": [
    "**Análise preliminar:**\n",
    "\n",
    "1. Os atributos / fatores / variáveis independentes que possuem cardinalidade igual a um não oferecem nenhum ganho de informação. Atributos \n",
    "**Ação:** Remover esses atributos.\n",
    "\n",
    "2. Os atributos vlrdocumento e vlrliquido estão como objects, mas são floats.\n",
    "**Ação:** Converter esses atributos para float."
   ]
  },
  {
   "cell_type": "code",
   "execution_count": null,
   "metadata": {},
   "outputs": [],
   "source": [
    "# Removendo os atributos com cardinalidade <= 1:\n",
    "\n",
    "lista_atributos_para_remover = list(dp.cardinalidade(df_gastos_parlamentares)[dp.cardinalidade(df_gastos_parlamentares)[\"Cardinalidade\"] <= 1][\"Atributo\"].values)\n",
    "\n",
    "df_gastos_parlamentares.drop(lista_atributos_para_remover, axis=1, inplace=True)"
   ]
  },
  {
   "cell_type": "code",
   "execution_count": null,
   "metadata": {},
   "outputs": [],
   "source": [
    "df_gastos_parlamentares.vlrdocumento = pd.to_numeric(df_gastos_parlamentares.vlrdocumento)\n",
    "df_gastos_parlamentares.vlrliquido = pd.to_numeric(df_gastos_parlamentares.vlrliquido)\n",
    "\n",
    "df_gastos_parlamentares.info()"
   ]
  },
  {
   "cell_type": "code",
   "execution_count": null,
   "metadata": {},
   "outputs": [],
   "source": [
    "dp.cardinalidade(df_gastos_parlamentares)"
   ]
  },
  {
   "cell_type": "code",
   "execution_count": null,
   "metadata": {},
   "outputs": [],
   "source": [
    "df_gastos_parlamentares.describe().T"
   ]
  },
  {
   "cell_type": "code",
   "execution_count": null,
   "metadata": {},
   "outputs": [],
   "source": [
    "df_gastos_parlamentares.groupby([\"sguf\", \"sgpartido\"], axis=0)[\"vlrliquido\"].mean()"
   ]
  },
  {
   "cell_type": "code",
   "execution_count": null,
   "metadata": {},
   "outputs": [],
   "source": []
  }
 ],
 "metadata": {
  "kernelspec": {
   "display_name": "Python 3",
   "language": "python",
   "name": "python3"
  }
 },
 "nbformat": 4,
 "nbformat_minor": 2
}
