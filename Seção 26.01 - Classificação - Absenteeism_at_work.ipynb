{
 "cells": [
  {
   "cell_type": "markdown",
   "metadata": {},
   "source": [
    "# Problema de Classificação - UCI - Absenteeism_at_work\n",
    "\n",
    "Esse notebook está usando uma base de dados aberta obtida em https://archive.ics.uci.edu/ml/datasets/Absenteeism+at+work.\n",
    "\n",
    "Originalmente, como será observado, este dataset é para problemas de regressão, porém, criei uma reposta/target/variável dependente para este exercício."
   ]
  },
  {
   "cell_type": "code",
   "execution_count": 1,
   "metadata": {
    "ExecuteTime": {
     "end_time": "2020-05-26T21:52:13.979842Z",
     "start_time": "2020-05-26T21:52:13.959859Z"
    }
   },
   "outputs": [],
   "source": [
    "# Instruções basiconas de sempre.\n",
    "\n",
    "# Lidar com dataframes.\n",
    "import numpy as np\n",
    "import pandas as pd\n",
    "\n",
    "# Lidar com gráficos.\n",
    "import matplotlib.pyplot as plt\n",
    "import seaborn as sns\n",
    "# import plotly\n",
    "# from bokeh.plotting import figure\n",
    "# from bokeh.io import show, output_notebook\n",
    "from plotting import (multiple_histograms_plot,\n",
    "                      bar_plot_with_categorical,\n",
    "                      plot_confusion_matrix,\n",
    "                      plot_confusion_matrix_2,\n",
    "                      plot_roc)\n",
    "\n",
    "# Lidar com preparação de dados.\n",
    "from data_prep import data_prep as dp # Eu que fiz esse modulinho (\"uuuuuuuuuma bosts!\").\n",
    "from sklearn.impute import SimpleImputer\n",
    "from sklearn.preprocessing import (StandardScaler\n",
    "                                   , MinMaxScaler)\n",
    "from sklearn.model_selection import (train_test_split\n",
    "                                     , cross_val_score\n",
    "                                     , StratifiedKFold)\n",
    "\n",
    "# Lidar com validação de modelos.\n",
    "from sklearn.metrics import (confusion_matrix\n",
    "                             , accuracy_score\n",
    "                             , classification_report)\n",
    "\n",
    "pd.set_option('display.max_columns', None)  \n",
    "pd.set_option('display.max_colwidth', None)\n",
    "pd.set_option('display.max_rows', 500)"
   ]
  },
  {
   "cell_type": "code",
   "execution_count": 2,
   "metadata": {
    "ExecuteTime": {
     "end_time": "2020-05-26T21:51:04.743734Z",
     "start_time": "2020-05-26T21:51:03.484851Z"
    }
   },
   "outputs": [
    {
     "data": {
      "text/html": [
       "<div>\n",
       "<style scoped>\n",
       "    .dataframe tbody tr th:only-of-type {\n",
       "        vertical-align: middle;\n",
       "    }\n",
       "\n",
       "    .dataframe tbody tr th {\n",
       "        vertical-align: top;\n",
       "    }\n",
       "\n",
       "    .dataframe thead th {\n",
       "        text-align: right;\n",
       "    }\n",
       "</style>\n",
       "<table border=\"1\" class=\"dataframe\">\n",
       "  <thead>\n",
       "    <tr style=\"text-align: right;\">\n",
       "      <th></th>\n",
       "      <th>ID</th>\n",
       "      <th>Reason for absence</th>\n",
       "      <th>Month of absence</th>\n",
       "      <th>Day of the week</th>\n",
       "      <th>Seasons</th>\n",
       "      <th>Transportation expense</th>\n",
       "      <th>Distance from Residence to Work</th>\n",
       "      <th>Service time</th>\n",
       "      <th>Age</th>\n",
       "      <th>Work load Average/day</th>\n",
       "      <th>Hit target</th>\n",
       "      <th>Disciplinary failure</th>\n",
       "      <th>Education</th>\n",
       "      <th>Son</th>\n",
       "      <th>Social drinker</th>\n",
       "      <th>Social smoker</th>\n",
       "      <th>Pet</th>\n",
       "      <th>Weight</th>\n",
       "      <th>Height</th>\n",
       "      <th>Body mass index</th>\n",
       "      <th>Absenteeism time in hours</th>\n",
       "    </tr>\n",
       "  </thead>\n",
       "  <tbody>\n",
       "    <tr>\n",
       "      <th>0</th>\n",
       "      <td>11</td>\n",
       "      <td>26</td>\n",
       "      <td>7</td>\n",
       "      <td>3</td>\n",
       "      <td>1</td>\n",
       "      <td>289</td>\n",
       "      <td>36</td>\n",
       "      <td>13</td>\n",
       "      <td>33</td>\n",
       "      <td>239.554</td>\n",
       "      <td>97</td>\n",
       "      <td>0</td>\n",
       "      <td>1</td>\n",
       "      <td>2</td>\n",
       "      <td>1</td>\n",
       "      <td>0</td>\n",
       "      <td>1</td>\n",
       "      <td>90</td>\n",
       "      <td>172</td>\n",
       "      <td>30</td>\n",
       "      <td>4</td>\n",
       "    </tr>\n",
       "    <tr>\n",
       "      <th>1</th>\n",
       "      <td>36</td>\n",
       "      <td>0</td>\n",
       "      <td>7</td>\n",
       "      <td>3</td>\n",
       "      <td>1</td>\n",
       "      <td>118</td>\n",
       "      <td>13</td>\n",
       "      <td>18</td>\n",
       "      <td>50</td>\n",
       "      <td>239.554</td>\n",
       "      <td>97</td>\n",
       "      <td>1</td>\n",
       "      <td>1</td>\n",
       "      <td>1</td>\n",
       "      <td>1</td>\n",
       "      <td>0</td>\n",
       "      <td>0</td>\n",
       "      <td>98</td>\n",
       "      <td>178</td>\n",
       "      <td>31</td>\n",
       "      <td>0</td>\n",
       "    </tr>\n",
       "    <tr>\n",
       "      <th>2</th>\n",
       "      <td>3</td>\n",
       "      <td>23</td>\n",
       "      <td>7</td>\n",
       "      <td>4</td>\n",
       "      <td>1</td>\n",
       "      <td>179</td>\n",
       "      <td>51</td>\n",
       "      <td>18</td>\n",
       "      <td>38</td>\n",
       "      <td>239.554</td>\n",
       "      <td>97</td>\n",
       "      <td>0</td>\n",
       "      <td>1</td>\n",
       "      <td>0</td>\n",
       "      <td>1</td>\n",
       "      <td>0</td>\n",
       "      <td>0</td>\n",
       "      <td>89</td>\n",
       "      <td>170</td>\n",
       "      <td>31</td>\n",
       "      <td>2</td>\n",
       "    </tr>\n",
       "    <tr>\n",
       "      <th>3</th>\n",
       "      <td>7</td>\n",
       "      <td>7</td>\n",
       "      <td>7</td>\n",
       "      <td>5</td>\n",
       "      <td>1</td>\n",
       "      <td>279</td>\n",
       "      <td>5</td>\n",
       "      <td>14</td>\n",
       "      <td>39</td>\n",
       "      <td>239.554</td>\n",
       "      <td>97</td>\n",
       "      <td>0</td>\n",
       "      <td>1</td>\n",
       "      <td>2</td>\n",
       "      <td>1</td>\n",
       "      <td>1</td>\n",
       "      <td>0</td>\n",
       "      <td>68</td>\n",
       "      <td>168</td>\n",
       "      <td>24</td>\n",
       "      <td>4</td>\n",
       "    </tr>\n",
       "    <tr>\n",
       "      <th>4</th>\n",
       "      <td>11</td>\n",
       "      <td>23</td>\n",
       "      <td>7</td>\n",
       "      <td>5</td>\n",
       "      <td>1</td>\n",
       "      <td>289</td>\n",
       "      <td>36</td>\n",
       "      <td>13</td>\n",
       "      <td>33</td>\n",
       "      <td>239.554</td>\n",
       "      <td>97</td>\n",
       "      <td>0</td>\n",
       "      <td>1</td>\n",
       "      <td>2</td>\n",
       "      <td>1</td>\n",
       "      <td>0</td>\n",
       "      <td>1</td>\n",
       "      <td>90</td>\n",
       "      <td>172</td>\n",
       "      <td>30</td>\n",
       "      <td>2</td>\n",
       "    </tr>\n",
       "  </tbody>\n",
       "</table>\n",
       "</div>"
      ],
      "text/plain": [
       "   ID  Reason for absence  Month of absence  Day of the week  Seasons  \\\n",
       "0  11  26                  7                 3                1         \n",
       "1  36  0                   7                 3                1         \n",
       "2  3   23                  7                 4                1         \n",
       "3  7   7                   7                 5                1         \n",
       "4  11  23                  7                 5                1         \n",
       "\n",
       "   Transportation expense  Distance from Residence to Work  Service time  Age  \\\n",
       "0  289                     36                               13            33    \n",
       "1  118                     13                               18            50    \n",
       "2  179                     51                               18            38    \n",
       "3  279                     5                                14            39    \n",
       "4  289                     36                               13            33    \n",
       "\n",
       "   Work load Average/day   Hit target  Disciplinary failure  Education  Son  \\\n",
       "0  239.554                 97          0                     1          2     \n",
       "1  239.554                 97          1                     1          1     \n",
       "2  239.554                 97          0                     1          0     \n",
       "3  239.554                 97          0                     1          2     \n",
       "4  239.554                 97          0                     1          2     \n",
       "\n",
       "   Social drinker  Social smoker  Pet  Weight  Height  Body mass index  \\\n",
       "0  1               0              1    90      172     30                \n",
       "1  1               0              0    98      178     31                \n",
       "2  1               0              0    89      170     31                \n",
       "3  1               1              0    68      168     24                \n",
       "4  1               0              1    90      172     30                \n",
       "\n",
       "   Absenteeism time in hours  \n",
       "0  4                          \n",
       "1  0                          \n",
       "2  2                          \n",
       "3  4                          \n",
       "4  2                          "
      ]
     },
     "execution_count": 2,
     "metadata": {},
     "output_type": "execute_result"
    }
   ],
   "source": [
    "nomeDaBase = \"../bases/Absenteeism_at_work.csv\"\n",
    "df = pd.read_csv(nomeDaBase, sep=\";\", encoding=\"utf-8\")\n",
    "\n",
    "df.head()"
   ]
  },
  {
   "cell_type": "code",
   "execution_count": 3,
   "metadata": {
    "ExecuteTime": {
     "end_time": "2020-05-26T21:51:04.806735Z",
     "start_time": "2020-05-26T21:51:04.750736Z"
    }
   },
   "outputs": [
    {
     "name": "stdout",
     "output_type": "stream",
     "text": [
      "<class 'pandas.core.frame.DataFrame'>\n",
      "RangeIndex: 740 entries, 0 to 739\n",
      "Data columns (total 21 columns):\n",
      " #   Column                           Non-Null Count  Dtype  \n",
      "---  ------                           --------------  -----  \n",
      " 0   ID                               740 non-null    int64  \n",
      " 1   Reason for absence               740 non-null    int64  \n",
      " 2   Month of absence                 740 non-null    int64  \n",
      " 3   Day of the week                  740 non-null    int64  \n",
      " 4   Seasons                          740 non-null    int64  \n",
      " 5   Transportation expense           740 non-null    int64  \n",
      " 6   Distance from Residence to Work  740 non-null    int64  \n",
      " 7   Service time                     740 non-null    int64  \n",
      " 8   Age                              740 non-null    int64  \n",
      " 9   Work load Average/day            740 non-null    float64\n",
      " 10  Hit target                       740 non-null    int64  \n",
      " 11  Disciplinary failure             740 non-null    int64  \n",
      " 12  Education                        740 non-null    int64  \n",
      " 13  Son                              740 non-null    int64  \n",
      " 14  Social drinker                   740 non-null    int64  \n",
      " 15  Social smoker                    740 non-null    int64  \n",
      " 16  Pet                              740 non-null    int64  \n",
      " 17  Weight                           740 non-null    int64  \n",
      " 18  Height                           740 non-null    int64  \n",
      " 19  Body mass index                  740 non-null    int64  \n",
      " 20  Absenteeism time in hours        740 non-null    int64  \n",
      "dtypes: float64(1), int64(20)\n",
      "memory usage: 121.5 KB\n"
     ]
    }
   ],
   "source": [
    "df.info()"
   ]
  },
  {
   "cell_type": "code",
   "execution_count": 4,
   "metadata": {
    "ExecuteTime": {
     "end_time": "2020-05-26T21:51:05.104735Z",
     "start_time": "2020-05-26T21:51:04.812734Z"
    }
   },
   "outputs": [
    {
     "data": {
      "text/html": [
       "<div>\n",
       "<style scoped>\n",
       "    .dataframe tbody tr th:only-of-type {\n",
       "        vertical-align: middle;\n",
       "    }\n",
       "\n",
       "    .dataframe tbody tr th {\n",
       "        vertical-align: top;\n",
       "    }\n",
       "\n",
       "    .dataframe thead th {\n",
       "        text-align: right;\n",
       "    }\n",
       "</style>\n",
       "<table border=\"1\" class=\"dataframe\">\n",
       "  <thead>\n",
       "    <tr style=\"text-align: right;\">\n",
       "      <th></th>\n",
       "      <th>count</th>\n",
       "      <th>mean</th>\n",
       "      <th>std</th>\n",
       "      <th>min</th>\n",
       "      <th>25%</th>\n",
       "      <th>50%</th>\n",
       "      <th>75%</th>\n",
       "      <th>max</th>\n",
       "    </tr>\n",
       "  </thead>\n",
       "  <tbody>\n",
       "    <tr>\n",
       "      <th>ID</th>\n",
       "      <td>740.0</td>\n",
       "      <td>18.017568</td>\n",
       "      <td>11.021247</td>\n",
       "      <td>1.000</td>\n",
       "      <td>9.000</td>\n",
       "      <td>18.000</td>\n",
       "      <td>28.000</td>\n",
       "      <td>36.000</td>\n",
       "    </tr>\n",
       "    <tr>\n",
       "      <th>Reason for absence</th>\n",
       "      <td>740.0</td>\n",
       "      <td>19.216216</td>\n",
       "      <td>8.433406</td>\n",
       "      <td>0.000</td>\n",
       "      <td>13.000</td>\n",
       "      <td>23.000</td>\n",
       "      <td>26.000</td>\n",
       "      <td>28.000</td>\n",
       "    </tr>\n",
       "    <tr>\n",
       "      <th>Month of absence</th>\n",
       "      <td>740.0</td>\n",
       "      <td>6.324324</td>\n",
       "      <td>3.436287</td>\n",
       "      <td>0.000</td>\n",
       "      <td>3.000</td>\n",
       "      <td>6.000</td>\n",
       "      <td>9.000</td>\n",
       "      <td>12.000</td>\n",
       "    </tr>\n",
       "    <tr>\n",
       "      <th>Day of the week</th>\n",
       "      <td>740.0</td>\n",
       "      <td>3.914865</td>\n",
       "      <td>1.421675</td>\n",
       "      <td>2.000</td>\n",
       "      <td>3.000</td>\n",
       "      <td>4.000</td>\n",
       "      <td>5.000</td>\n",
       "      <td>6.000</td>\n",
       "    </tr>\n",
       "    <tr>\n",
       "      <th>Seasons</th>\n",
       "      <td>740.0</td>\n",
       "      <td>2.544595</td>\n",
       "      <td>1.111831</td>\n",
       "      <td>1.000</td>\n",
       "      <td>2.000</td>\n",
       "      <td>3.000</td>\n",
       "      <td>4.000</td>\n",
       "      <td>4.000</td>\n",
       "    </tr>\n",
       "    <tr>\n",
       "      <th>Transportation expense</th>\n",
       "      <td>740.0</td>\n",
       "      <td>221.329730</td>\n",
       "      <td>66.952223</td>\n",
       "      <td>118.000</td>\n",
       "      <td>179.000</td>\n",
       "      <td>225.000</td>\n",
       "      <td>260.000</td>\n",
       "      <td>388.000</td>\n",
       "    </tr>\n",
       "    <tr>\n",
       "      <th>Distance from Residence to Work</th>\n",
       "      <td>740.0</td>\n",
       "      <td>29.631081</td>\n",
       "      <td>14.836788</td>\n",
       "      <td>5.000</td>\n",
       "      <td>16.000</td>\n",
       "      <td>26.000</td>\n",
       "      <td>50.000</td>\n",
       "      <td>52.000</td>\n",
       "    </tr>\n",
       "    <tr>\n",
       "      <th>Service time</th>\n",
       "      <td>740.0</td>\n",
       "      <td>12.554054</td>\n",
       "      <td>4.384873</td>\n",
       "      <td>1.000</td>\n",
       "      <td>9.000</td>\n",
       "      <td>13.000</td>\n",
       "      <td>16.000</td>\n",
       "      <td>29.000</td>\n",
       "    </tr>\n",
       "    <tr>\n",
       "      <th>Age</th>\n",
       "      <td>740.0</td>\n",
       "      <td>36.450000</td>\n",
       "      <td>6.478772</td>\n",
       "      <td>27.000</td>\n",
       "      <td>31.000</td>\n",
       "      <td>37.000</td>\n",
       "      <td>40.000</td>\n",
       "      <td>58.000</td>\n",
       "    </tr>\n",
       "    <tr>\n",
       "      <th>Work load Average/day</th>\n",
       "      <td>740.0</td>\n",
       "      <td>271.490235</td>\n",
       "      <td>39.058116</td>\n",
       "      <td>205.917</td>\n",
       "      <td>244.387</td>\n",
       "      <td>264.249</td>\n",
       "      <td>294.217</td>\n",
       "      <td>378.884</td>\n",
       "    </tr>\n",
       "    <tr>\n",
       "      <th>Hit target</th>\n",
       "      <td>740.0</td>\n",
       "      <td>94.587838</td>\n",
       "      <td>3.779313</td>\n",
       "      <td>81.000</td>\n",
       "      <td>93.000</td>\n",
       "      <td>95.000</td>\n",
       "      <td>97.000</td>\n",
       "      <td>100.000</td>\n",
       "    </tr>\n",
       "    <tr>\n",
       "      <th>Disciplinary failure</th>\n",
       "      <td>740.0</td>\n",
       "      <td>0.054054</td>\n",
       "      <td>0.226277</td>\n",
       "      <td>0.000</td>\n",
       "      <td>0.000</td>\n",
       "      <td>0.000</td>\n",
       "      <td>0.000</td>\n",
       "      <td>1.000</td>\n",
       "    </tr>\n",
       "    <tr>\n",
       "      <th>Education</th>\n",
       "      <td>740.0</td>\n",
       "      <td>1.291892</td>\n",
       "      <td>0.673238</td>\n",
       "      <td>1.000</td>\n",
       "      <td>1.000</td>\n",
       "      <td>1.000</td>\n",
       "      <td>1.000</td>\n",
       "      <td>4.000</td>\n",
       "    </tr>\n",
       "    <tr>\n",
       "      <th>Son</th>\n",
       "      <td>740.0</td>\n",
       "      <td>1.018919</td>\n",
       "      <td>1.098489</td>\n",
       "      <td>0.000</td>\n",
       "      <td>0.000</td>\n",
       "      <td>1.000</td>\n",
       "      <td>2.000</td>\n",
       "      <td>4.000</td>\n",
       "    </tr>\n",
       "    <tr>\n",
       "      <th>Social drinker</th>\n",
       "      <td>740.0</td>\n",
       "      <td>0.567568</td>\n",
       "      <td>0.495749</td>\n",
       "      <td>0.000</td>\n",
       "      <td>0.000</td>\n",
       "      <td>1.000</td>\n",
       "      <td>1.000</td>\n",
       "      <td>1.000</td>\n",
       "    </tr>\n",
       "    <tr>\n",
       "      <th>Social smoker</th>\n",
       "      <td>740.0</td>\n",
       "      <td>0.072973</td>\n",
       "      <td>0.260268</td>\n",
       "      <td>0.000</td>\n",
       "      <td>0.000</td>\n",
       "      <td>0.000</td>\n",
       "      <td>0.000</td>\n",
       "      <td>1.000</td>\n",
       "    </tr>\n",
       "    <tr>\n",
       "      <th>Pet</th>\n",
       "      <td>740.0</td>\n",
       "      <td>0.745946</td>\n",
       "      <td>1.318258</td>\n",
       "      <td>0.000</td>\n",
       "      <td>0.000</td>\n",
       "      <td>0.000</td>\n",
       "      <td>1.000</td>\n",
       "      <td>8.000</td>\n",
       "    </tr>\n",
       "    <tr>\n",
       "      <th>Weight</th>\n",
       "      <td>740.0</td>\n",
       "      <td>79.035135</td>\n",
       "      <td>12.883211</td>\n",
       "      <td>56.000</td>\n",
       "      <td>69.000</td>\n",
       "      <td>83.000</td>\n",
       "      <td>89.000</td>\n",
       "      <td>108.000</td>\n",
       "    </tr>\n",
       "    <tr>\n",
       "      <th>Height</th>\n",
       "      <td>740.0</td>\n",
       "      <td>172.114865</td>\n",
       "      <td>6.034995</td>\n",
       "      <td>163.000</td>\n",
       "      <td>169.000</td>\n",
       "      <td>170.000</td>\n",
       "      <td>172.000</td>\n",
       "      <td>196.000</td>\n",
       "    </tr>\n",
       "    <tr>\n",
       "      <th>Body mass index</th>\n",
       "      <td>740.0</td>\n",
       "      <td>26.677027</td>\n",
       "      <td>4.285452</td>\n",
       "      <td>19.000</td>\n",
       "      <td>24.000</td>\n",
       "      <td>25.000</td>\n",
       "      <td>31.000</td>\n",
       "      <td>38.000</td>\n",
       "    </tr>\n",
       "    <tr>\n",
       "      <th>Absenteeism time in hours</th>\n",
       "      <td>740.0</td>\n",
       "      <td>6.924324</td>\n",
       "      <td>13.330998</td>\n",
       "      <td>0.000</td>\n",
       "      <td>2.000</td>\n",
       "      <td>3.000</td>\n",
       "      <td>8.000</td>\n",
       "      <td>120.000</td>\n",
       "    </tr>\n",
       "  </tbody>\n",
       "</table>\n",
       "</div>"
      ],
      "text/plain": [
       "                                 count        mean        std      min  \\\n",
       "ID                               740.0  18.017568   11.021247  1.000     \n",
       "Reason for absence               740.0  19.216216   8.433406   0.000     \n",
       "Month of absence                 740.0  6.324324    3.436287   0.000     \n",
       "Day of the week                  740.0  3.914865    1.421675   2.000     \n",
       "Seasons                          740.0  2.544595    1.111831   1.000     \n",
       "Transportation expense           740.0  221.329730  66.952223  118.000   \n",
       "Distance from Residence to Work  740.0  29.631081   14.836788  5.000     \n",
       "Service time                     740.0  12.554054   4.384873   1.000     \n",
       "Age                              740.0  36.450000   6.478772   27.000    \n",
       "Work load Average/day            740.0  271.490235  39.058116  205.917   \n",
       "Hit target                       740.0  94.587838   3.779313   81.000    \n",
       "Disciplinary failure             740.0  0.054054    0.226277   0.000     \n",
       "Education                        740.0  1.291892    0.673238   1.000     \n",
       "Son                              740.0  1.018919    1.098489   0.000     \n",
       "Social drinker                   740.0  0.567568    0.495749   0.000     \n",
       "Social smoker                    740.0  0.072973    0.260268   0.000     \n",
       "Pet                              740.0  0.745946    1.318258   0.000     \n",
       "Weight                           740.0  79.035135   12.883211  56.000    \n",
       "Height                           740.0  172.114865  6.034995   163.000   \n",
       "Body mass index                  740.0  26.677027   4.285452   19.000    \n",
       "Absenteeism time in hours        740.0  6.924324    13.330998  0.000     \n",
       "\n",
       "                                     25%      50%      75%      max  \n",
       "ID                               9.000    18.000   28.000   36.000   \n",
       "Reason for absence               13.000   23.000   26.000   28.000   \n",
       "Month of absence                 3.000    6.000    9.000    12.000   \n",
       "Day of the week                  3.000    4.000    5.000    6.000    \n",
       "Seasons                          2.000    3.000    4.000    4.000    \n",
       "Transportation expense           179.000  225.000  260.000  388.000  \n",
       "Distance from Residence to Work  16.000   26.000   50.000   52.000   \n",
       "Service time                     9.000    13.000   16.000   29.000   \n",
       "Age                              31.000   37.000   40.000   58.000   \n",
       "Work load Average/day            244.387  264.249  294.217  378.884  \n",
       "Hit target                       93.000   95.000   97.000   100.000  \n",
       "Disciplinary failure             0.000    0.000    0.000    1.000    \n",
       "Education                        1.000    1.000    1.000    4.000    \n",
       "Son                              0.000    1.000    2.000    4.000    \n",
       "Social drinker                   0.000    1.000    1.000    1.000    \n",
       "Social smoker                    0.000    0.000    0.000    1.000    \n",
       "Pet                              0.000    0.000    1.000    8.000    \n",
       "Weight                           69.000   83.000   89.000   108.000  \n",
       "Height                           169.000  170.000  172.000  196.000  \n",
       "Body mass index                  24.000   25.000   31.000   38.000   \n",
       "Absenteeism time in hours        2.000    3.000    8.000    120.000  "
      ]
     },
     "execution_count": 4,
     "metadata": {},
     "output_type": "execute_result"
    }
   ],
   "source": [
    "df.describe().T"
   ]
  },
  {
   "cell_type": "markdown",
   "metadata": {},
   "source": [
    "## Cardinalidade\n",
    "Varificando a cardinalidade dos atributos inteiros. No dataset passado, as variáveis categóricas devem ter passado por um processo de Label Encoder e, portanto, estão como números inteiros. Abaixo, veremos a cardinalidade de cada atributo e analisaremos para ver como tratar cada caso."
   ]
  },
  {
   "cell_type": "code",
   "execution_count": 5,
   "metadata": {
    "ExecuteTime": {
     "end_time": "2020-05-26T21:51:05.212731Z",
     "start_time": "2020-05-26T21:51:05.109733Z"
    }
   },
   "outputs": [
    {
     "data": {
      "text/html": [
       "<div>\n",
       "<style scoped>\n",
       "    .dataframe tbody tr th:only-of-type {\n",
       "        vertical-align: middle;\n",
       "    }\n",
       "\n",
       "    .dataframe tbody tr th {\n",
       "        vertical-align: top;\n",
       "    }\n",
       "\n",
       "    .dataframe thead th {\n",
       "        text-align: right;\n",
       "    }\n",
       "</style>\n",
       "<table border=\"1\" class=\"dataframe\">\n",
       "  <thead>\n",
       "    <tr style=\"text-align: right;\">\n",
       "      <th></th>\n",
       "      <th>Atributo</th>\n",
       "      <th>Cardinalidade</th>\n",
       "      <th>Valores</th>\n",
       "    </tr>\n",
       "  </thead>\n",
       "  <tbody>\n",
       "    <tr>\n",
       "      <th>14</th>\n",
       "      <td>Social smoker</td>\n",
       "      <td>2</td>\n",
       "      <td>[0, 1]</td>\n",
       "    </tr>\n",
       "    <tr>\n",
       "      <th>13</th>\n",
       "      <td>Social drinker</td>\n",
       "      <td>2</td>\n",
       "      <td>[1, 0]</td>\n",
       "    </tr>\n",
       "    <tr>\n",
       "      <th>10</th>\n",
       "      <td>Disciplinary failure</td>\n",
       "      <td>2</td>\n",
       "      <td>[0, 1]</td>\n",
       "    </tr>\n",
       "    <tr>\n",
       "      <th>4</th>\n",
       "      <td>Seasons</td>\n",
       "      <td>4</td>\n",
       "      <td>[1, 4, 2, 3]</td>\n",
       "    </tr>\n",
       "    <tr>\n",
       "      <th>11</th>\n",
       "      <td>Education</td>\n",
       "      <td>4</td>\n",
       "      <td>[1, 3, 2, 4]</td>\n",
       "    </tr>\n",
       "    <tr>\n",
       "      <th>3</th>\n",
       "      <td>Day of the week</td>\n",
       "      <td>5</td>\n",
       "      <td>[3, 4, 5, 6, 2]</td>\n",
       "    </tr>\n",
       "    <tr>\n",
       "      <th>12</th>\n",
       "      <td>Son</td>\n",
       "      <td>5</td>\n",
       "      <td>[2, 1, 0, 4, 3]</td>\n",
       "    </tr>\n",
       "    <tr>\n",
       "      <th>15</th>\n",
       "      <td>Pet</td>\n",
       "      <td>6</td>\n",
       "      <td>[1, 0, 4, 2, 5, 8]</td>\n",
       "    </tr>\n",
       "    <tr>\n",
       "      <th>9</th>\n",
       "      <td>Hit target</td>\n",
       "      <td>13</td>\n",
       "      <td>[97, 92, 93, 95, 99, 96, 94, 98, 81, 88, 100, 87, 91]</td>\n",
       "    </tr>\n",
       "    <tr>\n",
       "      <th>2</th>\n",
       "      <td>Month of absence</td>\n",
       "      <td>13</td>\n",
       "      <td>[7, 8, 9, 10, 11, 12, 1, 2, 3, 4, 5, 6, 0]</td>\n",
       "    </tr>\n",
       "    <tr>\n",
       "      <th>17</th>\n",
       "      <td>Height</td>\n",
       "      <td>14</td>\n",
       "      <td>[172, 178, 170, 168, 196, 167, 165, 182, 185, 163, 169, 171, 174, 175]</td>\n",
       "    </tr>\n",
       "    <tr>\n",
       "      <th>18</th>\n",
       "      <td>Body mass index</td>\n",
       "      <td>17</td>\n",
       "      <td>[30, 31, 24, 27, 23, 25, 29, 32, 22, 33, 21, 28, 38, 19, 36, 35, 34]</td>\n",
       "    </tr>\n",
       "    <tr>\n",
       "      <th>7</th>\n",
       "      <td>Service time</td>\n",
       "      <td>18</td>\n",
       "      <td>[13, 18, 14, 3, 11, 16, 4, 6, 12, 7, 10, 9, 17, 29, 8, 1, 15, 24]</td>\n",
       "    </tr>\n",
       "    <tr>\n",
       "      <th>19</th>\n",
       "      <td>Absenteeism time in hours</td>\n",
       "      <td>19</td>\n",
       "      <td>[4, 0, 2, 8, 40, 1, 7, 3, 32, 5, 16, 24, 64, 56, 80, 120, 112, 104, 48]</td>\n",
       "    </tr>\n",
       "    <tr>\n",
       "      <th>8</th>\n",
       "      <td>Age</td>\n",
       "      <td>22</td>\n",
       "      <td>[33, 50, 38, 39, 28, 36, 34, 37, 41, 47, 29, 48, 32, 27, 43, 40, 31, 30, 49, 58, 46, 53]</td>\n",
       "    </tr>\n",
       "    <tr>\n",
       "      <th>5</th>\n",
       "      <td>Transportation expense</td>\n",
       "      <td>24</td>\n",
       "      <td>[289, 118, 179, 279, 361, 260, 155, 235, 246, 189, 248, 330, 157, 291, 184, 225, 369, 388, 378, 228, 300, 268, 231, 233]</td>\n",
       "    </tr>\n",
       "    <tr>\n",
       "      <th>6</th>\n",
       "      <td>Distance from Residence to Work</td>\n",
       "      <td>25</td>\n",
       "      <td>[36, 13, 51, 5, 52, 50, 12, 11, 25, 29, 16, 27, 42, 10, 20, 31, 26, 17, 22, 15, 49, 48, 14, 35, 45]</td>\n",
       "    </tr>\n",
       "    <tr>\n",
       "      <th>16</th>\n",
       "      <td>Weight</td>\n",
       "      <td>26</td>\n",
       "      <td>[90, 98, 89, 68, 80, 65, 95, 88, 67, 69, 86, 84, 75, 58, 83, 106, 73, 70, 56, 63, 76, 108, 77, 79, 100, 94]</td>\n",
       "    </tr>\n",
       "    <tr>\n",
       "      <th>1</th>\n",
       "      <td>Reason for absence</td>\n",
       "      <td>28</td>\n",
       "      <td>[26, 0, 23, 7, 22, 19, 1, 11, 14, 21, 10, 13, 28, 18, 25, 24, 6, 27, 17, 8, 12, 5, 9, 15, 4, 3, 2, 16]</td>\n",
       "    </tr>\n",
       "    <tr>\n",
       "      <th>0</th>\n",
       "      <td>ID</td>\n",
       "      <td>36</td>\n",
       "      <td>[11, 36, 3, 7, 10, 20, 14, 1, 24, 6, 33, 18, 30, 2, 19, 27, 34, 5, 15, 29, 28, 13, 22, 17, 31, 23, 32, 9, 26, 21, 8, 25, 12, 16, 4, 35]</td>\n",
       "    </tr>\n",
       "  </tbody>\n",
       "</table>\n",
       "</div>"
      ],
      "text/plain": [
       "                           Atributo  Cardinalidade  \\\n",
       "14  Social smoker                    2               \n",
       "13  Social drinker                   2               \n",
       "10  Disciplinary failure             2               \n",
       "4   Seasons                          4               \n",
       "11  Education                        4               \n",
       "3   Day of the week                  5               \n",
       "12  Son                              5               \n",
       "15  Pet                              6               \n",
       "9   Hit target                       13              \n",
       "2   Month of absence                 13              \n",
       "17  Height                           14              \n",
       "18  Body mass index                  17              \n",
       "7   Service time                     18              \n",
       "19  Absenteeism time in hours        19              \n",
       "8   Age                              22              \n",
       "5   Transportation expense           24              \n",
       "6   Distance from Residence to Work  25              \n",
       "16  Weight                           26              \n",
       "1   Reason for absence               28              \n",
       "0   ID                               36              \n",
       "\n",
       "                                                                                                                                    Valores  \n",
       "14  [0, 1]                                                                                                                                   \n",
       "13  [1, 0]                                                                                                                                   \n",
       "10  [0, 1]                                                                                                                                   \n",
       "4   [1, 4, 2, 3]                                                                                                                             \n",
       "11  [1, 3, 2, 4]                                                                                                                             \n",
       "3   [3, 4, 5, 6, 2]                                                                                                                          \n",
       "12  [2, 1, 0, 4, 3]                                                                                                                          \n",
       "15  [1, 0, 4, 2, 5, 8]                                                                                                                       \n",
       "9   [97, 92, 93, 95, 99, 96, 94, 98, 81, 88, 100, 87, 91]                                                                                    \n",
       "2   [7, 8, 9, 10, 11, 12, 1, 2, 3, 4, 5, 6, 0]                                                                                               \n",
       "17  [172, 178, 170, 168, 196, 167, 165, 182, 185, 163, 169, 171, 174, 175]                                                                   \n",
       "18  [30, 31, 24, 27, 23, 25, 29, 32, 22, 33, 21, 28, 38, 19, 36, 35, 34]                                                                     \n",
       "7   [13, 18, 14, 3, 11, 16, 4, 6, 12, 7, 10, 9, 17, 29, 8, 1, 15, 24]                                                                        \n",
       "19  [4, 0, 2, 8, 40, 1, 7, 3, 32, 5, 16, 24, 64, 56, 80, 120, 112, 104, 48]                                                                  \n",
       "8   [33, 50, 38, 39, 28, 36, 34, 37, 41, 47, 29, 48, 32, 27, 43, 40, 31, 30, 49, 58, 46, 53]                                                 \n",
       "5   [289, 118, 179, 279, 361, 260, 155, 235, 246, 189, 248, 330, 157, 291, 184, 225, 369, 388, 378, 228, 300, 268, 231, 233]                 \n",
       "6   [36, 13, 51, 5, 52, 50, 12, 11, 25, 29, 16, 27, 42, 10, 20, 31, 26, 17, 22, 15, 49, 48, 14, 35, 45]                                      \n",
       "16  [90, 98, 89, 68, 80, 65, 95, 88, 67, 69, 86, 84, 75, 58, 83, 106, 73, 70, 56, 63, 76, 108, 77, 79, 100, 94]                              \n",
       "1   [26, 0, 23, 7, 22, 19, 1, 11, 14, 21, 10, 13, 28, 18, 25, 24, 6, 27, 17, 8, 12, 5, 9, 15, 4, 3, 2, 16]                                   \n",
       "0   [11, 36, 3, 7, 10, 20, 14, 1, 24, 6, 33, 18, 30, 2, 19, 27, 34, 5, 15, 29, 28, 13, 22, 17, 31, 23, 32, 9, 26, 21, 8, 25, 12, 16, 4, 35]  "
      ]
     },
     "execution_count": 5,
     "metadata": {},
     "output_type": "execute_result"
    }
   ],
   "source": [
    "df = df.select_dtypes(exclude=[\"float64\"])\n",
    "\n",
    "matriz_cardialidade = []\n",
    "\n",
    "for i, coluna in df.items():\n",
    "    matriz_cardialidade.append([i, len(df[i].unique()), df[i].unique()])\n",
    "            \n",
    "matriz_cardialidade = pd.DataFrame(matriz_cardialidade, columns=[\"Atributo\", \"Cardinalidade\", \"Valores\"])\n",
    "matriz_cardialidade.sort_values(by=\"Cardinalidade\", inplace=True, ascending=True)\n",
    "    \n",
    "matriz_cardialidade"
   ]
  },
  {
   "cell_type": "markdown",
   "metadata": {},
   "source": [
    "## Análise preliminar da base e ações:\n",
    "1. **Existência de campo de identificação:** Remover campos que identifiquem a pessoa, pois queremos um modelo capaz de generalizar.\n",
    "2. **Incongruências no fator/atribuo/variável independente \"Month of absence\":** Existem 3 registros \"0\", o que não é possível."
   ]
  },
  {
   "cell_type": "markdown",
   "metadata": {},
   "source": [
    "### Arrumando base:\n",
    "1. **Existência de campo de identificação:** Remover campos que identifiquem a pessoa, pois queremos um modelo capaz de generalizar."
   ]
  },
  {
   "cell_type": "code",
   "execution_count": 6,
   "metadata": {
    "ExecuteTime": {
     "end_time": "2020-05-26T21:51:05.243734Z",
     "start_time": "2020-05-26T21:51:05.216738Z"
    }
   },
   "outputs": [],
   "source": [
    "df_temporario = df.drop([\"ID\"], axis=1).copy()"
   ]
  },
  {
   "cell_type": "markdown",
   "metadata": {},
   "source": [
    "2. **Incongruências no fator/atribuo/variável independente \"Month of absence\":** Existem 3 registros \"0\", o que não é possível."
   ]
  },
  {
   "cell_type": "code",
   "execution_count": 7,
   "metadata": {
    "ExecuteTime": {
     "end_time": "2020-05-26T21:51:05.305732Z",
     "start_time": "2020-05-26T21:51:05.247731Z"
    }
   },
   "outputs": [
    {
     "name": "stdout",
     "output_type": "stream",
     "text": [
      "Estação: 1\n",
      "7    67\n",
      "8    54\n",
      "9    32\n",
      "6    16\n",
      "0    1 \n",
      "Name: Month of absence, dtype: int64\n",
      "--------------------------------------------------\n",
      "Estação: 2\n",
      "2     72\n",
      "3     60\n",
      "1     50\n",
      "12    9 \n",
      "0     1 \n",
      "Name: Month of absence, dtype: int64\n",
      "--------------------------------------------------\n",
      "Estação: 3\n",
      "5    64\n",
      "4    53\n",
      "6    38\n",
      "3    27\n",
      "0    1 \n",
      "Name: Month of absence, dtype: int64\n",
      "--------------------------------------------------\n"
     ]
    }
   ],
   "source": [
    "seasons_list = sorted(df_temporario[\"Seasons\"].unique())\n",
    "\n",
    "for season in seasons_list:\n",
    "    if 0 in (df_temporario[df_temporario[\"Seasons\"] == season][\"Month of absence\"].unique()):\n",
    "        print(f\"\"\"Estação: {season}\"\"\")\n",
    "        print(f\"\"\"{df_temporario[df_temporario[\"Seasons\"] == season][\"Month of absence\"].value_counts()}\"\"\")\n",
    "        print(\"-\"*50)"
   ]
  },
  {
   "cell_type": "markdown",
   "metadata": {},
   "source": [
    "Como tratam-se de poucos registros, vou substituir o 0 de cada \"Month of absence\" pela categoria de maior frequência dentro de cada estação."
   ]
  },
  {
   "cell_type": "code",
   "execution_count": 8,
   "metadata": {
    "ExecuteTime": {
     "end_time": "2020-05-26T21:51:05.350733Z",
     "start_time": "2020-05-26T21:51:05.314733Z"
    }
   },
   "outputs": [],
   "source": [
    "df_temporario.loc[(df_temporario[\"Seasons\"] == 1) & (df_temporario[\"Month of absence\"] == 0), [\"Month of absence\"]] = 7\n",
    "df_temporario.loc[(df_temporario[\"Seasons\"] == 2) & (df_temporario[\"Month of absence\"] == 0), [\"Month of absence\"]] = 2\n",
    "df_temporario.loc[(df_temporario[\"Seasons\"] == 3) & (df_temporario[\"Month of absence\"] == 0), [\"Month of absence\"]] = 5"
   ]
  },
  {
   "cell_type": "markdown",
   "metadata": {},
   "source": [
    "# Criação de novo target\n",
    "No problema original, a variável resposta/variável dependente/target é \"Absenteeism time in hours\". Porém, para facilitar a minha vida criei uma regra e, consequentemente, um novo target \"Absenteeism\". Esse novo target assumi valor 0 (<=2h) ou 1(>2h)."
   ]
  },
  {
   "cell_type": "code",
   "execution_count": 9,
   "metadata": {
    "ExecuteTime": {
     "end_time": "2020-05-26T21:51:05.381730Z",
     "start_time": "2020-05-26T21:51:05.357733Z"
    }
   },
   "outputs": [],
   "source": [
    "df_temporario[\"Absenteeism\"] = np.where(df_temporario[\"Absenteeism time in hours\"] <= 2, 0, 1)\n",
    "\n",
    "df_temporario.drop(\"Absenteeism time in hours\", axis=1, inplace=True)"
   ]
  },
  {
   "cell_type": "code",
   "execution_count": 10,
   "metadata": {
    "ExecuteTime": {
     "end_time": "2020-05-26T21:51:05.445266Z",
     "start_time": "2020-05-26T21:51:05.385735Z"
    }
   },
   "outputs": [
    {
     "data": {
      "text/html": [
       "<div>\n",
       "<style scoped>\n",
       "    .dataframe tbody tr th:only-of-type {\n",
       "        vertical-align: middle;\n",
       "    }\n",
       "\n",
       "    .dataframe tbody tr th {\n",
       "        vertical-align: top;\n",
       "    }\n",
       "\n",
       "    .dataframe thead th {\n",
       "        text-align: right;\n",
       "    }\n",
       "</style>\n",
       "<table border=\"1\" class=\"dataframe\">\n",
       "  <thead>\n",
       "    <tr style=\"text-align: right;\">\n",
       "      <th></th>\n",
       "      <th>Reason for absence</th>\n",
       "      <th>Month of absence</th>\n",
       "      <th>Day of the week</th>\n",
       "      <th>Seasons</th>\n",
       "      <th>Transportation expense</th>\n",
       "      <th>Distance from Residence to Work</th>\n",
       "      <th>Service time</th>\n",
       "      <th>Age</th>\n",
       "      <th>Hit target</th>\n",
       "      <th>Disciplinary failure</th>\n",
       "      <th>Education</th>\n",
       "      <th>Son</th>\n",
       "      <th>Social drinker</th>\n",
       "      <th>Social smoker</th>\n",
       "      <th>Pet</th>\n",
       "      <th>Weight</th>\n",
       "      <th>Height</th>\n",
       "      <th>Body mass index</th>\n",
       "      <th>Absenteeism</th>\n",
       "    </tr>\n",
       "  </thead>\n",
       "  <tbody>\n",
       "    <tr>\n",
       "      <th>0</th>\n",
       "      <td>26</td>\n",
       "      <td>7</td>\n",
       "      <td>3</td>\n",
       "      <td>1</td>\n",
       "      <td>289</td>\n",
       "      <td>36</td>\n",
       "      <td>13</td>\n",
       "      <td>33</td>\n",
       "      <td>97</td>\n",
       "      <td>0</td>\n",
       "      <td>1</td>\n",
       "      <td>2</td>\n",
       "      <td>1</td>\n",
       "      <td>0</td>\n",
       "      <td>1</td>\n",
       "      <td>90</td>\n",
       "      <td>172</td>\n",
       "      <td>30</td>\n",
       "      <td>1</td>\n",
       "    </tr>\n",
       "    <tr>\n",
       "      <th>1</th>\n",
       "      <td>0</td>\n",
       "      <td>7</td>\n",
       "      <td>3</td>\n",
       "      <td>1</td>\n",
       "      <td>118</td>\n",
       "      <td>13</td>\n",
       "      <td>18</td>\n",
       "      <td>50</td>\n",
       "      <td>97</td>\n",
       "      <td>1</td>\n",
       "      <td>1</td>\n",
       "      <td>1</td>\n",
       "      <td>1</td>\n",
       "      <td>0</td>\n",
       "      <td>0</td>\n",
       "      <td>98</td>\n",
       "      <td>178</td>\n",
       "      <td>31</td>\n",
       "      <td>0</td>\n",
       "    </tr>\n",
       "    <tr>\n",
       "      <th>2</th>\n",
       "      <td>23</td>\n",
       "      <td>7</td>\n",
       "      <td>4</td>\n",
       "      <td>1</td>\n",
       "      <td>179</td>\n",
       "      <td>51</td>\n",
       "      <td>18</td>\n",
       "      <td>38</td>\n",
       "      <td>97</td>\n",
       "      <td>0</td>\n",
       "      <td>1</td>\n",
       "      <td>0</td>\n",
       "      <td>1</td>\n",
       "      <td>0</td>\n",
       "      <td>0</td>\n",
       "      <td>89</td>\n",
       "      <td>170</td>\n",
       "      <td>31</td>\n",
       "      <td>0</td>\n",
       "    </tr>\n",
       "    <tr>\n",
       "      <th>3</th>\n",
       "      <td>7</td>\n",
       "      <td>7</td>\n",
       "      <td>5</td>\n",
       "      <td>1</td>\n",
       "      <td>279</td>\n",
       "      <td>5</td>\n",
       "      <td>14</td>\n",
       "      <td>39</td>\n",
       "      <td>97</td>\n",
       "      <td>0</td>\n",
       "      <td>1</td>\n",
       "      <td>2</td>\n",
       "      <td>1</td>\n",
       "      <td>1</td>\n",
       "      <td>0</td>\n",
       "      <td>68</td>\n",
       "      <td>168</td>\n",
       "      <td>24</td>\n",
       "      <td>1</td>\n",
       "    </tr>\n",
       "    <tr>\n",
       "      <th>4</th>\n",
       "      <td>23</td>\n",
       "      <td>7</td>\n",
       "      <td>5</td>\n",
       "      <td>1</td>\n",
       "      <td>289</td>\n",
       "      <td>36</td>\n",
       "      <td>13</td>\n",
       "      <td>33</td>\n",
       "      <td>97</td>\n",
       "      <td>0</td>\n",
       "      <td>1</td>\n",
       "      <td>2</td>\n",
       "      <td>1</td>\n",
       "      <td>0</td>\n",
       "      <td>1</td>\n",
       "      <td>90</td>\n",
       "      <td>172</td>\n",
       "      <td>30</td>\n",
       "      <td>0</td>\n",
       "    </tr>\n",
       "  </tbody>\n",
       "</table>\n",
       "</div>"
      ],
      "text/plain": [
       "   Reason for absence  Month of absence  Day of the week  Seasons  \\\n",
       "0  26                  7                 3                1         \n",
       "1  0                   7                 3                1         \n",
       "2  23                  7                 4                1         \n",
       "3  7                   7                 5                1         \n",
       "4  23                  7                 5                1         \n",
       "\n",
       "   Transportation expense  Distance from Residence to Work  Service time  Age  \\\n",
       "0  289                     36                               13            33    \n",
       "1  118                     13                               18            50    \n",
       "2  179                     51                               18            38    \n",
       "3  279                     5                                14            39    \n",
       "4  289                     36                               13            33    \n",
       "\n",
       "   Hit target  Disciplinary failure  Education  Son  Social drinker  \\\n",
       "0  97          0                     1          2    1                \n",
       "1  97          1                     1          1    1                \n",
       "2  97          0                     1          0    1                \n",
       "3  97          0                     1          2    1                \n",
       "4  97          0                     1          2    1                \n",
       "\n",
       "   Social smoker  Pet  Weight  Height  Body mass index  Absenteeism  \n",
       "0  0              1    90      172     30               1            \n",
       "1  0              0    98      178     31               0            \n",
       "2  0              0    89      170     31               0            \n",
       "3  1              0    68      168     24               1            \n",
       "4  0              1    90      172     30               0            "
      ]
     },
     "execution_count": 10,
     "metadata": {},
     "output_type": "execute_result"
    }
   ],
   "source": [
    "df_temporario.head()"
   ]
  },
  {
   "cell_type": "code",
   "execution_count": 11,
   "metadata": {
    "ExecuteTime": {
     "end_time": "2020-05-26T21:51:05.463266Z",
     "start_time": "2020-05-26T21:51:05.449267Z"
    }
   },
   "outputs": [],
   "source": [
    "# sns.pairplot(df_para_grafico, kind=\"scatter\", hue=\"Absenteeism\", plot_kws=dict(s=80, edgecolor=\"white\", linewidth=1.0))\n",
    "# plt.show()"
   ]
  },
  {
   "cell_type": "markdown",
   "metadata": {},
   "source": [
    "# Feature selection:\n",
    "Vou usar três técnicas para verificar o impacto dos atributos categóricos sobre a resposta:\n",
    "1. Fischer score;\n",
    "2. ROC-AUC para uma variável; e\n",
    "3. Boruta."
   ]
  },
  {
   "cell_type": "markdown",
   "metadata": {},
   "source": [
    "Dividindo o dataset em treino e teste:"
   ]
  },
  {
   "cell_type": "code",
   "execution_count": 12,
   "metadata": {
    "ExecuteTime": {
     "end_time": "2020-05-26T21:51:05.507268Z",
     "start_time": "2020-05-26T21:51:05.469273Z"
    }
   },
   "outputs": [],
   "source": [
    "x = df_temporario.drop(\"Absenteeism\", axis=1)\n",
    "y = df_temporario.Absenteeism\n",
    "\n",
    "x_train, x_test, y_train, y_test = train_test_split(x, y, test_size=0.3, random_state=0)"
   ]
  },
  {
   "cell_type": "markdown",
   "metadata": {},
   "source": [
    "## 1. Fischer score"
   ]
  },
  {
   "cell_type": "code",
   "execution_count": 13,
   "metadata": {
    "ExecuteTime": {
     "end_time": "2020-05-26T21:51:05.616272Z",
     "start_time": "2020-05-26T21:51:05.513268Z"
    }
   },
   "outputs": [],
   "source": [
    "from sklearn.feature_selection import chi2\n",
    "from sklearn.feature_selection import (SelectKBest\n",
    "                                       , SelectPercentile)"
   ]
  },
  {
   "cell_type": "code",
   "execution_count": 14,
   "metadata": {
    "ExecuteTime": {
     "end_time": "2020-05-26T21:51:05.710264Z",
     "start_time": "2020-05-26T21:51:05.622268Z"
    }
   },
   "outputs": [
    {
     "data": {
      "text/plain": [
       "Transportation expense             5.121747e-25\n",
       "Disciplinary failure               1.731971e-11\n",
       "Distance from Residence to Work    2.085177e-10\n",
       "Son                                6.263999e-05\n",
       "Reason for absence                 5.724123e-03\n",
       "Social drinker                     3.894660e-02\n",
       "Age                                1.394800e-01\n",
       "Month of absence                   3.620260e-01\n",
       "Weight                             4.292626e-01\n",
       "Body mass index                    4.410856e-01\n",
       "Service time                       5.114369e-01\n",
       "Day of the week                    5.865844e-01\n",
       "Seasons                            6.450742e-01\n",
       "Height                             7.401364e-01\n",
       "Social smoker                      8.171915e-01\n",
       "Education                          8.176810e-01\n",
       "Hit target                         9.321219e-01\n",
       "Pet                                9.800613e-01\n",
       "dtype: float64"
      ]
     },
     "execution_count": 14,
     "metadata": {},
     "output_type": "execute_result"
    }
   ],
   "source": [
    "f_score = chi2(x_train.fillna(0), y_train)\n",
    "\n",
    "pvalues = pd.Series(f_score[1])\n",
    "pvalues.index = x_train.columns\n",
    "pvalues.sort_values(ascending=True)"
   ]
  },
  {
   "cell_type": "code",
   "execution_count": 15,
   "metadata": {
    "ExecuteTime": {
     "end_time": "2020-05-26T21:51:05.725266Z",
     "start_time": "2020-05-26T21:51:05.714268Z"
    }
   },
   "outputs": [],
   "source": [
    "atributos_fisher = list(pvalues[pvalues<1e-02].index)"
   ]
  },
  {
   "cell_type": "markdown",
   "metadata": {},
   "source": [
    "**Conclusão do uso do Fisher score:** A lista acima indica, de cima para baixo, os fatores com maior importância para a resposta. Eu escolherei trabalhar com as 4 primeiras. "
   ]
  },
  {
   "cell_type": "markdown",
   "metadata": {},
   "source": [
    "## 2. ROC-AUC para uma variável"
   ]
  },
  {
   "cell_type": "code",
   "execution_count": 16,
   "metadata": {
    "ExecuteTime": {
     "end_time": "2020-05-26T21:51:05.865265Z",
     "start_time": "2020-05-26T21:51:05.729267Z"
    }
   },
   "outputs": [],
   "source": [
    "from sklearn.tree import (DecisionTreeClassifier\n",
    "                          , DecisionTreeRegressor)\n",
    "from sklearn.metrics import (roc_auc_score\n",
    "                             , mean_squared_error)"
   ]
  },
  {
   "cell_type": "code",
   "execution_count": 17,
   "metadata": {
    "ExecuteTime": {
     "end_time": "2020-05-26T21:51:06.083269Z",
     "start_time": "2020-05-26T21:51:05.869268Z"
    }
   },
   "outputs": [
    {
     "data": {
      "text/plain": [
       "Reason for absence                 0.822582\n",
       "Distance from Residence to Work    0.667813\n",
       "Transportation expense             0.662738\n",
       "Height                             0.656698\n",
       "Weight                             0.644115\n",
       "Body mass index                    0.642438\n",
       "Age                                0.628597\n",
       "Service time                       0.618782\n",
       "Month of absence                   0.602802\n",
       "Son                                0.591058\n",
       "Disciplinary failure               0.565934\n",
       "Seasons                            0.561824\n",
       "Pet                                0.561027\n",
       "Social drinker                     0.540391\n",
       "Education                          0.520174\n",
       "Hit target                         0.506669\n",
       "Social smoker                      0.502433\n",
       "Day of the week                    0.495051\n",
       "dtype: float64"
      ]
     },
     "execution_count": 17,
     "metadata": {},
     "output_type": "execute_result"
    }
   ],
   "source": [
    "roc_values = []\n",
    "for atributo in x_train.columns:\n",
    "    clf = DecisionTreeClassifier()\n",
    "    clf.fit(x_train[atributo].fillna(0).to_frame(), y_train)\n",
    "    y_scored = clf.predict_proba(x_test[atributo].fillna(0).to_frame())\n",
    "    roc_values.append(roc_auc_score(y_test, y_scored[:, 1]))\n",
    "    \n",
    "roc_values = pd.Series(roc_values)\n",
    "roc_values.index = x_train.columns\n",
    "roc_values.sort_values(ascending=False)"
   ]
  },
  {
   "cell_type": "code",
   "execution_count": 18,
   "metadata": {
    "ExecuteTime": {
     "end_time": "2020-05-26T21:51:07.071268Z",
     "start_time": "2020-05-26T21:51:06.087270Z"
    }
   },
   "outputs": [
    {
     "data": {
      "image/png": "[encoded data removed]",
      "text/plain": [
       "<Figure size 720x288 with 1 Axes>"
      ]
     },
     "metadata": {
      "needs_background": "light"
     },
     "output_type": "display_data"
    }
   ],
   "source": [
    "roc_values.sort_values(ascending=False).plot.bar(figsize=(10, 4));"
   ]
  },
  {
   "cell_type": "code",
   "execution_count": 19,
   "metadata": {
    "ExecuteTime": {
     "end_time": "2020-05-26T21:51:07.995800Z",
     "start_time": "2020-05-26T21:51:07.075268Z"
    }
   },
   "outputs": [
    {
     "data": {
      "image/png": "[encoded data removed]",
      "text/plain": [
       "<Figure size 720x288 with 1 Axes>"
      ]
     },
     "metadata": {
      "needs_background": "light"
     },
     "output_type": "display_data"
    }
   ],
   "source": [
    "roc_values[roc_values > 0.5].sort_values(ascending=False).plot.bar(figsize=(10, 4));"
   ]
  },
  {
   "cell_type": "code",
   "execution_count": 20,
   "metadata": {
    "ExecuteTime": {
     "end_time": "2020-05-26T21:51:08.011797Z",
     "start_time": "2020-05-26T21:51:08.003798Z"
    }
   },
   "outputs": [],
   "source": [
    "atributos_roc_auc = list(roc_values[roc_values > 0.5].index)"
   ]
  },
  {
   "cell_type": "markdown",
   "metadata": {},
   "source": [
    "**Conclusão do uso do ROC-AUC para cada variável:** A lista acima indica, de cima para baixo, os fatores com maior importância para a resposta. Ao pé da letra, todos os atributos com ROC-AUC acima de 0,50 podem impactar na resposta., ou seja, apenas um atributo foi excluído."
   ]
  },
  {
   "cell_type": "markdown",
   "metadata": {},
   "source": [
    "## 3. Boruta\n",
    "Nunca usei o Boruta. Essa técnica surgiu em uma conversa no trabalho e eu usei o seguinte post para testar essa técnica: http://danielhomola.com/2015/05/08/borutapy-an-all-relevant-feature-selection-method/"
   ]
  },
  {
   "cell_type": "code",
   "execution_count": 21,
   "metadata": {
    "ExecuteTime": {
     "end_time": "2020-05-26T21:51:08.057799Z",
     "start_time": "2020-05-26T21:51:08.020797Z"
    }
   },
   "outputs": [],
   "source": [
    "# !pip install boruta"
   ]
  },
  {
   "cell_type": "code",
   "execution_count": 22,
   "metadata": {
    "ExecuteTime": {
     "end_time": "2020-05-26T21:51:08.820798Z",
     "start_time": "2020-05-26T21:51:08.062797Z"
    }
   },
   "outputs": [
    {
     "ename": "ModuleNotFoundError",
     "evalue": "No module named 'boruta'",
     "output_type": "error",
     "traceback": [
      "\u001b[1;31m---------------------------------------------------------------------------\u001b[0m",
      "\u001b[1;31mModuleNotFoundError\u001b[0m                       Traceback (most recent call last)",
      "\u001b[1;32m<ipython-input-22-c2caa2e24bbb>\u001b[0m in \u001b[0;36m<module>\u001b[1;34m\u001b[0m\n\u001b[0;32m      1\u001b[0m \u001b[1;32mfrom\u001b[0m \u001b[0msklearn\u001b[0m\u001b[1;33m.\u001b[0m\u001b[0mensemble\u001b[0m \u001b[1;32mimport\u001b[0m \u001b[0mRandomForestClassifier\u001b[0m\u001b[1;33m\u001b[0m\u001b[1;33m\u001b[0m\u001b[0m\n\u001b[1;32m----> 2\u001b[1;33m \u001b[1;32mfrom\u001b[0m \u001b[0mboruta\u001b[0m \u001b[1;32mimport\u001b[0m \u001b[0mboruta_py\u001b[0m \u001b[1;32mas\u001b[0m \u001b[0mboruta\u001b[0m\u001b[1;33m\u001b[0m\u001b[1;33m\u001b[0m\u001b[0m\n\u001b[0m",
      "\u001b[1;31mModuleNotFoundError\u001b[0m: No module named 'boruta'"
     ]
    }
   ],
   "source": [
    "from sklearn.ensemble import RandomForestClassifier\n",
    "from boruta import boruta_py as boruta"
   ]
  },
  {
   "cell_type": "code",
   "execution_count": null,
   "metadata": {
    "ExecuteTime": {
     "end_time": "2020-05-26T21:51:08.827798Z",
     "start_time": "2020-05-26T21:50:48.820Z"
    }
   },
   "outputs": [],
   "source": [
    "x_train.shape, y_train.shape"
   ]
  },
  {
   "cell_type": "code",
   "execution_count": null,
   "metadata": {
    "ExecuteTime": {
     "end_time": "2020-05-26T21:51:08.830800Z",
     "start_time": "2020-05-26T21:50:48.829Z"
    }
   },
   "outputs": [],
   "source": [
    "classificador = RandomForestClassifier(n_estimators=20\n",
    "                                       , criterion=\"entropy\"\n",
    "                                       , max_depth=(len(x_train.columns)**.5)\n",
    "                                       , random_state=0)\n",
    "\n",
    "seletor_atributos = boruta.BorutaPy(classificador, n_estimators=\"auto\", verbose=0)\n",
    "seletor_atributos.fit(x_train.values, y_train)"
   ]
  },
  {
   "cell_type": "code",
   "execution_count": null,
   "metadata": {
    "ExecuteTime": {
     "end_time": "2020-05-26T21:51:08.833798Z",
     "start_time": "2020-05-26T21:50:48.837Z"
    }
   },
   "outputs": [],
   "source": [
    "atributos_boruta = list(x_train.iloc[:, seletor_atributos.support_].columns)"
   ]
  },
  {
   "cell_type": "code",
   "execution_count": null,
   "metadata": {
    "ExecuteTime": {
     "end_time": "2020-05-26T21:51:08.836798Z",
     "start_time": "2020-05-26T21:50:48.845Z"
    }
   },
   "outputs": [],
   "source": [
    "x_train_filtrado = seletor_atributos.transform(x_train.values)\n",
    "x_train_filtrado = pd.DataFrame(x_train_filtrado, columns=x_train.iloc[:, seletor_atributos.support_].columns)\n",
    "x_train_filtrado.head().T"
   ]
  },
  {
   "cell_type": "code",
   "execution_count": null,
   "metadata": {
    "ExecuteTime": {
     "end_time": "2020-05-26T21:51:08.839796Z",
     "start_time": "2020-05-26T21:50:48.851Z"
    }
   },
   "outputs": [],
   "source": [
    "x_test_filtrado = seletor_atributos.transform(x_test.values)\n",
    "x_test_filtrado = pd.DataFrame(x_test_filtrado, columns=x_train.iloc[:, seletor_atributos.support_].columns)\n",
    "x_test_filtrado.head().T"
   ]
  },
  {
   "cell_type": "markdown",
   "metadata": {},
   "source": [
    "**Conclusão do uso do Boruta:** Já com o Boruta, reduzimos nossos fatores de 18 para 5. Ao longo do resto deste notebook, usarei os fatores selecionados pelo Boruta e, depois, compararemos um dos modelos com todos os conjuntos de atributos que achamso com os três métodos de seleção (Ficher score, ROC-AUC para uma variáve e Boruta)."
   ]
  },
  {
   "cell_type": "markdown",
   "metadata": {},
   "source": [
    "# Aplicação dos modelos:\n",
    "\n",
    "Vou testar alguns modelos separadamente e na seguinte ordem:\n",
    "\n",
    "1. Árvore de decisão\n",
    "2. Random forest\n",
    "3. Logistic regression\n",
    "4. Naive Bayes\n",
    "5. SVM e Kernel SVM"
   ]
  },
  {
   "cell_type": "markdown",
   "metadata": {},
   "source": [
    "# 1. Árvore de decisão\n",
    "Comecei por esse pois é o modelo mais robusto a um dataprep mal feito."
   ]
  },
  {
   "cell_type": "code",
   "execution_count": null,
   "metadata": {
    "ExecuteTime": {
     "end_time": "2020-05-26T21:51:08.841799Z",
     "start_time": "2020-05-26T21:50:48.862Z"
    }
   },
   "outputs": [],
   "source": [
    "from sklearn.tree import (DecisionTreeClassifier\n",
    "                          , export)\n",
    "\n",
    "# classificador = DecisionTreeClassifier(criterion='entropy', random_state=0, max_depth=(len(x.columns)**0.5)*2)\n",
    "classificador = DecisionTreeClassifier(criterion='entropy'\n",
    "                                       , random_state=0\n",
    "                                       , max_depth=len(x_train_filtrado.columns))\n",
    "\n",
    "classificador.fit(x_train_filtrado, y_train)\n",
    "\n",
    "y_pred = classificador.predict(x_test_filtrado)"
   ]
  },
  {
   "cell_type": "code",
   "execution_count": null,
   "metadata": {
    "ExecuteTime": {
     "end_time": "2020-05-26T21:51:08.844799Z",
     "start_time": "2020-05-26T21:50:48.879Z"
    }
   },
   "outputs": [],
   "source": [
    "print(\"Métrica 1 (Acurácia): {:.6}.\\n\".format(accuracy_score(y_test, y_pred, normalize=True, sample_weight=None)))\n",
    "print(\"Métrica 2 (Relatório de classificação):\\n{}\\n\".format(classification_report(y_test, y_pred)))\n",
    "\n",
    "plot_confusion_matrix_2(y_test, y_pred, normalize=True);"
   ]
  },
  {
   "cell_type": "code",
   "execution_count": null,
   "metadata": {
    "ExecuteTime": {
     "end_time": "2020-05-26T21:51:08.847800Z",
     "start_time": "2020-05-26T21:50:48.887Z"
    }
   },
   "outputs": [],
   "source": [
    "feature_importance = pd.DataFrame(data=(classificador.feature_importances_).reshape(1,len(x_train_filtrado.columns))\n",
    "                                  , columns=x_train_filtrado.columns)\n",
    "\n",
    "feature_importance = feature_importance.T\n",
    "\n",
    "feature_importance.sort_values(by=0, ascending=False)"
   ]
  },
  {
   "cell_type": "markdown",
   "metadata": {},
   "source": [
    "# 2. Random forest\n",
    "Outro modelo robusto a um dataprep mal feito."
   ]
  },
  {
   "cell_type": "code",
   "execution_count": null,
   "metadata": {
    "ExecuteTime": {
     "end_time": "2020-05-26T21:51:08.850797Z",
     "start_time": "2020-05-26T21:50:48.898Z"
    }
   },
   "outputs": [],
   "source": [
    "from sklearn.ensemble import RandomForestClassifier\n",
    "\n",
    "classificador = RandomForestClassifier(n_estimators=40\n",
    "                                       , criterion='entropy'\n",
    "                                       , random_state=0\n",
    "                                       , max_depth=len(x_train_filtrado.columns))\n",
    "\n",
    "classificador.fit(x_train_filtrado, y_train)\n",
    "\n",
    "y_pred = classificador.predict(x_test_filtrado)"
   ]
  },
  {
   "cell_type": "code",
   "execution_count": null,
   "metadata": {
    "ExecuteTime": {
     "end_time": "2020-05-26T21:51:08.853797Z",
     "start_time": "2020-05-26T21:50:48.909Z"
    }
   },
   "outputs": [],
   "source": [
    "print(\"Métrica 1 (Acurácia): {:.6}.\\n\".format(accuracy_score(y_test, y_pred, normalize=True, sample_weight=None)))\n",
    "print(\"Métrica 2 (Relatório de classificação):\\n{}\\n\".format(classification_report(y_test, y_pred)))\n",
    "\n",
    "plot_confusion_matrix_2(y_test, y_pred, normalize=True);"
   ]
  },
  {
   "cell_type": "code",
   "execution_count": null,
   "metadata": {
    "ExecuteTime": {
     "end_time": "2020-05-26T21:51:08.856795Z",
     "start_time": "2020-05-26T21:50:48.921Z"
    }
   },
   "outputs": [],
   "source": [
    "feature_importance = pd.DataFrame(data=(classificador.feature_importances_).reshape(1,len(x_train_filtrado.columns))\n",
    "                                  , columns=x_train_filtrado.columns)\n",
    "\n",
    "feature_importance = feature_importance.T\n",
    "\n",
    "feature_importance.sort_values(by=0, ascending=False)"
   ]
  },
  {
   "cell_type": "markdown",
   "metadata": {},
   "source": [
    "# 3. Logistic regression"
   ]
  },
  {
   "cell_type": "code",
   "execution_count": null,
   "metadata": {
    "ExecuteTime": {
     "end_time": "2020-05-26T21:51:08.859799Z",
     "start_time": "2020-05-26T21:50:48.933Z"
    }
   },
   "outputs": [],
   "source": [
    "from sklearn.linear_model import LogisticRegression\n",
    "\n",
    "classificador = LogisticRegression(solver=\"lbfgs\"\n",
    "                                   , max_iter=500)\n",
    "classificador.fit(x_train_filtrado, y_train)\n",
    "\n",
    "y_pred = classificador.predict(x_test_filtrado)"
   ]
  },
  {
   "cell_type": "code",
   "execution_count": null,
   "metadata": {
    "ExecuteTime": {
     "end_time": "2020-05-26T21:51:08.861797Z",
     "start_time": "2020-05-26T21:50:48.946Z"
    }
   },
   "outputs": [],
   "source": [
    "print(\"Métrica 1 (Acurácia): {:.6}.\\n\".format(accuracy_score(y_test, y_pred, normalize=True, sample_weight=None)))\n",
    "print(\"Métrica 2 (Relatório de classificação):\\n{}\\n\".format(classification_report(y_test, y_pred)))\n",
    "\n",
    "plot_confusion_matrix_2(y_test, y_pred, normalize=True);"
   ]
  },
  {
   "cell_type": "markdown",
   "metadata": {},
   "source": [
    "# 4. Naive Bayes"
   ]
  },
  {
   "cell_type": "code",
   "execution_count": null,
   "metadata": {
    "ExecuteTime": {
     "end_time": "2020-05-26T21:51:08.865799Z",
     "start_time": "2020-05-26T21:50:48.966Z"
    }
   },
   "outputs": [],
   "source": [
    "from sklearn.naive_bayes import GaussianNB\n",
    "\n",
    "classificador = GaussianNB()\n",
    "classificador.fit(x_train_filtrado, y_train)\n",
    "\n",
    "y_pred = classificador.predict(x_test_filtrado)"
   ]
  },
  {
   "cell_type": "code",
   "execution_count": null,
   "metadata": {
    "ExecuteTime": {
     "end_time": "2020-05-26T21:51:08.867794Z",
     "start_time": "2020-05-26T21:50:48.979Z"
    }
   },
   "outputs": [],
   "source": [
    "print(\"Métrica 1 (Acurácia): {:.6}.\\n\".format(accuracy_score(y_test, y_pred, normalize=True, sample_weight=None)))\n",
    "print(\"Métrica 2 (Relatório de classificação):\\n{}\\n\".format(classification_report(y_test, y_pred)))\n",
    "\n",
    "plot_confusion_matrix_2(y_test, y_pred, normalize=True);"
   ]
  },
  {
   "cell_type": "markdown",
   "metadata": {},
   "source": [
    "# 5. SVM"
   ]
  },
  {
   "cell_type": "code",
   "execution_count": null,
   "metadata": {
    "ExecuteTime": {
     "end_time": "2020-05-26T21:51:08.870798Z",
     "start_time": "2020-05-26T21:50:48.986Z"
    }
   },
   "outputs": [],
   "source": [
    "from sklearn.svm import SVC\n",
    "\n",
    "classificador = SVC(kernel='linear', random_state=0)\n",
    "classificador.fit(x_train_filtrado, y_train)\n",
    "\n",
    "y_pred = classificador.predict(x_test_filtrado)"
   ]
  },
  {
   "cell_type": "code",
   "execution_count": null,
   "metadata": {
    "ExecuteTime": {
     "end_time": "2020-05-26T21:51:08.873798Z",
     "start_time": "2020-05-26T21:50:48.993Z"
    }
   },
   "outputs": [],
   "source": [
    "print(\"Métrica 1 (Acurácia): {:.6}.\\n\".format(accuracy_score(y_test, y_pred, normalize=True, sample_weight=None)))\n",
    "print(\"Métrica 2 (Relatório de classificação):\\n{}\\n\".format(classification_report(y_test, y_pred)))\n",
    "\n",
    "plot_confusion_matrix_2(y_test, y_pred, normalize=True);"
   ]
  },
  {
   "cell_type": "markdown",
   "metadata": {},
   "source": [
    "# 6. Kernel SVM"
   ]
  },
  {
   "cell_type": "code",
   "execution_count": null,
   "metadata": {
    "ExecuteTime": {
     "end_time": "2020-05-26T21:51:08.877799Z",
     "start_time": "2020-05-26T21:50:49.015Z"
    }
   },
   "outputs": [],
   "source": [
    "from sklearn.svm import SVC\n",
    "\n",
    "classificador = SVC(kernel='rbf', random_state=0, gamma=\"auto\")\n",
    "classificador.fit(x_train_filtrado, y_train)\n",
    "\n",
    "y_pred = classificador.predict(x_test_filtrado)"
   ]
  },
  {
   "cell_type": "code",
   "execution_count": null,
   "metadata": {
    "ExecuteTime": {
     "end_time": "2020-05-26T21:51:08.881801Z",
     "start_time": "2020-05-26T21:50:49.024Z"
    }
   },
   "outputs": [],
   "source": [
    "print(\"Métrica 1 (Acurácia): {:.6}.\\n\".format(accuracy_score(y_test, y_pred, normalize=True, sample_weight=None)))\n",
    "print(\"Métrica 2 (Relatório de classificação):\\n{}\\n\".format(classification_report(y_test, y_pred)))\n",
    "\n",
    "plot_confusion_matrix_2(y_test, y_pred, normalize=True);"
   ]
  },
  {
   "cell_type": "markdown",
   "metadata": {},
   "source": [
    "Sumarizando os resultados e usando a **acurácia como métrica de comparação**, temos:\n",
    "\n",
    "1. Árvore de decisão: 0,75\n",
    "2. Random forest: 0,77\n",
    "3. Logistic regression: 0,68 \n",
    "4. Naive Bayes: 0,64\n",
    "5. SVM: 0,64\n",
    "6. Kernel SVM: 0,73\n",
    "\n",
    "**Conclusão da comparação de modelos:** O modelo obtido usando a técnica Random Forest possui a maior acurácia e, portanto, usaremos esse modelo para o resto do notebook. **IMPORTANTÍSSIMO** salientar que não otimizamos os hiperparâmetros de cada modelo e há espaço para melhoria de cada um."
   ]
  },
  {
   "cell_type": "markdown",
   "metadata": {},
   "source": [
    "# Comparando os conjuntos de atributos\n",
    "\n",
    "Nessa seção, faremos uma comparação entre os conjuntos de parâmetros obtidos com cada técnica de seleção de atributos.\n",
    "\n",
    "Do **Fisher score** pegaremos:"
   ]
  },
  {
   "cell_type": "code",
   "execution_count": null,
   "metadata": {
    "ExecuteTime": {
     "end_time": "2020-05-26T21:51:08.888802Z",
     "start_time": "2020-05-26T21:50:49.046Z"
    }
   },
   "outputs": [],
   "source": [
    "atributos_fisher"
   ]
  },
  {
   "cell_type": "markdown",
   "metadata": {},
   "source": [
    "Do **ROC-AUC para uma variável** pegaremos:"
   ]
  },
  {
   "cell_type": "code",
   "execution_count": null,
   "metadata": {
    "ExecuteTime": {
     "end_time": "2020-05-26T21:51:08.892796Z",
     "start_time": "2020-05-26T21:50:49.059Z"
    }
   },
   "outputs": [],
   "source": [
    "atributos_roc_auc"
   ]
  },
  {
   "cell_type": "markdown",
   "metadata": {},
   "source": [
    "Do **Boruta**, já usamos, mas reforço que usamos:"
   ]
  },
  {
   "cell_type": "code",
   "execution_count": null,
   "metadata": {
    "ExecuteTime": {
     "end_time": "2020-05-26T21:51:08.895802Z",
     "start_time": "2020-05-26T21:50:49.081Z"
    }
   },
   "outputs": [],
   "source": [
    "atributos_boruta"
   ]
  },
  {
   "cell_type": "markdown",
   "metadata": {},
   "source": [
    "## Aplicando a random forest em cada conjunto de atributos:"
   ]
  },
  {
   "cell_type": "code",
   "execution_count": null,
   "metadata": {
    "ExecuteTime": {
     "end_time": "2020-05-26T21:51:08.897798Z",
     "start_time": "2020-05-26T21:50:49.092Z"
    }
   },
   "outputs": [],
   "source": [
    "listas_conjuntos_atributos = [atributos_fisher, atributos_roc_auc, atributos_boruta]\n",
    "\n",
    "listas_conjuntos_nomes = [\"Fischer score\", \"ROC-AUC para uma variável\", \"Boruta\"]\n",
    "\n",
    "acuracia_modelos = {}\n",
    "\n",
    "for i, lista in enumerate(listas_conjuntos_atributos):\n",
    "    x_train_filtrado = x_train[lista]\n",
    "    x_test_filtrado = x_test[lista]\n",
    "    \n",
    "    classificador = RandomForestClassifier(n_estimators=40\n",
    "                                           , criterion='entropy'\n",
    "                                           , random_state=0\n",
    "                                           , max_depth=len(x_train_filtrado.columns))\n",
    "    \n",
    "    classificador.fit(x_train_filtrado, y_train)\n",
    "    \n",
    "    y_pred = classificador.predict(x_test_filtrado)\n",
    "    \n",
    "    acuracia_modelos[listas_conjuntos_nomes[i]] = [accuracy_score(y_test, y_pred, normalize=True, sample_weight=None)\n",
    "                                                   , len(lista)\n",
    "                                                   , lista]\n",
    "    \n",
    "#     print(\"-\"*50)\n",
    "#     print(listas_conjuntos_nomes[i])\n",
    "#     print(\"Métrica (Relatório de classificação):\\n{}\\n\".format(classification_report(y_test, y_pred)))\n",
    "#     print(\"-\"*50)\n",
    "    \n",
    "\n",
    "acuracia_modelos = pd.DataFrame.from_dict(data=acuracia_modelos\n",
    "                                          , orient=\"index\"\n",
    "                                          , columns=[\"Acurácia\", \"Qtd atributos\", \"Lista de atributos\"])\n",
    "acuracia_modelos"
   ]
  },
  {
   "cell_type": "markdown",
   "metadata": {},
   "source": [
    "**Conclusão da comparação de modelos:** Os atributos obtidos com a técnica Fisher score resultaram num modelo que teve a maior acurácia, quase 4% maior que o modelo obtido com os atributos selecionados pela técnica boruta e com apenas 1 atributo a mais que o selecionado pelo Boruta.\n",
    "A partir deste ponto, usarei os atributos selecionados pela técnica Fischer Score."
   ]
  },
  {
   "cell_type": "markdown",
   "metadata": {},
   "source": [
    "# Parte final: Refinando o modelo\n",
    "Agora com o modelo selecionado (Random Forest) e os atributos selecionados (Reason for absence, Transportation expense, Distance from Residence to Work, Disciplinary failure, Son), vamos refinar o modelo e finalizar esse notebook.\n",
    "\n",
    "Primeiro, vamos otimizar os hiperparâmetros usando **Grid search**."
   ]
  },
  {
   "cell_type": "markdown",
   "metadata": {},
   "source": [
    "## Grid Search"
   ]
  },
  {
   "cell_type": "code",
   "execution_count": null,
   "metadata": {
    "ExecuteTime": {
     "end_time": "2020-05-26T21:51:08.901798Z",
     "start_time": "2020-05-26T21:50:49.104Z"
    }
   },
   "outputs": [],
   "source": [
    "x_train_filtrado = x_train[atributos_fisher]\n",
    "x_test_filtrado = x_test[atributos_fisher]"
   ]
  },
  {
   "cell_type": "code",
   "execution_count": null,
   "metadata": {
    "ExecuteTime": {
     "end_time": "2020-05-26T21:51:08.904795Z",
     "start_time": "2020-05-26T21:50:49.114Z"
    }
   },
   "outputs": [],
   "source": [
    "parametros = {\"n_estimators\": range(10, 30, 5)\n",
    "              , \"criterion\": [\"gini\", \"entropy\"]\n",
    "              , \"max_depth\": range(int(len(x_train_filtrado.columns)**0.5), len(x_train_filtrado.columns))\n",
    "              , \"class_weight\": [\"balanced\", \"balanced_subsample\", None]}"
   ]
  },
  {
   "cell_type": "code",
   "execution_count": null,
   "metadata": {
    "ExecuteTime": {
     "end_time": "2020-05-26T21:51:08.906796Z",
     "start_time": "2020-05-26T21:50:49.123Z"
    }
   },
   "outputs": [],
   "source": [
    "from sklearn.model_selection import GridSearchCV\n",
    "\n",
    "classificador = RandomForestClassifier()\n",
    "\n",
    "classificador_grid_search = GridSearchCV(classificador\n",
    "                                         , parametros\n",
    "                                         , cv=5\n",
    "                                         , n_jobs=-1\n",
    "                                         , scoring=\"accuracy\")\n",
    "\n",
    "classificador_grid_search.fit(x_train_filtrado, y_train)"
   ]
  },
  {
   "cell_type": "code",
   "execution_count": null,
   "metadata": {
    "ExecuteTime": {
     "end_time": "2020-05-26T21:51:08.909799Z",
     "start_time": "2020-05-26T21:50:49.131Z"
    }
   },
   "outputs": [],
   "source": [
    "classificador_grid_search.best_params_"
   ]
  },
  {
   "cell_type": "code",
   "execution_count": null,
   "metadata": {
    "ExecuteTime": {
     "end_time": "2020-05-26T21:51:08.914798Z",
     "start_time": "2020-05-26T21:50:49.136Z"
    }
   },
   "outputs": [],
   "source": [
    "classificador = RandomForestClassifier(n_estimators=20\n",
    "                                       , criterion=\"entropy\"\n",
    "                                       , max_depth=4\n",
    "                                       , class_weight=None)\n",
    "\n",
    "classificador.fit(x_train_filtrado, y_train)\n",
    "\n",
    "y_pred = classificador.predict(x_test_filtrado)\n",
    "\n",
    "print(\"Métrica 1 (Acurácia): {:.6}.\\n\".format(accuracy_score(y_test, y_pred, normalize=True, sample_weight=None)))\n",
    "print(\"Métrica 2 (Relatório de classificação):\\n{}\\n\".format(classification_report(y_test, y_pred)))\n",
    "\n",
    "plot_confusion_matrix_2(y_test, y_pred, normalize=True);"
   ]
  },
  {
   "cell_type": "code",
   "execution_count": null,
   "metadata": {},
   "outputs": [],
   "source": []
  }
 ],
 "metadata": {
  "hide_input": false,
  "kernelspec": {
   "display_name": "Python 3.7.6 64-bit ('base': conda)",
   "language": "python",
   "name": "python_defaultSpec_1596860331564"
  },
  "language_info": {
   "codemirror_mode": {
    "name": "ipython",
    "version": 3
   },
   "file_extension": ".py",
   "mimetype": "text/x-python",
   "name": "python",
   "nbconvert_exporter": "python",
   "pygments_lexer": "ipython3",
   "version": "3.7.6-final"
  },
  "toc": {
   "base_numbering": 1,
   "nav_menu": {},
   "number_sections": true,
   "sideBar": true,
   "skip_h1_title": false,
   "title_cell": "Table of Contents",
   "title_sidebar": "Contents",
   "toc_cell": false,
   "toc_position": {
    "height": "calc(100% - 180px)",
    "left": "10px",
    "top": "150px",
    "width": "273.188px"
   },
   "toc_section_display": true,
   "toc_window_display": true
  }
 },
 "nbformat": 4,
 "nbformat_minor": 2
}