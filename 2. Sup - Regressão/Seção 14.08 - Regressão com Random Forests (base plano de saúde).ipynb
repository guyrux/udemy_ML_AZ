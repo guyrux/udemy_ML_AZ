{
 "cells": [
  {
   "cell_type": "markdown",
   "metadata": {},
   "source": [
    "# Seção 14.08 - Regressão com Random Forests (base plano de saúde)\n",
    "Para esta seção, usarei a base de dados plano_saude.csv do curso do Prof. Jones Granatyr."
   ]
  },
  {
   "cell_type": "code",
   "execution_count": 1,
   "metadata": {},
   "outputs": [],
   "source": [
    "# Instruções basiconas de sempre.\n",
    "\n",
    "# Lidar com dataframes.\n",
    "import numpy as np\n",
    "import pandas as pd\n",
    "\n",
    "# Lidar com gráficos.\n",
    "import matplotlib.pyplot as plt\n",
    "import seaborn as sns\n",
    "import plotly\n",
    "from bokeh.plotting import figure\n",
    "from bokeh.io import (show,\n",
    "                      output_notebook)\n",
    "from plotting import (multiple_histograms_plot,\n",
    "                      bar_plot_with_categorical,\n",
    "                      plot_confusion_matrix,\n",
    "                      plot_confusion_matrix_2,\n",
    "                      plot_roc)\n",
    "\n",
    "# Lidar com preparação de dados.\n",
    "from data_prep import data_prep as dp # Eu que fiz esse modulinho (\"uuuuuuuuuma bosta!\").\n",
    "from sklearn.impute import SimpleImputer\n",
    "from sklearn.preprocessing import StandardScaler\n",
    "from sklearn.model_selection import (train_test_split,\n",
    "                                     cross_val_score,\n",
    "                                     StratifiedKFold)\n",
    "\n",
    "# Lidar com validação de modelos.\n",
    "from sklearn.metrics import (confusion_matrix,\n",
    "                             accuracy_score,\n",
    "                             classification_report)\n",
    "\n",
    "pd.set_option('display.max_columns', None)  \n",
    "pd.set_option('display.max_colwidth', -1)\n",
    "pd.set_option('display.max_rows', 500)"
   ]
  },
  {
   "cell_type": "code",
   "execution_count": 2,
   "metadata": {},
   "outputs": [],
   "source": [
    "nomeDaBase = \"../bases/plano_saude2.csv\"\n",
    "df = pd.read_csv(nomeDaBase, sep=\",\", encoding=\"utf-8\")"
   ]
  },
  {
   "cell_type": "code",
   "execution_count": 3,
   "metadata": {},
   "outputs": [
    {
     "data": {
      "text/html": [
       "<div>\n",
       "<style scoped>\n",
       "    .dataframe tbody tr th:only-of-type {\n",
       "        vertical-align: middle;\n",
       "    }\n",
       "\n",
       "    .dataframe tbody tr th {\n",
       "        vertical-align: top;\n",
       "    }\n",
       "\n",
       "    .dataframe thead th {\n",
       "        text-align: right;\n",
       "    }\n",
       "</style>\n",
       "<table border=\"1\" class=\"dataframe\">\n",
       "  <thead>\n",
       "    <tr style=\"text-align: right;\">\n",
       "      <th></th>\n",
       "      <th>0</th>\n",
       "      <th>1</th>\n",
       "      <th>2</th>\n",
       "      <th>3</th>\n",
       "      <th>4</th>\n",
       "    </tr>\n",
       "  </thead>\n",
       "  <tbody>\n",
       "    <tr>\n",
       "      <th>idade</th>\n",
       "      <td>18</td>\n",
       "      <td>23</td>\n",
       "      <td>28</td>\n",
       "      <td>33</td>\n",
       "      <td>38</td>\n",
       "    </tr>\n",
       "    <tr>\n",
       "      <th>custo</th>\n",
       "      <td>470</td>\n",
       "      <td>520</td>\n",
       "      <td>630</td>\n",
       "      <td>830</td>\n",
       "      <td>1150</td>\n",
       "    </tr>\n",
       "  </tbody>\n",
       "</table>\n",
       "</div>"
      ],
      "text/plain": [
       "         0    1    2    3     4\n",
       "idade  18   23   28   33   38  \n",
       "custo  470  520  630  830  1150"
      ]
     },
     "execution_count": 3,
     "metadata": {},
     "output_type": "execute_result"
    }
   ],
   "source": [
    "df.head(5).T"
   ]
  },
  {
   "cell_type": "code",
   "execution_count": 4,
   "metadata": {},
   "outputs": [
    {
     "name": "stdout",
     "output_type": "stream",
     "text": [
      "<class 'pandas.core.frame.DataFrame'>\n",
      "RangeIndex: 10 entries, 0 to 9\n",
      "Data columns (total 2 columns):\n",
      "idade    10 non-null int64\n",
      "custo    10 non-null int64\n",
      "dtypes: int64(2)\n",
      "memory usage: 240.0 bytes\n"
     ]
    }
   ],
   "source": [
    "df.info()"
   ]
  },
  {
   "cell_type": "code",
   "execution_count": 5,
   "metadata": {},
   "outputs": [
    {
     "data": {
      "text/html": [
       "<div>\n",
       "<style scoped>\n",
       "    .dataframe tbody tr th:only-of-type {\n",
       "        vertical-align: middle;\n",
       "    }\n",
       "\n",
       "    .dataframe tbody tr th {\n",
       "        vertical-align: top;\n",
       "    }\n",
       "\n",
       "    .dataframe thead th {\n",
       "        text-align: right;\n",
       "    }\n",
       "</style>\n",
       "<table border=\"1\" class=\"dataframe\">\n",
       "  <thead>\n",
       "    <tr style=\"text-align: right;\">\n",
       "      <th></th>\n",
       "      <th>count</th>\n",
       "      <th>mean</th>\n",
       "      <th>std</th>\n",
       "      <th>min</th>\n",
       "      <th>25%</th>\n",
       "      <th>50%</th>\n",
       "      <th>75%</th>\n",
       "      <th>max</th>\n",
       "    </tr>\n",
       "  </thead>\n",
       "  <tbody>\n",
       "    <tr>\n",
       "      <th>idade</th>\n",
       "      <td>10.0</td>\n",
       "      <td>40.5</td>\n",
       "      <td>15.138252</td>\n",
       "      <td>18.0</td>\n",
       "      <td>29.25</td>\n",
       "      <td>40.5</td>\n",
       "      <td>51.75</td>\n",
       "      <td>63.0</td>\n",
       "    </tr>\n",
       "    <tr>\n",
       "      <th>custo</th>\n",
       "      <td>10.0</td>\n",
       "      <td>2545.0</td>\n",
       "      <td>3021.005168</td>\n",
       "      <td>470.0</td>\n",
       "      <td>680.00</td>\n",
       "      <td>1340.0</td>\n",
       "      <td>2820.00</td>\n",
       "      <td>10100.0</td>\n",
       "    </tr>\n",
       "  </tbody>\n",
       "</table>\n",
       "</div>"
      ],
      "text/plain": [
       "       count    mean          std    min     25%     50%      75%      max\n",
       "idade  10.0   40.5    15.138252    18.0   29.25   40.5    51.75    63.0   \n",
       "custo  10.0   2545.0  3021.005168  470.0  680.00  1340.0  2820.00  10100.0"
      ]
     },
     "execution_count": 5,
     "metadata": {},
     "output_type": "execute_result"
    }
   ],
   "source": [
    "df.describe().T"
   ]
  },
  {
   "cell_type": "markdown",
   "metadata": {},
   "source": [
    "### Breve análise da  base:\n",
    "- não há nulos;\n",
    "- só existem duas variáveis, a idade (variável independente) e o custo (variável dependente); e\n",
    "- não há valores que apresentam incosistências (ex.: negativos quando não é possível)."
   ]
  },
  {
   "cell_type": "markdown",
   "metadata": {},
   "source": [
    "# Comparação entre regressão linear simples e regressão com random forests\n",
    "\n",
    "## 1. regressão linear simples"
   ]
  },
  {
   "cell_type": "code",
   "execution_count": 6,
   "metadata": {},
   "outputs": [],
   "source": [
    "# Separando os fatores/previsores da resposta/target:\n",
    "    \n",
    "x = df.iloc[:, 0].values.reshape(-1,1)\n",
    "y = df.iloc[:, 1].values.reshape(-1,1)\n",
    " \n",
    "# IMPORTANTE! Tive que fazer um reshape nos valores de x e y."
   ]
  },
  {
   "cell_type": "code",
   "execution_count": 7,
   "metadata": {},
   "outputs": [],
   "source": [
    "from sklearn.linear_model import LinearRegression\n",
    "regressor = LinearRegression()\n",
    "\n",
    "regressor.fit(x, y)\n",
    "\n",
    "y_pred = regressor.predict(x)"
   ]
  },
  {
   "cell_type": "code",
   "execution_count": 8,
   "metadata": {},
   "outputs": [
    {
     "name": "stdout",
     "output_type": "stream",
     "text": [
      "Intercepto = -4081.782\n",
      "Coeficiente = 163.624\n"
     ]
    }
   ],
   "source": [
    "print(\"Intercepto = {:.3f}\".format(regressor.intercept_[0]))\n",
    "print(\"Coeficiente = {:.3f}\".format(regressor.coef_[0][0]))"
   ]
  },
  {
   "cell_type": "markdown",
   "metadata": {},
   "source": [
    "### Visualisando:"
   ]
  },
  {
   "cell_type": "code",
   "execution_count": 9,
   "metadata": {},
   "outputs": [],
   "source": [
    "reta_x = np.linspace(min(x), max(x),10).reshape(-1,1)\n",
    "reta_y = regressor.predict(reta_x)\n",
    "reta_df = np.concatenate((reta_x, reta_y), axis=1)\n",
    "reta_df = pd.DataFrame(reta_df, columns=(\"idade\", \"custo\"))"
   ]
  },
  {
   "cell_type": "code",
   "execution_count": 10,
   "metadata": {},
   "outputs": [
    {
     "data": {
      "image/png": "[encoded data removed]",
      "text/plain": [
       "<Figure size 720x360 with 1 Axes>"
      ]
     },
     "metadata": {},
     "output_type": "display_data"
    }
   ],
   "source": [
    "sns.set()\n",
    "dimensoes = (10,5)\n",
    "fig, ax = plt.subplots(figsize=dimensoes)\n",
    "ax.set(xlim = (min(reta_x)-5, max(reta_x)+5),ylim=(min(reta_y)-5, max(reta_y)+5))\n",
    "ax = sns.scatterplot(x=\"idade\", y=\"custo\", data=df, alpha=0.75);\n",
    "ax = sns.lineplot(x=\"idade\", y=\"custo\", data=reta_df, alpha=.75, color=\"red\");"
   ]
  },
  {
   "cell_type": "markdown",
   "metadata": {},
   "source": [
    "### Verificando o como o modelo se saiu"
   ]
  },
  {
   "cell_type": "code",
   "execution_count": 11,
   "metadata": {},
   "outputs": [
    {
     "name": "stdout",
     "output_type": "stream",
     "text": [
      "MSE: 2691915.879\n",
      "RMSE: 1640.706\n",
      "MAE: 1289.745\n",
      "R2: 0.672\n",
      "R2 Ajustado: 0.631\n"
     ]
    }
   ],
   "source": [
    "from sklearn.metrics import mean_absolute_error, mean_squared_error, r2_score\n",
    "\n",
    "print(\"MSE: {:.3f}\".format(mean_squared_error(y, y_pred)))\n",
    "print(\"RMSE: {:.3f}\".format(np.sqrt(mean_squared_error(y, y_pred))))\n",
    "print(\"MAE: {:.3f}\".format(mean_absolute_error(y, y_pred)))\n",
    "# print(\"MAPE:, \", mean_absolute_percentage_error(y_test, y_pred))\n",
    "print(\"R2: {:.3f}\".format(r2_score(y, y_pred)))\n",
    "\n",
    "################################################################################\n",
    "# Cálculo do R2 ajustado:\n",
    "def r2_ajustado(x, y, y_pred):\n",
    "    \"\"\"\n",
    "    r2_ajustado retorna o R² Ajustado e recebe como argumento as séries com o\n",
    "    valor alvo teste e o predito.\n",
    "    \"\"\"\n",
    "    n = x.shape[0]\n",
    "    k = x.shape[1]\n",
    "    return (1-((n-1)/(n-(k+1)))*(1-r2_score(y, y_pred)))\n",
    "################################################################################\n",
    "\n",
    "print(\"R2 Ajustado: {:.3}\".format(r2_ajustado(x, y, y_pred)))"
   ]
  },
  {
   "cell_type": "code",
   "execution_count": 12,
   "metadata": {},
   "outputs": [
    {
     "data": {
      "image/png": "[encoded data removed]",
      "text/plain": [
       "<Figure size 720x360 with 2 Axes>"
      ]
     },
     "metadata": {},
     "output_type": "display_data"
    }
   ],
   "source": [
    "from yellowbrick.regressor import ResidualsPlot\n",
    "\n",
    "sns.set()\n",
    "dimensoes = (10,5)\n",
    "fig, ax = plt.subplots(figsize=dimensoes)\n",
    "\n",
    "visualizador = ResidualsPlot(regressor)\n",
    "visualizador.fit(x, y)\n",
    "visualizador.poof();"
   ]
  },
  {
   "cell_type": "markdown",
   "metadata": {},
   "source": [
    "## 2. Regressão com random forests"
   ]
  },
  {
   "cell_type": "code",
   "execution_count": 13,
   "metadata": {},
   "outputs": [],
   "source": [
    "from sklearn.ensemble import RandomForestRegressor"
   ]
  },
  {
   "cell_type": "code",
   "execution_count": 15,
   "metadata": {},
   "outputs": [
    {
     "name": "stderr",
     "output_type": "stream",
     "text": [
      "C:\\ProgramData\\Anaconda3\\lib\\site-packages\\ipykernel_launcher.py:2: DataConversionWarning:\n",
      "\n",
      "A column-vector y was passed when a 1d array was expected. Please change the shape of y to (n_samples,), for example using ravel().\n",
      "\n"
     ]
    }
   ],
   "source": [
    "regressorTree = RandomForestRegressor(n_estimators=10, criterion=\"mae\")\n",
    "regressorTree.fit(x, y)\n",
    "\n",
    "y_tree_pred = regressorTree.predict(x)"
   ]
  },
  {
   "cell_type": "markdown",
   "metadata": {},
   "source": [
    "### Visualisando:"
   ]
  },
  {
   "cell_type": "code",
   "execution_count": 20,
   "metadata": {},
   "outputs": [],
   "source": [
    "reta_x = np.linspace(min(x)-0.5, max(x)+0.5,450).reshape(-1,1)\n",
    "reta_y = regressorTree.predict(reta_x).reshape(-1,1)\n",
    "reta_df = np.concatenate((reta_x, reta_y), axis=1)\n",
    "reta_df = pd.DataFrame(reta_df, columns=(\"idade\", \"custo\"))"
   ]
  },
  {
   "cell_type": "code",
   "execution_count": 21,
   "metadata": {},
   "outputs": [
    {
     "data": {
      "image/png": "[encoded data removed]",
      "text/plain": [
       "<Figure size 720x360 with 1 Axes>"
      ]
     },
     "metadata": {},
     "output_type": "display_data"
    }
   ],
   "source": [
    "sns.set()\n",
    "dimensoes = (10,5)\n",
    "fig, ax = plt.subplots(figsize=dimensoes)\n",
    "ax.set(xlim = (min(reta_x)-5, max(reta_x)+5),ylim=(min(reta_y)-5, max(reta_y)+5))\n",
    "ax = sns.scatterplot(x=\"idade\", y=\"custo\", data=df, alpha=0.75);\n",
    "ax = sns.lineplot(x=\"idade\", y=\"custo\", data=reta_df, alpha=.75, color=\"red\");"
   ]
  },
  {
   "cell_type": "markdown",
   "metadata": {},
   "source": [
    "### Verificando o como o modelo se saiu"
   ]
  },
  {
   "cell_type": "code",
   "execution_count": null,
   "metadata": {},
   "outputs": [],
   "source": [
    "from sklearn.metrics import mean_absolute_error, mean_squared_error, r2_score\n",
    "\n",
    "print(\"MSE: {:.3f}\".format(mean_squared_error(y, y_tree_pred)))\n",
    "print(\"RMSE: {:.3f}\".format(np.sqrt(mean_squared_error(y, y_tree_pred))))\n",
    "print(\"MAE: {:.3f}\".format(mean_absolute_error(y, y_tree_pred)))\n",
    "# print(\"MAPE:, \", mean_absolute_percentage_error(y_test, y_pred))\n",
    "print(\"R2: {:.3f}\".format(r2_score(y, y_tree_pred)))\n",
    "\n",
    "################################################################################\n",
    "# Cálculo do R2 ajustado:\n",
    "def r2_ajustado(x, y, y_pred):\n",
    "    \"\"\"\n",
    "    r2_ajustado retorna o R² Ajustado e recebe como argumento as séries com o\n",
    "    valor alvo teste e o predito.\n",
    "    \"\"\"\n",
    "    n = x.shape[0]\n",
    "    k = x.shape[1]\n",
    "    return (1-((n-1)/(n-(k+1)))*(1-r2_score(y, y_pred)))\n",
    "################################################################################\n",
    "\n",
    "print(\"R2 Ajustado: {:.3}\".format(r2_ajustado(x, y, y_tree_pred)))"
   ]
  }
 ],
 "metadata": {
  "kernelspec": {
   "display_name": "Python 3",
   "language": "python",
   "name": "python3"
  },
  "language_info": {
   "codemirror_mode": {
    "name": "ipython",
    "version": 3
   },
   "file_extension": ".py",
   "mimetype": "text/x-python",
   "name": "python",
   "nbconvert_exporter": "python",
   "pygments_lexer": "ipython3",
   "version": "3.7.0"
  }
 },
 "nbformat": 4,
 "nbformat_minor": 2
}
