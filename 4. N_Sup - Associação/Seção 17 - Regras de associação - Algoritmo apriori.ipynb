{
 "cells": [
  {
   "cell_type": "markdown",
   "metadata": {},
   "source": [
    "# Seção 17 - Regras de associação - Algoritmo apriori\n",
    "\n"
   ]
  },
  {
   "cell_type": "markdown",
   "metadata": {},
   "source": [
    "O algoritmo é dividido em duas fases:\n",
    "\n",
    "## Fase 1\n",
    "Descobrir todos os conjuntos de itens com **suporte** maior ou igual ao mínimo especificadopelo usuário.\n",
    "\n",
    "## Fase 2\n",
    "A partir dos conjuntos de itens frequentes, descobrir regras de associação com fator de **confiança** maior ou igual ao especificadopelo usuário."
   ]
  }
 ],
 "metadata": {
  "kernelspec": {
   "display_name": "Python 3",
   "language": "python",
   "name": "python3"
  },
  "language_info": {
   "codemirror_mode": {
    "name": "ipython",
    "version": 3
   },
   "file_extension": ".py",
   "mimetype": "text/x-python",
   "name": "python",
   "nbconvert_exporter": "python",
   "pygments_lexer": "ipython3",
   "version": "3.7.0"
  }
 },
 "nbformat": 4,
 "nbformat_minor": 2
}
